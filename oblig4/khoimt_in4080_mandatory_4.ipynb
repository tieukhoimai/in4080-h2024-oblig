{
 "cells": [
  {
   "cell_type": "markdown",
   "metadata": {},
   "source": [
    "# IN4080: obligatory assignment 4\n",
    " \n",
    "The final mandatory assignment for IN4080 consists of two parts. The first is about the development of dialogue systems, and the second about machine translation.\n",
    "You are required to get at least 12/20 points to pass. \n",
    "\n",
    "- We assume that you have read and are familiar with IFI’s requirements and guidelines for mandatory assignments, see [here](https://www.uio.no/english/studies/examinations/compulsory-activities/mn-ifi-mandatory.html) and [here](https://www.uio.no/english/studies/examinations/compulsory-activities/mn-ifi-guidelines.html).\n",
    "- This is an individual assignment. You should not deliver joint submissions. \n",
    "- You may redeliver in Devilry before the deadline (__Sunday, November 3 at 23:59__).\n",
    "- Only the last delivery will be read! If you deliver more than one file, put them into a zip-archive. You don't have to include in your delivery the data files already provided for this assignment. \n",
    "- Name your submission _your\\_username\\_in4080\\_mandatory\\_4_\n",
    "\n",
    "Part 1 should be done on your local computer, as it relies on a speech interface that will not work on remote machines. For Part 2, using _Fox_ is preferable, at least for the fine-tuning task.\n",
    "\n",
    "You should deliver a completed version of this Jupyter notebook, containing both your code and explanations about the steps you followed. We want to stress that simply submitting code is __not__ by itself sufficient to complete the assignment - we expect the notebook to also contain explanations of what you have implemented, along with motivations for the choices you made along the way. Preferably use whole sentences, and mathematical formulas if necessary. Explaining in your own words (using concepts we have covered through in the lectures) what you have implemented and reflecting on your solution is an important part of the learning process - take it seriously!\n",
    "\n",
    "Regarding the use of LLMs (ChatGPT or similar): you are allowed to use them as 'sparring partner', for instance to clarify something you have not understood. However, you are __not__ allowed to use them to generate solutions (either in part or in full) to the assignment tasks. \n"
   ]
  },
  {
   "cell_type": "markdown",
   "metadata": {},
   "source": [
    "## Part 1 : Dialogue systems"
   ]
  },
  {
   "cell_type": "markdown",
   "metadata": {},
   "source": [
    "Our objective in this part is to build a spoken conversational interface for a (simulated) elevator. \n",
    "\n",
    "### Basic setup\n",
    "\n",
    "First, let's make sure that we have all the necessary Python modules:"
   ]
  },
  {
   "cell_type": "code",
   "execution_count": 2,
   "metadata": {},
   "outputs": [],
   "source": [
    "# %pip install ipywidgets pyaudio openai-whisper pyttsx3 setfit spacy jellyfish\n",
    "# !python -m spacy download en_core_web_sm"
   ]
  },
  {
   "cell_type": "markdown",
   "metadata": {},
   "source": [
    "The code for the simulated elevator is provided below. The elevator is displayed using simple widgets (where the current floor is shown in green). "
   ]
  },
  {
   "cell_type": "code",
   "execution_count": 3,
   "metadata": {},
   "outputs": [],
   "source": [
    "import ipywidgets as widgets\n",
    "from IPython.display import display\n",
    "\n",
    "import time, random, string, threading\n",
    "from typing import List, Tuple, Dict, Set\n",
    "\n",
    "class BasicElevator:\n",
    "    \"\"\"Elevator simulated using a GUI\"\"\"\n",
    "    \n",
    "    def __init__(self, start_floor:int =1, nb_floors=10):\n",
    "        \"\"\"Initialised a new elevator, placed on the first floor\"\"\"\n",
    "        \n",
    "        # Current floor of the elevator\n",
    "        self.cur_floor: int = start_floor\n",
    "\n",
    "        # (Possibly empty) list of next floor stops to reach \n",
    "        self.next_stops : List[int] = []\n",
    "        \n",
    "        # Building the basic GUI showing the elevator\n",
    "        display(self._build_gui(nb_floors))\n",
    "\n",
    "        # Starts the thread executing the movements\n",
    "        thread = threading.Thread(target=self.elevator_move_thread)\n",
    "        thread.start()     \n",
    "            \n",
    "    def move_to_floor(self, floor_number : int):\n",
    "        \"\"\"Move to a given floor (by adding it to a stack of floors to reach)\"\"\"\n",
    "        \n",
    "        if floor_number < 1 or floor_number > len(self.floors):\n",
    "            raise RuntimeError(\"Floor number must be between 1 and %i\"%len(self.floors))\n",
    "\n",
    "        self.next_stops.append(floor_number)\n",
    "        \n",
    "        \n",
    "    def stop(self):\n",
    "        \"\"\"Stops all movements of the elevator\"\"\"\n",
    "        self.next_stops.clear()\n",
    "\n",
    "    def _build_gui(self, nb_floors):\n",
    "        \"\"\"Creates the GUI for the elevator, with a status label and a visual representation\n",
    "        of the floors, where the current floor is indicated in green.\"\"\"\n",
    "\n",
    "        # Displaying the current status of the elevator (still or going up or down)\n",
    "        status_label = widgets.HTML(\"<b>Status</b>: \")\n",
    "        self.status = widgets.Label(\"Still\")\n",
    "        status_box = widgets.HBox([status_label, self.status])\n",
    "\n",
    "        # Displaying the floors on a vertical axis\n",
    "        self.floors = []\n",
    "        floor_layout = widgets.Layout(width='50px', height='30px', border='2px solid black',justify_content=\"center\")\n",
    "        for i in range(1, nb_floors+1):\n",
    "            floor = widgets.Label(value=str(i), layout=floor_layout)\n",
    "            floor.style = {\"background\":(\"white\" if i!=self.cur_floor else \"lightgreen\")}\n",
    "            self.floors.append(floor)\n",
    "\n",
    "        # Create a vertical box container to hold the boxes\n",
    "        vbox = widgets.VBox([status_box] + self.floors[::-1])\n",
    "        return vbox\n",
    "    \n",
    "\n",
    "    def elevator_move_thread(self, speed=1.0, latency=0.1):\n",
    "        \"\"\"Trigger a movement of the elevator if the list of next stops is not \n",
    "        empty. The movement continues until all goals are reached.\"\"\"\n",
    "\n",
    "        while True:\n",
    "            while self.next_stops:\n",
    "                if self.cur_floor == self.next_stops[0]:\n",
    "                    del self.next_stops[0]\n",
    "                    continue\n",
    "                if self.cur_floor < self.next_stops[0]:\n",
    "                    next_floor = self.cur_floor+1\n",
    "                    self.status.value = \"UP\"\n",
    "                elif self.cur_floor > self.next_stops[0]:\n",
    "                    next_floor = self.cur_floor-1\n",
    "                    self.status.value = \"DOWN\"\n",
    "                time.sleep(speed)   \n",
    "                self.floors[self.cur_floor-1].style.background = \"white\"\n",
    "                self.floors[next_floor-1].style.background = \"lightgreen\"\n",
    "                self.cur_floor = next_floor\n",
    "            self.status.value = \"Still\"\n",
    "            \n",
    "            # Wait loop (until we have a goal in self.next_stops)\n",
    "            time.sleep(latency)"
   ]
  },
  {
   "cell_type": "markdown",
   "metadata": {},
   "source": [
    "The elevator can be easily controlled through the functions `move_to_floor` and `stop`:"
   ]
  },
  {
   "cell_type": "code",
   "execution_count": 4,
   "metadata": {},
   "outputs": [
    {
     "data": {
      "application/vnd.jupyter.widget-view+json": {
       "model_id": "4b2750d04cd9441ba944ae9153ba83a9",
       "version_major": 2,
       "version_minor": 0
      },
      "text/plain": [
       "VBox(children=(HBox(children=(HTML(value='<b>Status</b>: '), Label(value='Still'))), Label(value='10', layout=…"
      ]
     },
     "metadata": {},
     "output_type": "display_data"
    }
   ],
   "source": [
    "elevator = BasicElevator()\n",
    "elevator.move_to_floor(5)"
   ]
  },
  {
   "cell_type": "markdown",
   "metadata": {},
   "source": [
    "We will now make our elevator controllable through a speech interface instead of using function calls.\n",
    "\n",
    "## Speech interface\n",
    "\n",
    "First, make sure that you have installed `pyaudio` (for audio processing), `whisper` (for speech recognition), and `pyttsx3` (for speech synthesis).\n",
    "\n",
    "The `TalkingElevator` class below extends the basic simulated elevator with speech input and output. \n",
    "\n",
    "Upon clicking on the recording button, speech is recorded from the user's microphone, and continues until the stop button is clicked. The speech recognition engine `Whisper` from OpenAI is then employed to transcribe the spoken input (either on GPU, if you have a GPU on your machine, or on CPU). The transcription result is then sent to the `process_input` function, which is responsible for determining the system response. \n",
    "\n",
    "We are going to focus on implementing this `process_input` method. Note this system reaction to new user inputs may comprise both verbal responses (to be uttered by the system through the `_say_to_user` method) and physical actions (through the `move_to_floor` and `stop` methods)."
   ]
  },
  {
   "cell_type": "code",
   "execution_count": null,
   "metadata": {},
   "outputs": [],
   "source": [
    "import threading, time\n",
    "import numpy as np\n",
    "from typing import List, Tuple, Dict, Set\n",
    "import whisper, pyaudio, pyttsx3\n",
    "import warnings\n",
    "warnings.simplefilter(action='ignore', category=FutureWarning)\n",
    "\n",
    "class TalkingElevator(BasicElevator):\n",
    "    \"\"\"Extension of the simulated elevator with a speech interface\"\"\"\n",
    "    \n",
    "    def __init__(self):\n",
    "        print(\"Loading TTS and ASR models\", end=\"...\", flush=True)\n",
    "        self.tts_engine = pyttsx3.init()  \n",
    "        self.asr_engine = whisper.load_model(\"small.en\")\n",
    "        print(\"Done\")\n",
    "        \n",
    "        # Initializing the GUI\n",
    "        BasicElevator.__init__(self)\n",
    "\n",
    "        # Starts the dialogue\n",
    "        self.dialogue_history = []\n",
    "        self._say_to_user(\"Hi, what can I do for you today?\")\n",
    "    \n",
    "\n",
    "    def process_input(self, user_input: str, conf_score:float=1.0):\n",
    "        \"\"\"Processes the (transcribed) user input, and respond appropriately \n",
    "        (through a verbal response and possibly also an action, such as moving floors)\"\"\"\n",
    "\n",
    "        self._add_to_dialogue_history(user_input, speaker=\"user\", conf_score=conf_score)\n",
    "\n",
    "        # Dummy response. Should be replaced by the actual dialogue behaviour\n",
    "        self._say_to_user(\"Sorry, I don't understand you, pal\")\n",
    "\n",
    "    \n",
    "    def _say_to_user(self, system_response: str):\n",
    "        \"\"\"Say something back to the user, and add the dialogue turn to the history. The \n",
    "        synthesis is done using the pyttsx3 library.\"\"\"\n",
    "\n",
    "        self._add_to_dialogue_history(system_response, speaker=\"elevator\")\n",
    "        \n",
    "        # Stopping current TTS if one is active\n",
    "        try:\n",
    "            self.tts_engine.endLoop()\n",
    "        except:\n",
    "            pass\n",
    "        self.tts_engine.say(system_response)\n",
    "        self.tts_engine.runAndWait()\n",
    "\n",
    "\n",
    "    def _add_to_dialogue_history(self, turn:str , speaker:str, conf_score:float=1.0):\n",
    "        \"\"\"Adds a new (user or system) turn to the dialogue history list, and displays it\n",
    "         on the chat window displaying the turns\"\"\"\n",
    "\n",
    "        self.dialogue_history.append({\"speaker\":speaker, \"text\":turn, \n",
    "                                      \"conf_score\":conf_score, \"timesamp\":time.time()})\n",
    "        \n",
    "        self.history_area.value += \"&nbsp;<strong>%s</strong>:  %s\"%(speaker.title(), turn)\n",
    "        if conf_score < 1.0:\n",
    "            self.history_area.value += \" (%.2f)\"%(conf_score)\n",
    "        self.history_area.value += \"<br>\"\n",
    "   \n",
    "   \n",
    "    def _build_gui(self, nb_floors):\n",
    "        \"\"\"GUI for the Talking elevator, comprising (beyond the simulated elevator from \n",
    "        BasicElevator) a chat window showing the dialogue turns, and buttons to record\n",
    "        the user input. \n",
    "        The user should first click on the record button, then on stop when they have finished.\n",
    "        Once the stop button is clicked, the audio is transcribed by Whisper, and finally \n",
    "        forwarded to the process_input function.\"\"\"\n",
    "\n",
    "        core_gui = BasicElevator._build_gui(self, nb_floors)\n",
    "\n",
    "        self.frames = []\n",
    "        self.recording = False\n",
    "\n",
    "        def record(chunk_size=1024):\n",
    "            \"\"\"Record audio chunks to a buffer.\"\"\"\n",
    "            self.recording = True\n",
    "            p = pyaudio.PyAudio()\n",
    "            stream = p.open(format=pyaudio.paInt16, channels=1, rate=16000, input=True, \n",
    "                            frames_per_buffer=chunk_size)\n",
    "            while self.recording:\n",
    "                self.frames.append(stream.read(chunk_size))\n",
    "            stream.close()\n",
    "\n",
    "        def on_record_button_clicked(b):\n",
    "            \"Starts the recording\"\n",
    "            record_button.disabled=True\n",
    "            stop_button.disabled=False\n",
    "            self.frames = []  # Clear previous recordings\n",
    "            thread = threading.Thread(target=record)\n",
    "            thread.start()\n",
    "\n",
    "        def on_stop_button_clicked(b):\n",
    "            \"stops the recording, runs Whisper, and forward the result to process_input\"\n",
    "            self.recording = False\n",
    "            record_button.disabled=False\n",
    "            stop_button.disabled=True\n",
    "            audio_data = np.frombuffer(b\"\".join(self.frames), np.int16).astype(np.float32) * (1 / 32768.0)\n",
    "            output = self.asr_engine.transcribe(audio_data)\n",
    "\n",
    "            # We define the confidence score based on the log-probabilities\n",
    "            conf_score = np.exp(np.mean([segment[\"avg_logprob\"] for segment in output[\"segments\"]]))\n",
    "            # (and we push those up a bit, as the Whisper scores seem too low)\n",
    "            conf_score = min(1, conf_score*1.2)\n",
    "\n",
    "            # Finally, we process the input\n",
    "            self.process_input(output[\"text\"], conf_score)\n",
    "\n",
    "        # The record and stop buttons\n",
    "        record_button = widgets.Button(icon=\"microphone\")\n",
    "        stop_button = widgets.Button(icon=\"stop\", disabled=True)\n",
    "        record_button.on_click(on_record_button_clicked)\n",
    "        stop_button.on_click(on_stop_button_clicked)\n",
    "        \n",
    "        # The chat area\n",
    "        self.history_area = widgets.HTML(layout=widgets.Layout(width=\"600px\", height=\"300px\", \n",
    "                                                               border='1px solid black', overflow='scroll'))\n",
    "\n",
    "        # The right side of the GUI\n",
    "        right_side = widgets.VBox([widgets.Label(\"\"), self.history_area, widgets.HBox([record_button, stop_button])])\n",
    "        \n",
    "        extended_gui = widgets.HBox([core_gui, right_side])\n",
    "        return extended_gui\n"
   ]
  },
  {
   "cell_type": "markdown",
   "metadata": {},
   "source": [
    "Let's give it a try:"
   ]
  },
  {
   "cell_type": "code",
   "execution_count": 6,
   "metadata": {},
   "outputs": [
    {
     "name": "stdout",
     "output_type": "stream",
     "text": [
      "Loading TTS and ASR models...Done\n"
     ]
    },
    {
     "data": {
      "application/vnd.jupyter.widget-view+json": {
       "model_id": "699a9d275fc04f44a81a77c6d3302efd",
       "version_major": 2,
       "version_minor": 0
      },
      "text/plain": [
       "HBox(children=(VBox(children=(HBox(children=(HTML(value='<b>Status</b>: '), Label(value='Still'))), Label(valu…"
      ]
     },
     "metadata": {},
     "output_type": "display_data"
    }
   ],
   "source": [
    "elevator = TalkingElevator()"
   ]
  },
  {
   "cell_type": "markdown",
   "metadata": {},
   "source": [
    "We hope that the speech recognition and speech synthesis will work correctly -- if it isn't the case, do let us know ! (audio processing in Python can be quite tricky and will work differently from OS to OS). [^1]\n",
    "\n",
    "[^1]: If you are running on Linux and the TTS is not working, install the following packages on your machine: `sudo apt update && sudo apt install espeak ffmpeg libespeak1`\n",
    "\n",
    "**Note**: The current implementation reloads the TTS and ASR models every time, which means that you may run into a \"CUDA: out of memory\" error if you reinitialise the `TalkingElevator` many times. If this happens, simply restart the Python kernel, which will clear the memory on both the CPU and the GPU. "
   ]
  },
  {
   "cell_type": "markdown",
   "metadata": {},
   "source": [
    "\n",
    "### Intent recognition\n",
    "\n",
    "We wish our talking elevator to support the following functionalities:\n",
    " \n",
    "- If the user express a wish to go to floor $X$ (where $X$ is an integer value between 1 and 10), the elevator should go to that floor. The interface should allow for several ways to express a given intent, such as \"_Please go to the $X$-th floor_\" or \"_Floor $X$, please_\".\n",
    "- The user requests can also be relative, for instance \"_Go one floor up_\".\n",
    "- The elevator should provide _grounding_ feedback to the user. For instance, it should respond \"_Ok, going to the $X$-th floor_\" after a user request to move to $X$.  \n",
    "- The elevator should handle misunderstandings and uncertainties, e.g. by requesting the user to repeat, or asking the user to confirm if the intent is uncertain (say, when its confidence score is lower than 0.5). \n",
    "- The elevator should also allow the user to ask where the office of a given employee is located. For instance, the user could ask \"_where is Erik Velldal's office?_\", and the elevator would provide a response such as \"_The office of Erik Velldal is on the 4th floor. Do you wish to go there?_\".  We provide you with the office numbers of a small set of IFI employees in the `OFFICES` dictionary (see below).\n",
    "- The elevator should also be able to inform the user about the current floor (such as replying to \"_Which floor are we on?_\" or \"_Are we on the 5th floor?_\"). \n",
    "- Finally, if the user asks the elevator to stop (or if the user says \"_no_\" after a grounding feedback \"_Ok, going to floor $X$._\"), the elevator should stop, and ask for clarification regarding the actual user intent. \n",
    "\n",
    "To implement this conversational behaviour, we will rely on a classical NLU-based approach in which we will recognise the user _intent_, and then determine a response based on the recognised intent(s). \n",
    "\n",
    "__Task 1.1__ (1 point): You first need to define a list of user intents that cover the kinds of user inputs you expect to observe in this talking elevator, such as `RequestMoveToFloor` or `Confirm`. This is a design question, and there is no obvious right or wrong answer. Define below the intents you want to cover, along with an explanation and a few examples of user inputs for each.\n"
   ]
  },
  {
   "cell_type": "markdown",
   "metadata": {},
   "source": [
    "<!-- Provide here the list of intent classes you have defined, together with an explanation and a few examples -->\n",
    "**Answer:**\n",
    "\n",
    "1. `RequestMoveToFloor`: This intent is used when the user wants to move to a specific floor. Examples: \"Please go to the 5th floor\", \"Floor 3, please\", \"I want to go to the 7th floor\".\n",
    "2. `RequestMoveRelative`: This intent is used when the user wants to move to a floor relative to the current floor. Examples: \"Go one floor up\", \"Move two floors down\", \"Take me to the floor above\".\n",
    "3. `RequestOfficeLocation`: This intent is used when the user wants to know the location of an employee's office. Examples: \"Where is Erik's office?\", \"Can you tell me where the office of Erik is?\", \"I need to know where Erik's office is\".\n",
    "4. `RequestCurrentFloor`: This intent is used when the user wants to know the current floor. Examples: \"Which floor are we on?\", \"Are we on the 5th floor?\", \"Can you tell me the current floor?\".\n",
    "5. `Confirm`: This intent is used when the user confirms the elevator's response. Examples: \"Yes\", \"That's correct\", \"I confirm\".\n",
    "6. `Stop`: This intent is used when the user wants the elevator to stop. Examples: \"Stop\", \"I want to stop\", \"Please stop\".\n",
    "7. `Repeat`: This intent is used when the user wants the elevator to repeat the last response. Examples: \"Can you repeat that?\", \"I didn't hear you\", \"What did you say?\"."
   ]
  },
  {
   "cell_type": "markdown",
   "metadata": {},
   "source": [
    "__Task 1.2__ (1 points): We wish to build a classifier any user input to a probability distribution over those intents, and start by creating a small, synthetic training set. Make a list of about 100 user utterances, each labelled with an intent defined above. You can \"make up\" those utterances yourself, or ask someone else to come with alternative formulations if you lack inspiration."
   ]
  },
  {
   "cell_type": "code",
   "execution_count": 41,
   "metadata": {},
   "outputs": [],
   "source": [
    "labelled_utterances = [\n",
    "    # RequestMoveToFloor Intent\n",
    "    (\"Go to floor 1\", \"RequestMoveToFloor\"),\n",
    "    (\"Take me to floor 2\", \"RequestMoveToFloor\"),\n",
    "    (\"Please go up to the 5th floor\", \"RequestMoveToFloor\"),\n",
    "    (\"Take me to the top floor\", \"RequestMoveToFloor\"),\n",
    "    (\"I’d like to go to floor 3\", \"RequestMoveToFloor\"),\n",
    "    (\"Move to floor 4\", \"RequestMoveToFloor\"),\n",
    "    (\"Take us to the first floor\", \"RequestMoveToFloor\"),\n",
    "    (\"Bring me to the highest floor\", \"RequestMoveToFloor\"),\n",
    "    (\"Could we go to floor 6?\", \"RequestMoveToFloor\"),\n",
    "    (\"Can you take me to floor 8?\", \"RequestMoveToFloor\"),\n",
    "    (\"Please move to floor 7\", \"RequestMoveToFloor\"),\n",
    "    (\"I’d like to go down to the first floor\", \"RequestMoveToFloor\"),\n",
    "    (\"Take us up to floor 10\", \"RequestMoveToFloor\"),\n",
    "    (\"Let's go to floor 9\", \"RequestMoveToFloor\"),\n",
    "    (\"Bring me to floor 2\", \"RequestMoveToFloor\"),\n",
    "    (\"Elevator, please move to floor 3\", \"RequestMoveToFloor\"),\n",
    "    (\"Take me down to the ground floor\", \"RequestMoveToFloor\"),\n",
    "    (\"Take me up a floor\", \"RequestMoveToFloor\"),\n",
    "    (\"Let's head to floor 5\", \"RequestMoveToFloor\"),\n",
    "    (\"I want to go to floor 1\", \"RequestMoveToFloor\"),\n",
    "    (\"Take me to the basement\", \"RequestMoveToFloor\"),\n",
    "    (\"Could you take me down?\", \"RequestMoveToFloor\"),\n",
    "    (\"Let’s head down\", \"RequestMoveToFloor\"),\n",
    "    (\"Will you take me to the rooftop?\", \"RequestMoveToFloor\"),\n",
    "    (\"I'd like to visit floor 7\", \"RequestMoveToFloor\"),\n",
    "    (\"Could you stop at floor 3?\", \"RequestMoveToFloor\"),\n",
    "    (\"Take me to the middle floor\", \"RequestMoveToFloor\"),\n",
    "    (\"Bring me down to the lobby\", \"RequestMoveToFloor\"),\n",
    "    (\"Take me down to floor 2\", \"RequestMoveToFloor\"),\n",
    "    (\"Let's ride to floor 6\", \"RequestMoveToFloor\"),\n",
    "    (\"Please go up to floor 4\", \"RequestMoveToFloor\"),\n",
    "    (\"Take us down to the entrance\", \"RequestMoveToFloor\"),\n",
    "    (\"Elevator, take me to floor 8\", \"RequestMoveToFloor\"),\n",
    "    (\"Go up a floor, please\", \"RequestMoveToFloor\"),\n",
    "    (\"Take us to floor 3\", \"RequestMoveToFloor\"),\n",
    "    (\"Let's stop at floor 5\", \"RequestMoveToFloor\"),\n",
    "    (\"Move to floor 10\", \"RequestMoveToFloor\"),\n",
    "    (\"Let’s reach the top floor\", \"RequestMoveToFloor\"),\n",
    "    (\"Let's proceed to floor 4\", \"RequestMoveToFloor\"),\n",
    "    (\"Bring us to the lowest level\", \"RequestMoveToFloor\"),\n",
    "    (\"I'd like to head up to floor 9\", \"RequestMoveToFloor\"),\n",
    "    (\"Let’s go to floor 1\", \"RequestMoveToFloor\"),\n",
    "    (\"Head to the second level\", \"RequestMoveToFloor\"),\n",
    "\n",
    "    # RequestMoveRelative Intent\n",
    "    (\"Go one floor up\", \"RequestMoveRelative\"),\n",
    "    (\"Move two floors down\", \"RequestMoveRelative\"),\n",
    "    (\"Take me to the floor above\", \"RequestMoveRelative\"),\n",
    "    (\"Go up one floor\", \"RequestMoveRelative\"),\n",
    "    (\"Move down a floor\", \"RequestMoveRelative\"),\n",
    "    (\"Take me one floor down\", \"RequestMoveRelative\"),\n",
    "    (\"Go up two floors\", \"RequestMoveRelative\"),\n",
    "    (\"Move up one level\", \"RequestMoveRelative\"),\n",
    "    (\"Take me down two floors\", \"RequestMoveRelative\"),\n",
    "    (\"Move up a floor\", \"RequestMoveRelative\"),\n",
    "\n",
    "    # RequestOfficeLocation Intent\n",
    "    (\"Where is Erik's office?\", \"RequestOfficeLocation\"),\n",
    "    (\"Can you tell me where the office of Erik is?\", \"RequestOfficeLocation\"),\n",
    "    (\"I need to know where Erik's office is\", \"RequestOfficeLocation\"),\n",
    "    (\"Where is Erik Velldal's office?\", \"RequestOfficeLocation\"),\n",
    "    (\"Can you tell me where Erik Velldal's office is?\", \"RequestOfficeLocation\"),\n",
    "    (\"I need to know where Erik Velldal's office is\", \"RequestOfficeLocation\"),\n",
    "    (\"Where is the office of Erik Velldal?\", \"RequestOfficeLocation\"),\n",
    "    (\"Can you tell me where the office of Erik Velldal is?\", \"RequestOfficeLocation\"),\n",
    "    (\"I need to know where the office of Erik Velldal is\", \"RequestOfficeLocation\"),\n",
    "\n",
    "    # RequestCurrentFloor Intent\n",
    "    (\"Which floor are we on?\", \"RequestCurrentFloor\"),\n",
    "    (\"Are we on the 5th floor?\", \"RequestCurrentFloor\"),\n",
    "    (\"Can you tell me the current floor?\", \"RequestCurrentFloor\"),\n",
    "    (\"What floor are we on?\", \"RequestCurrentFloor\"),\n",
    "    (\"Are we on floor 5?\", \"RequestCurrentFloor\"),\n",
    "    (\"Which floor is this?\", \"RequestCurrentFloor\"),\n",
    "    (\"What floor is this?\", \"RequestCurrentFloor\"),\n",
    "    (\"Can you tell me which floor we are on?\", \"RequestCurrentFloor\"),\n",
    "    (\"Are we on the fifth floor?\", \"RequestCurrentFloor\"),\n",
    "\n",
    "    # Confirm Intent\n",
    "    (\"Yes\", \"Confirm\"),\n",
    "    (\"That's correct\", \"Confirm\"),\n",
    "    (\"I confirm\", \"Confirm\"),\n",
    "    (\"Sure\", \"Confirm\"),\n",
    "    (\"Absolutely\", \"Confirm\"),\n",
    "    (\"Correct\", \"Confirm\"),\n",
    "    (\"Indeed\", \"Confirm\"),\n",
    "    (\"Affirmative\", \"Confirm\"),\n",
    "    (\"Right\", \"Confirm\"),\n",
    "\n",
    "    # Stop Intent\n",
    "    (\"Stop\", \"Stop\"),\n",
    "    (\"I want to stop\", \"Stop\"),\n",
    "    (\"Please stop\", \"Stop\"),\n",
    "    (\"Can you stop here?\", \"Stop\"),\n",
    "    (\"Stop the elevator\", \"Stop\"),\n",
    "    (\"Stop moving\", \"Stop\"),\n",
    "    (\"Stop at the next floor\", \"Stop\"),\n",
    "    (\"Stop the elevator at once\", \"Stop\"),\n",
    "    (\"End the ride\", \"Stop\"),\n",
    "    (\"Stop right here\", \"Stop\"),\n",
    "    (\"Stop the lift\", \"Stop\"),\n",
    "    (\"Can you wait here?\", \"Stop\"),\n",
    "    (\"Stop immediately\", \"Stop\"),\n",
    "    (\"Let’s halt here\", \"Stop\"),\n",
    "    (\"Stop the elevator for me\", \"Stop\"),\n",
    "    (\"Elevator, stop now\", \"Stop\"),\n",
    "    (\"Can you pause here?\", \"Stop\"),\n",
    "\n",
    "    # Repeat Intent\n",
    "    (\"Can you repeat that?\", \"Repeat\"),\n",
    "    (\"I didn't hear you\", \"Repeat\"),\n",
    "    (\"What did you say?\", \"Repeat\"),\n",
    "    (\"Could you say that again?\", \"Repeat\"),\n",
    "    (\"Please repeat\", \"Repeat\"),\n",
    "    (\"Say that again\", \"Repeat\"),\n",
    "    (\"Repeat that\", \"Repeat\"),\n",
    "    (\"I missed that\", \"Repeat\"),\n",
    "    (\"Can you say that again?\", \"Repeat\"),\n",
    "\n",
    "    # OutOfCoverage Intent\n",
    "    (\"I don’t need a ride\", \"OutOfCoverage\"),\n",
    "    (\"Close the door\", \"OutOfCoverage\"),\n",
    "    (\"Let's take the stairs\", \"OutOfCoverage\"),\n",
    "    (\"How many floors are there?\", \"OutOfCoverage\"),\n",
    "    (\"Are you on a break?\", \"OutOfCoverage\"),\n",
    "    (\"I don't need the elevator\", \"OutOfCoverage\"),\n",
    "    (\"Is the elevator moving fast?\", \"OutOfCoverage\"),\n",
    "    (\"Are you stopping at every floor?\", \"OutOfCoverage\"),\n",
    "    (\"Is anyone else here?\", \"OutOfCoverage\"),\n",
    "    (\"I really like the IN4080 course\", \"OutOfCoverage\")\n",
    "]"
   ]
  },
  {
   "cell_type": "markdown",
   "metadata": {},
   "source": [
    "We will now train an intent classifier based on the labelled utterances you have defined. To do so, we will rely on the [SetFit](https://huggingface.co/docs/setfit/index) library, which allows one to easily train a text classification model from few examples by fine-tuning a sentence-transformer model (like the ones we used in oblig 2 and 3). Make sure that the `setfit` library is installed (`pip install setfit`).\n",
    "\n",
    "Read the [Setfit quickstart guide](https://huggingface.co/docs/setfit/quickstart) to find out how to use the library.\n",
    "\n",
    "__Task 1.3__ (2 points): Implement the `__init__`, `train` and `get_intent_distrib` methods of the `IntentClassifier` class below. The classifier should rely on a `Setfit` model trained on the labelled utterances you have already defined. "
   ]
  },
  {
   "cell_type": "code",
   "execution_count": 43,
   "metadata": {},
   "outputs": [],
   "source": [
    "import setfit\n",
    "from setfit import SetFitModel, Trainer, TrainingArguments\n",
    "import datasets\n",
    "from typing import List, Tuple, Dict\n",
    "\n",
    "class IntentClassifier:\n",
    "\n",
    "    def __init__(self, model_name=\"sentence-transformers/paraphrase-mpnet-base-v2\"):\n",
    "        \"\"\"Initializes the SetFit model for intent recognition.\"\"\"\n",
    "        self.model = SetFitModel.from_pretrained(model_name)\n",
    "        self.id2label = {}  # To store mapping from label IDs to label names\n",
    "        self.label2id = {}  # To store mapping from label names to label IDs\n",
    "        self.trainer = None  # Placeholder for the trainer\n",
    "\n",
    "    def train(self, labelled_utterances: List[Tuple[str, str]]):\n",
    "        \"\"\"Trains the SetFit model on the labelled utterances.\"\"\"\n",
    "\n",
    "        # Extract unique labels for the intents and create label mappings\n",
    "        # Extract unique labels for the intents and create label mappings\n",
    "        intents = sorted(set(label for _, label in labelled_utterances))  # Sorted for consistent ID mapping\n",
    "        self.label2id = {intent: i for i, intent in enumerate(intents)}\n",
    "        self.id2label = {i: intent for intent, i in self.label2id.items()}\n",
    "\n",
    "        # Creates the dataset from the list of labelled utterances\n",
    "        train_data = datasets.Dataset.from_list([\n",
    "            {\"text\": utt, \"label\": self.label2id[label]} for utt, label in labelled_utterances\n",
    "        ])\n",
    "        \n",
    "        args = TrainingArguments(\n",
    "            batch_size=32,\n",
    "            num_epochs=10,\n",
    "        )\n",
    "        \n",
    "        self.trainer = Trainer(\n",
    "            model=self.model,\n",
    "            args=args,\n",
    "            train_dataset=train_data,\n",
    "        )\n",
    "\n",
    "        self.trainer.train()\n",
    "\n",
    "    def get_intent_distrib(self, utterance: str) -> Dict[str, float]:\n",
    "        \"\"\"Applies the trained model on a new utterance and returns a dictionary mapping\n",
    "        each intent to its probability.\"\"\"\n",
    "\n",
    "        # Get probabilities for each intent\n",
    "        probabilities = self.model.predict_proba([utterance])[0]\n",
    "\n",
    "        # Map each probability to its corresponding intent label\n",
    "        intent_distribution = {\n",
    "            self.id2label[i]: prob.item() for i, prob in enumerate(probabilities)\n",
    "        }\n",
    "        \n",
    "        return intent_distribution"
   ]
  },
  {
   "cell_type": "code",
   "execution_count": 44,
   "metadata": {},
   "outputs": [
    {
     "name": "stderr",
     "output_type": "stream",
     "text": [
      "model_head.pkl not found on HuggingFace Hub, initialising classification head with random weights. You should TRAIN this model on a downstream task to use it for predictions and inference.\n",
      "/Users/khoimai/Documents/uio/in4080/oblig_in4080_h2024/.venv/lib/python3.12/site-packages/datasets/utils/_dill.py:385: DeprecationWarning: co_lnotab is deprecated, use co_lines instead.\n",
      "  obj.co_lnotab,  # for < python 3.10 [not counted in args]\n"
     ]
    },
    {
     "data": {
      "application/vnd.jupyter.widget-view+json": {
       "model_id": "caae4f713b35464f8bbffaf8a5abccad",
       "version_major": 2,
       "version_minor": 0
      },
      "text/plain": [
       "Map:   0%|          | 0/116 [00:00<?, ? examples/s]"
      ]
     },
     "metadata": {},
     "output_type": "display_data"
    },
    {
     "name": "stderr",
     "output_type": "stream",
     "text": [
      "***** Running training *****\n",
      "  Num unique pairs = 10794\n",
      "  Batch size = 32\n",
      "  Num epochs = 10\n"
     ]
    },
    {
     "data": {
      "application/vnd.jupyter.widget-view+json": {
       "model_id": "6efe98951bb64b6a90bf8f0da76e2d14",
       "version_major": 2,
       "version_minor": 0
      },
      "text/plain": [
       "  0%|          | 0/3380 [00:00<?, ?it/s]"
      ]
     },
     "metadata": {},
     "output_type": "display_data"
    },
    {
     "name": "stdout",
     "output_type": "stream",
     "text": [
      "{'embedding_loss': 0.1644, 'grad_norm': 0.9339766502380371, 'learning_rate': 5.91715976331361e-08, 'epoch': 0.0}\n",
      "{'embedding_loss': 0.154, 'grad_norm': 0.7327700853347778, 'learning_rate': 2.958579881656805e-06, 'epoch': 0.15}\n",
      "{'embedding_loss': 0.1145, 'grad_norm': 0.6400843858718872, 'learning_rate': 5.91715976331361e-06, 'epoch': 0.3}\n",
      "{'embedding_loss': 0.0636, 'grad_norm': 0.34832996129989624, 'learning_rate': 8.875739644970414e-06, 'epoch': 0.44}\n",
      "{'embedding_loss': 0.0259, 'grad_norm': 0.40534529089927673, 'learning_rate': 1.183431952662722e-05, 'epoch': 0.59}\n",
      "{'embedding_loss': 0.0106, 'grad_norm': 0.14236658811569214, 'learning_rate': 1.4792899408284025e-05, 'epoch': 0.74}\n",
      "{'embedding_loss': 0.003, 'grad_norm': 0.09258803725242615, 'learning_rate': 1.7751479289940828e-05, 'epoch': 0.89}\n",
      "{'embedding_loss': 0.0022, 'grad_norm': 0.0409281961619854, 'learning_rate': 1.9921104536489153e-05, 'epoch': 1.04}\n",
      "{'embedding_loss': 0.0014, 'grad_norm': 0.385511577129364, 'learning_rate': 1.9592373438527285e-05, 'epoch': 1.18}\n",
      "{'embedding_loss': 0.0011, 'grad_norm': 0.02344314008951187, 'learning_rate': 1.9263642340565417e-05, 'epoch': 1.33}\n",
      "{'embedding_loss': 0.001, 'grad_norm': 0.01664850302040577, 'learning_rate': 1.8934911242603552e-05, 'epoch': 1.48}\n"
     ]
    },
    {
     "data": {
      "application/vnd.jupyter.widget-view+json": {
       "model_id": "4693426fe44741fca34c1e243a784156",
       "version_major": 2,
       "version_minor": 0
      },
      "text/plain": [
       "Computing widget examples:   0%|          | 0/1 [00:00<?, ?example/s]"
      ]
     },
     "metadata": {},
     "output_type": "display_data"
    },
    {
     "name": "stdout",
     "output_type": "stream",
     "text": [
      "{'embedding_loss': 0.0008, 'grad_norm': 0.020420070737600327, 'learning_rate': 1.8606180144641684e-05, 'epoch': 1.63}\n",
      "{'embedding_loss': 0.0007, 'grad_norm': 0.016306841745972633, 'learning_rate': 1.827744904667982e-05, 'epoch': 1.78}\n",
      "{'embedding_loss': 0.0007, 'grad_norm': 0.01920117624104023, 'learning_rate': 1.794871794871795e-05, 'epoch': 1.92}\n",
      "{'embedding_loss': 0.0005, 'grad_norm': 0.010478561744093895, 'learning_rate': 1.7619986850756083e-05, 'epoch': 2.07}\n",
      "{'embedding_loss': 0.0007, 'grad_norm': 0.008270319551229477, 'learning_rate': 1.7291255752794215e-05, 'epoch': 2.22}\n",
      "{'embedding_loss': 0.0005, 'grad_norm': 0.015562576241791248, 'learning_rate': 1.696252465483235e-05, 'epoch': 2.37}\n",
      "{'embedding_loss': 0.0005, 'grad_norm': 0.009582655504345894, 'learning_rate': 1.6633793556870482e-05, 'epoch': 2.51}\n",
      "{'embedding_loss': 0.0005, 'grad_norm': 0.018521921709179878, 'learning_rate': 1.6305062458908614e-05, 'epoch': 2.66}\n",
      "{'embedding_loss': 0.0005, 'grad_norm': 0.011736877262592316, 'learning_rate': 1.5976331360946746e-05, 'epoch': 2.81}\n",
      "{'embedding_loss': 0.0004, 'grad_norm': 0.008900749497115612, 'learning_rate': 1.5647600262984878e-05, 'epoch': 2.96}\n",
      "{'embedding_loss': 0.0004, 'grad_norm': 0.01506624836474657, 'learning_rate': 1.5318869165023013e-05, 'epoch': 3.11}\n",
      "{'embedding_loss': 0.0004, 'grad_norm': 0.007626376114785671, 'learning_rate': 1.4990138067061146e-05, 'epoch': 3.25}\n",
      "{'embedding_loss': 0.0006, 'grad_norm': 0.009205399081110954, 'learning_rate': 1.4661406969099278e-05, 'epoch': 3.4}\n",
      "{'embedding_loss': 0.0004, 'grad_norm': 0.00837397575378418, 'learning_rate': 1.4332675871137412e-05, 'epoch': 3.55}\n",
      "{'embedding_loss': 0.0004, 'grad_norm': 0.008549406193196774, 'learning_rate': 1.4003944773175544e-05, 'epoch': 3.7}\n",
      "{'embedding_loss': 0.0003, 'grad_norm': 0.012444774620234966, 'learning_rate': 1.3675213675213677e-05, 'epoch': 3.85}\n",
      "{'embedding_loss': 0.0003, 'grad_norm': 0.009361347183585167, 'learning_rate': 1.334648257725181e-05, 'epoch': 3.99}\n",
      "{'embedding_loss': 0.0003, 'grad_norm': 0.009856103919446468, 'learning_rate': 1.3017751479289941e-05, 'epoch': 4.14}\n",
      "{'embedding_loss': 0.0003, 'grad_norm': 0.010530955158174038, 'learning_rate': 1.2689020381328075e-05, 'epoch': 4.29}\n",
      "{'embedding_loss': 0.0003, 'grad_norm': 0.011521571315824986, 'learning_rate': 1.2360289283366206e-05, 'epoch': 4.44}\n",
      "{'embedding_loss': 0.0003, 'grad_norm': 0.010788215324282646, 'learning_rate': 1.203155818540434e-05, 'epoch': 4.59}\n",
      "{'embedding_loss': 0.0003, 'grad_norm': 0.006504354998469353, 'learning_rate': 1.1702827087442472e-05, 'epoch': 4.73}\n",
      "{'embedding_loss': 0.0003, 'grad_norm': 0.013649241998791695, 'learning_rate': 1.1374095989480607e-05, 'epoch': 4.88}\n",
      "{'embedding_loss': 0.0003, 'grad_norm': 0.007513107266277075, 'learning_rate': 1.1045364891518739e-05, 'epoch': 5.03}\n",
      "{'embedding_loss': 0.0003, 'grad_norm': 0.012354259379208088, 'learning_rate': 1.0716633793556873e-05, 'epoch': 5.18}\n",
      "{'embedding_loss': 0.0003, 'grad_norm': 0.007340843323618174, 'learning_rate': 1.0387902695595004e-05, 'epoch': 5.33}\n",
      "{'embedding_loss': 0.0003, 'grad_norm': 0.007502961903810501, 'learning_rate': 1.0059171597633138e-05, 'epoch': 5.47}\n",
      "{'embedding_loss': 0.0002, 'grad_norm': 0.007253319025039673, 'learning_rate': 9.73044049967127e-06, 'epoch': 5.62}\n",
      "{'embedding_loss': 0.0003, 'grad_norm': 0.009836316108703613, 'learning_rate': 9.401709401709402e-06, 'epoch': 5.77}\n",
      "{'embedding_loss': 0.0002, 'grad_norm': 0.007844530045986176, 'learning_rate': 9.072978303747535e-06, 'epoch': 5.92}\n",
      "{'embedding_loss': 0.0005, 'grad_norm': 0.00978369265794754, 'learning_rate': 8.744247205785667e-06, 'epoch': 6.07}\n",
      "{'embedding_loss': 0.0003, 'grad_norm': 0.007030921056866646, 'learning_rate': 8.4155161078238e-06, 'epoch': 6.21}\n",
      "{'embedding_loss': 0.0002, 'grad_norm': 0.017000610008835793, 'learning_rate': 8.086785009861934e-06, 'epoch': 6.36}\n",
      "{'embedding_loss': 0.0007, 'grad_norm': 0.010083389468491077, 'learning_rate': 7.758053911900066e-06, 'epoch': 6.51}\n",
      "{'embedding_loss': 0.0002, 'grad_norm': 0.00821345392614603, 'learning_rate': 7.429322813938199e-06, 'epoch': 6.66}\n",
      "{'embedding_loss': 0.0002, 'grad_norm': 0.008215295150876045, 'learning_rate': 7.100591715976332e-06, 'epoch': 6.8}\n",
      "{'embedding_loss': 0.0002, 'grad_norm': 0.011429541744291782, 'learning_rate': 6.771860618014465e-06, 'epoch': 6.95}\n",
      "{'embedding_loss': 0.0002, 'grad_norm': 0.005487378686666489, 'learning_rate': 6.443129520052598e-06, 'epoch': 7.1}\n",
      "{'embedding_loss': 0.0002, 'grad_norm': 0.005264943931251764, 'learning_rate': 6.114398422090731e-06, 'epoch': 7.25}\n",
      "{'embedding_loss': 0.0005, 'grad_norm': 0.00644746795296669, 'learning_rate': 5.785667324128863e-06, 'epoch': 7.4}\n",
      "{'embedding_loss': 0.0002, 'grad_norm': 0.007358054164797068, 'learning_rate': 5.456936226166995e-06, 'epoch': 7.54}\n",
      "{'embedding_loss': 0.0002, 'grad_norm': 0.009573888964951038, 'learning_rate': 5.128205128205128e-06, 'epoch': 7.69}\n",
      "{'embedding_loss': 0.0002, 'grad_norm': 0.008575543761253357, 'learning_rate': 4.7994740302432615e-06, 'epoch': 7.84}\n",
      "{'embedding_loss': 0.0002, 'grad_norm': 0.005871696397662163, 'learning_rate': 4.470742932281394e-06, 'epoch': 7.99}\n",
      "{'embedding_loss': 0.0005, 'grad_norm': 0.007931593805551529, 'learning_rate': 4.142011834319527e-06, 'epoch': 8.14}\n",
      "{'embedding_loss': 0.0002, 'grad_norm': 0.01058471854776144, 'learning_rate': 3.8132807363576596e-06, 'epoch': 8.28}\n",
      "{'embedding_loss': 0.0002, 'grad_norm': 0.005192871205508709, 'learning_rate': 3.4845496383957928e-06, 'epoch': 8.43}\n",
      "{'embedding_loss': 0.0002, 'grad_norm': 0.007186626084148884, 'learning_rate': 3.1558185404339255e-06, 'epoch': 8.58}\n",
      "{'embedding_loss': 0.0005, 'grad_norm': 0.005024413112550974, 'learning_rate': 2.827087442472058e-06, 'epoch': 8.73}\n",
      "{'embedding_loss': 0.0002, 'grad_norm': 0.007817108184099197, 'learning_rate': 2.498356344510191e-06, 'epoch': 8.88}\n",
      "{'embedding_loss': 0.0002, 'grad_norm': 0.008459893055260181, 'learning_rate': 2.1696252465483236e-06, 'epoch': 9.02}\n",
      "{'embedding_loss': 0.0005, 'grad_norm': 0.005741409957408905, 'learning_rate': 1.8408941485864566e-06, 'epoch': 9.17}\n",
      "{'embedding_loss': 0.0002, 'grad_norm': 0.006521398667246103, 'learning_rate': 1.5121630506245893e-06, 'epoch': 9.32}\n",
      "{'embedding_loss': 0.0002, 'grad_norm': 0.005099674221128225, 'learning_rate': 1.183431952662722e-06, 'epoch': 9.47}\n",
      "{'embedding_loss': 0.0002, 'grad_norm': 0.005782678257673979, 'learning_rate': 8.547008547008548e-07, 'epoch': 9.62}\n",
      "{'embedding_loss': 0.0002, 'grad_norm': 0.004018824081867933, 'learning_rate': 5.259697567389875e-07, 'epoch': 9.76}\n",
      "{'embedding_loss': 0.0002, 'grad_norm': 0.006071629002690315, 'learning_rate': 1.9723865877712034e-07, 'epoch': 9.91}\n",
      "{'train_runtime': 1540.8976, 'train_samples_per_second': 70.05, 'train_steps_per_second': 2.194, 'train_loss': 0.005875486380988236, 'epoch': 10.0}\n"
     ]
    }
   ],
   "source": [
    "classifier = IntentClassifier()\n",
    "classifier.train(labelled_utterances)"
   ]
  },
  {
   "cell_type": "code",
   "execution_count": 45,
   "metadata": {},
   "outputs": [
    {
     "data": {
      "text/plain": [
       "{'Confirm': 0.001251610362192498,\n",
       " 'OutOfCoverage': 0.0012193290092969659,\n",
       " 'Repeat': 0.0012298758593317044,\n",
       " 'RequestCurrentFloor': 0.0012648997132574955,\n",
       " 'RequestMoveRelative': 0.0012447928632440548,\n",
       " 'RequestMoveToFloor': 0.9912965930143235,\n",
       " 'RequestOfficeLocation': 0.0012253039149202332,\n",
       " 'Stop': 0.0012675952634335391}"
      ]
     },
     "execution_count": 45,
     "metadata": {},
     "output_type": "execute_result"
    }
   ],
   "source": [
    "classifier.get_intent_distrib(\"go to floor 3\")"
   ]
  },
  {
   "cell_type": "markdown",
   "metadata": {},
   "source": [
    "Since we don't have any test data, we cannot really conduct an evaluation of the classification performance, but this step would be of course strongly adviced when developing a real system. "
   ]
  },
  {
   "cell_type": "markdown",
   "metadata": {},
   "source": [
    "### Slot filling\n",
    "\n",
    "In addition to the intents themselves, we also wish to detect some slots, such as floor numbers or person names. For this step, we will not use a data-driven model, but rather rely on an old-fashioned, rule-based approach:\n",
    "- For floor numbers, we will rely on string matching (with regular expressions or basic string search) that detect patterns such as \"X floor\" (where X is [first,second, third, fourth, fifth, sixth, seventh, eighth, ninth, tenth]) or \"floor X\" (where X is between 1 and 10).\n",
    "- For person names, we have a predefined list of person names to detect (employees at IFI), and we should simply search for their occurrence in the user input. The simplest implementation is to just for look for exact occurrences. However, since speech recognition will often struggle to recognize foreign person names, an even better approach would be to search for names that are phonetically close (you can use the `jellyfish` library for this).\n",
    "\n",
    "The results of the slot filling should be a dictionary mapping slot names to a canonical form of the slot value. For instance, if the utterance contains the expression \"ninth floor\", the resulting slot dictionary should be `{\"floor_number\":9}`. Similarly, the `employee_name` slot should be a name present in `OFFICES` dictionary. \n",
    "\n",
    "__Task 1.4__ (2 points): Implement the method `fill_slots` that will detect the occurrence of those slots in the user input.<br>\n",
    "(+ 1 bonus point if you implement a fuzzy matching strategy to find person names that are phonetically close)"
   ]
  },
  {
   "cell_type": "code",
   "execution_count": 46,
   "metadata": {},
   "outputs": [],
   "source": [
    "# Floor numbers for a subset of the IFI employees\n",
    "OFFICES = {'Adín Ramírez Rivera': 4, 'Andreas Austeng': 4, 'Anne H Schistad Solberg': 4, \n",
    "           'Arild Torolv Søetorp Waaler': 9, 'Audun Jøsang': 9, 'Birthe Soppe': 4, 'Carsten Griwodz': 4,\n",
    "           'Dag Sjøberg': 9, 'Dag Trygve Eckhoff Wisland': 5, 'Einar Broch Johnsen': 8, \n",
    "           'Eric Bartley Jul': 10, 'Erik Velldal': 4, 'Henrik Skaug Sætra': 7, 'Ingrid Chieh Yu': 8,\n",
    "           'Jørn Anders Braa': 6, 'Kristin Bråthen': 4, 'Kyrre Glette': 4, 'Lars Groth': 6, \n",
    "           'Lilja Øvrelid': 4, 'Maja Van Der Velden': 7, 'Martin Giese': 9, 'Michael Welzl': 5, \n",
    "           'Miria Grisot': 6, 'Nils Gruschka': 9, 'Olaf Owe': 9, 'Ole Christian Lingjærde': 4, \n",
    "           'Ole Hanseth': 6, 'Paulo Ferreira': 10, 'Philipp Dominik Häfliger': 5, 'Philipp Häfliger': 5, \n",
    "           'Roman Vitenberg': 4, 'Silvia Lizeth Tapia Tarifa': 8, 'Stephan Oepen': 4, \n",
    "           'Sundeep Sahay': 6, 'Thomas Peter Plagemann': 4, 'Tone Bratteteig': 7, 'Torbjørn Rognes': 8, \n",
    "           'Truls Erikson': 6, 'Viktoria Stray': 10, 'Yngvar Berg': 5, 'Yves Scherrer': 4, \n",
    "           'Özgü Mira Alay-Erduran': 4}"
   ]
  },
  {
   "cell_type": "code",
   "execution_count": 47,
   "metadata": {},
   "outputs": [
    {
     "name": "stderr",
     "output_type": "stream",
     "text": [
      "[nltk_data] Downloading package stopwords to\n",
      "[nltk_data]     /Users/khoimai/nltk_data...\n",
      "[nltk_data]   Package stopwords is already up-to-date!\n"
     ]
    }
   ],
   "source": [
    "import re\n",
    "import jellyfish\n",
    "from typing import Dict, Union\n",
    "\n",
    "import nltk\n",
    "from nltk.corpus import stopwords\n",
    "\n",
    "# Download stopwords if not already downloaded\n",
    "nltk.download('stopwords')\n",
    "stop_words = set(stopwords.words('english'))\n",
    "\n",
    "def fuzzy_matching_name(user_input: str) -> str:\n",
    "    \"\"\"\n",
    "    Fuzzy matches the user input to the closest employee name in the OFFICES dictionary.\n",
    "    Returns the best match if the similarity score is above 0.75, otherwise returns None.\n",
    "    \"\"\"\n",
    "    best_match, highest_score = None, 0\n",
    "\n",
    "    # Remove stopwords from user input\n",
    "    input_parts = [word for word in user_input.split() if word.lower() not in stop_words]\n",
    "    possible_name_string = \" \".join(input_parts)\n",
    "\n",
    "    # Extract potential names from the cleaned input\n",
    "    possible_names = re.findall(r'[A-Z][a-z]*\\s*[A-Z]*[a-z]*', possible_name_string)\n",
    "\n",
    "    # Calculate similarity for each possible name component\n",
    "    for possible_name in possible_names:\n",
    "        for name in OFFICES.keys():\n",
    "            match_score = jellyfish.jaro_winkler_similarity(possible_name, name)\n",
    "            # Update the best match if score is higher\n",
    "            if match_score > highest_score:\n",
    "                best_match, highest_score = name, match_score\n",
    "\n",
    "    return best_match if highest_score > 0.7 else None\n",
    "\n",
    "def fill_slots(user_input: str) -> Dict[str, Union[int, str]]:\n",
    "    \"\"\"Extracts the set of slots detected in the user inputs. More precisely, the method\n",
    "    should detect both floor numbers and person names, and return a dictionary mapping slot \n",
    "    names (in this case either `floor_number` or `employee_name`) to its corresponding\n",
    "    value, in canonical form (integer for the floor number, string for the employee name)\"\"\"\n",
    "\n",
    "    slots = {}\n",
    "\n",
    "    # Mapping words to floor numbers\n",
    "    floor_word_to_number = {\n",
    "        \"first\": 1, \"second\": 2, \"third\": 3, \"fourth\": 4, \"fifth\": 5,\n",
    "        \"sixth\": 6, \"seventh\": 7, \"eighth\": 8, \"ninth\": 9, \"tenth\": 10\n",
    "    }\n",
    "\n",
    "    # Regular expressions to detect \"floor X\" or \"X floor\" patterns\n",
    "    floor_pattern = re.compile(r\"\\b(floor\\s+(\\d+)|(\\d+)\\s+floor|({}))\\b\".format(\n",
    "        \"|\".join(floor_word_to_number.keys())), re.IGNORECASE)\n",
    "\n",
    "    # Search for floor patterns in the input\n",
    "    floor_match = floor_pattern.search(user_input)\n",
    "    if floor_match:\n",
    "        if floor_match.group(2):  # Matches \"floor X\"\n",
    "            slots[\"floor_number\"] = int(floor_match.group(2))\n",
    "        elif floor_match.group(3):  # Matches \"X floor\"\n",
    "            slots[\"floor_number\"] = int(floor_match.group(3))\n",
    "        elif floor_match.group(4):  # Matches words like \"first\", \"second\", etc.\n",
    "            slots[\"floor_number\"] = floor_word_to_number[floor_match.group(4).lower()]\n",
    "\n",
    "    # Search for exact matches of employee names\n",
    "    exact_matches = [name for name in OFFICES.keys() if name.lower() in user_input.lower()]\n",
    "    if exact_matches:\n",
    "        slots[\"employee_name\"] = exact_matches[0]\n",
    "    else:\n",
    "        fuzzy_match = fuzzy_matching_name(user_input)\n",
    "        if fuzzy_match:\n",
    "            slots[\"employee_name\"] = fuzzy_match\n",
    "\n",
    "    return slots"
   ]
  },
  {
   "cell_type": "code",
   "execution_count": 48,
   "metadata": {},
   "outputs": [
    {
     "name": "stdout",
     "output_type": "stream",
     "text": [
      "{'floor_number': 9}\n",
      "{'employee_name': 'Andreas Austeng'}\n",
      "{'floor_number': 3}\n",
      "{'employee_name': 'Olaf Owe'}\n",
      "{'employee_name': 'Andreas Austeng'}\n",
      "{'floor_number': 9}\n",
      "{'floor_number': 9}\n",
      "{'employee_name': 'Olaf Owe'}\n",
      "{'employee_name': 'Andreas Austeng'}\n"
     ]
    }
   ],
   "source": [
    "# Test cases for the fill_slots function\n",
    "\n",
    "print(fill_slots(\"Could you take me to the ninth floor?\"))  \n",
    "print(fill_slots(\"I would like to visit Andreas Austeng\"))  \n",
    "print(fill_slots(\"Take me to floor 3\"))  \n",
    "print(fill_slots(\"Where is Olaf Owe located?\")) \n",
    "print(fill_slots(\"Could you tell me where Andreas Austeng's office is?\"))  \n",
    "print(fill_slots(\"Take me to floor 9\"))\n",
    "print(fill_slots(\"Take me to floor ninth\"))  \n",
    "print(fill_slots(\"Where is Olaf Owe?\"))\n",
    "print(fill_slots(\"I'd like to see Andreas Austen\"))  "
   ]
  },
  {
   "cell_type": "code",
   "execution_count": 49,
   "metadata": {},
   "outputs": [
    {
     "name": "stdout",
     "output_type": "stream",
     "text": [
      "{'employee_name': 'Andreas Austeng'}\n",
      "{'employee_name': 'Andreas Austeng'}\n",
      "{'employee_name': 'Olaf Owe'}\n",
      "{'employee_name': 'Olaf Owe'}\n",
      "{'employee_name': 'Olaf Owe'}\n",
      "{'employee_name': 'Philipp Häfliger'}\n",
      "{'employee_name': 'Philipp Häfliger'}\n",
      "{'employee_name': 'Philipp Häfliger'}\n",
      "{'employee_name': 'Eric Bartley Jul'}\n",
      "{'employee_name': 'Eric Bartley Jul'}\n",
      "{'employee_name': 'Eric Bartley Jul'}\n"
     ]
    }
   ],
   "source": [
    "# Test case for fuzzy matching\n",
    "\n",
    "# 'Andreas Austeng'\n",
    "print(fill_slots(\"I'd like to visit Andreas Austen\"))\n",
    "print(fill_slots(\"I want to speak with Andres Austeng\"))\n",
    "\n",
    "# 'Olaf Owe'\n",
    "print(fill_slots(\"Where is Olaf Oh's office located?\"))\n",
    "print(fill_slots(\"Please tell me about Olaf Owa\"))\n",
    "print(fill_slots(\"Could you find Olaf Aw's office?\"))\n",
    "\n",
    "# 'Philipp Häfliger'\n",
    "print(fill_slots(\"Where can I find Phillip Hafliger?\"))\n",
    "print(fill_slots(\"I need to talk to Philip Heffliger\"))\n",
    "print(fill_slots(\"Could you direct me to Phillip Hefligar?\"))\n",
    "\n",
    "# 'Eric Bartley Jul'\n",
    "print(fill_slots(\"Is Erik Bartly in his office?\"))\n",
    "print(fill_slots(\"Can you show me where Eric Jul's office is?\"))\n",
    "print(fill_slots(\"Please guide me to Eric Bartley Jewel\"))"
   ]
  },
  {
   "cell_type": "markdown",
   "metadata": {},
   "source": [
    "### Response selection\n",
    "\n",
    "The next step is to implement the response selection mechanism. The response will depend on various factors:\n",
    "- the inferred user intents from the user utterance\n",
    "- the detected slot values in the user utterance (if any)\n",
    "- the current floor\n",
    "- the list of next floor stops that are yet to be reached\n",
    "- the dialogue history (as a list of dialogue turns).\n",
    "\n",
    "The response may consist of verbal responses (enacted by calls to `_say_to_user`) but also physical actions, represented by calls to either `move_to_floor` or `stop`. \n",
    "\n",
    "__Task 1.5__ (3 points): Implement the method `_respond`, which is responsible for selecting and executing those responses. The responses should satisfy the aforementioned conversational criteria (provide grounding feedback, use confirmations and clarification requests etc.). This method will consist in practice of many _if...then...else_ blocks. "
   ]
  },
  {
   "cell_type": "code",
   "execution_count": 50,
   "metadata": {},
   "outputs": [],
   "source": [
    "def _respond(self, intent_distrib: Dict[str, float], slots: Dict[str, Union[int, str]]):\n",
    "    \"\"\"Given a probability distribution over possible intents, and a (possibly empty) list\n",
    "    of detected slots in the user input, decide how to react. The method should lead\n",
    "    to calls to both physical actions (move_to_floor, stop) and dialogue responses \n",
    "    (via _say_to_user).\"\"\"\n",
    "\n",
    "    # Ensure intent_distrib is a dictionary\n",
    "    if not isinstance(intent_distrib, dict):\n",
    "        raise ValueError(\"intent_distrib should be a dictionary\")\n",
    "\n",
    "    # Determine the most likely intent\n",
    "    intent = max(intent_distrib, key=intent_distrib.get)\n",
    "    confidence = intent_distrib[intent]\n",
    "\n",
    "    # Handle different intents\n",
    "    if intent == \"RequestMoveToFloor\":\n",
    "        if \"floor_number\" in slots:\n",
    "            floor_number = slots[\"floor_number\"]\n",
    "            if 1 <= floor_number <= 10:\n",
    "                self._say_to_user(f\"Ok, going to the {floor_number}th floor.\")\n",
    "                self.move_to_floor(floor_number)\n",
    "            else:\n",
    "                self._say_to_user(\"Sorry, the floor number must be between 1 and 10.\")\n",
    "        else:\n",
    "            self._say_to_user(\"Which floor would you like to go to?\")\n",
    "\n",
    "    elif intent == \"RequestMoveRelative\":\n",
    "        if \"floor_number\" in slots:\n",
    "            relative_floor = slots[\"floor_number\"]\n",
    "            target_floor = self.cur_floor + relative_floor\n",
    "            if 1 <= target_floor <= 10:\n",
    "                self._say_to_user(f\"Ok, moving {relative_floor} floors.\")\n",
    "                self.move_to_floor(target_floor)\n",
    "            else:\n",
    "                self._say_to_user(\"Sorry, that would take us out of the building's range.\")\n",
    "        else:\n",
    "            self._say_to_user(\"How many floors would you like to move?\")\n",
    "\n",
    "    elif intent == \"RequestOfficeLocation\":\n",
    "        if \"employee_name\" in slots:\n",
    "            employee_name = slots[\"employee_name\"]\n",
    "            if employee_name in OFFICES:\n",
    "                office_floor = OFFICES[employee_name]\n",
    "                self._say_to_user(f\"The office of {employee_name} is on the {office_floor}th floor. Do you wish to go there?\")\n",
    "            else:\n",
    "                self._say_to_user(f\"Sorry, I don't know where {employee_name}'s office is.\")\n",
    "        else:\n",
    "            self._say_to_user(\"Whose office are you looking for?\")\n",
    "\n",
    "    elif intent == \"RequestCurrentFloor\":\n",
    "        self._say_to_user(f\"We are currently on the {self.cur_floor}th floor.\")\n",
    "\n",
    "    elif intent == \"Confirm\":\n",
    "        if self.next_stops:\n",
    "            next_floor = self.next_stops[0]\n",
    "            self._say_to_user(f\"Ok, continuing to the {next_floor}th floor.\")\n",
    "        else:\n",
    "            self._say_to_user(\"There is no pending floor request to confirm.\")\n",
    "\n",
    "    elif intent == \"Stop\":\n",
    "        self.stop()\n",
    "        self._say_to_user(\"The elevator has been stopped. Where would you like to go?\")\n",
    "\n",
    "    elif intent == \"Repeat\":\n",
    "        if self.dialogue_history:\n",
    "            last_system_turn = next(turn for turn in reversed(self.dialogue_history) if turn[\"speaker\"] == \"elevator\")\n",
    "            self._say_to_user(f\"I said: {last_system_turn['text']}\")\n",
    "        else:\n",
    "            self._say_to_user(\"I haven't said anything yet.\")\n",
    "\n",
    "    else:\n",
    "        self._say_to_user(\"Sorry, I don't understand you, pal\")\n",
    "\n",
    "setattr(TalkingElevator, \"_respond\", _respond)"
   ]
  },
  {
   "cell_type": "markdown",
   "metadata": {},
   "source": [
    "### Putting it all together\n",
    "\n",
    "The last step is to implement the `process_input` method in the `TalkingElevator` class. The method should rely on the intent recognition, slot filling and response selection mechanism (which you have implemented in the previous steps) to react to a given user input.\n",
    "\n",
    "**Task 1.6** (1 point): Implement the `process_input` method:"
   ]
  },
  {
   "cell_type": "code",
   "execution_count": 52,
   "metadata": {},
   "outputs": [],
   "source": [
    "def process_input(self, user_input: str, conf_score:float=1.0):\n",
    "    \"\"\"Processes the (transcribed) user input, and respond appropriately \n",
    "    (through a verbal response and possibly also an action, such as moving floors).\n",
    "    The method should rely on the intent classifier, slot-filling function, and\n",
    "    response selection function.\"\"\"\n",
    "\n",
    "    self._add_to_dialogue_history(user_input, speaker=\"user\", conf_score=conf_score)\n",
    "    \n",
    "    # Get the intent distribution from the classifier\n",
    "    intent_distrib = classifier.get_intent_distrib(user_input)\n",
    "    \n",
    "    # Fill the slots in the user input\n",
    "    slots = fill_slots(user_input)\n",
    "    \n",
    "    # Respond based on the intent and slots\n",
    "    self._respond(intent_distrib, slots)\n",
    "\n",
    "setattr(TalkingElevator, \"process_input\", process_input)"
   ]
  },
  {
   "cell_type": "markdown",
   "metadata": {},
   "source": [
    "We are now ready to test our talking elevator: \n"
   ]
  },
  {
   "cell_type": "code",
   "execution_count": 53,
   "metadata": {},
   "outputs": [
    {
     "name": "stdout",
     "output_type": "stream",
     "text": [
      "Loading TTS and ASR models..."
     ]
    },
    {
     "name": "stdout",
     "output_type": "stream",
     "text": [
      "Done\n"
     ]
    },
    {
     "data": {
      "application/vnd.jupyter.widget-view+json": {
       "model_id": "527153444f1f4495b132e93fe0d78186",
       "version_major": 2,
       "version_minor": 0
      },
      "text/plain": [
       "HBox(children=(VBox(children=(HBox(children=(HTML(value='<b>Status</b>: '), Label(value='Still'))), Label(valu…"
      ]
     },
     "metadata": {},
     "output_type": "display_data"
    },
    {
     "name": "stderr",
     "output_type": "stream",
     "text": [
      "/Users/khoimai/Documents/uio/in4080/oblig_in4080_h2024/.venv/lib/python3.12/site-packages/whisper/transcribe.py:126: UserWarning: FP16 is not supported on CPU; using FP32 instead\n",
      "  warnings.warn(\"FP16 is not supported on CPU; using FP32 instead\")\n",
      "/Users/khoimai/Documents/uio/in4080/oblig_in4080_h2024/.venv/lib/python3.12/site-packages/whisper/transcribe.py:126: UserWarning: FP16 is not supported on CPU; using FP32 instead\n",
      "  warnings.warn(\"FP16 is not supported on CPU; using FP32 instead\")\n",
      "/Users/khoimai/Documents/uio/in4080/oblig_in4080_h2024/.venv/lib/python3.12/site-packages/whisper/transcribe.py:126: UserWarning: FP16 is not supported on CPU; using FP32 instead\n",
      "  warnings.warn(\"FP16 is not supported on CPU; using FP32 instead\")\n",
      "/Users/khoimai/Documents/uio/in4080/oblig_in4080_h2024/.venv/lib/python3.12/site-packages/whisper/transcribe.py:126: UserWarning: FP16 is not supported on CPU; using FP32 instead\n",
      "  warnings.warn(\"FP16 is not supported on CPU; using FP32 instead\")\n",
      "/Users/khoimai/Documents/uio/in4080/oblig_in4080_h2024/.venv/lib/python3.12/site-packages/whisper/transcribe.py:126: UserWarning: FP16 is not supported on CPU; using FP32 instead\n",
      "  warnings.warn(\"FP16 is not supported on CPU; using FP32 instead\")\n"
     ]
    }
   ],
   "source": [
    "elevator = TalkingElevator()"
   ]
  },
  {
   "cell_type": "markdown",
   "metadata": {},
   "source": [
    "Your talking elevator will mostly likely not function properly right from the start. Identify what works and what doesn't and correct the code you have developed in Tasks 1.1 - 1.6 until your system meets the specifications we have outlined. "
   ]
  },
  {
   "cell_type": "markdown",
   "metadata": {},
   "source": [
    "## Part 2 : Machine translation\n",
    "\n",
    "In this part, we evaluate a pre-trained machine translation model on data from the Lord of the Rings movies and fine-tune it to improve the translation quality.\n",
    "\n",
    "### Data\n",
    "\n",
    "We provide you with two files, `lotr.detok.de` and `lotr.detok.en`, containing German and English movie subtitles. These two files constitute a so-called _parallel corpus_, i.e. each sentence/line in German corresponds to a sentence/line in English. The two files have the same number of lines and the German sentence on line $i$ corresponds to the English sentence on line $i$. The subtitles are extracted from the [OpenSubtitles-2018](https://opus.nlpl.eu/OpenSubtitles/corpus/version/OpenSubtitles) corpus.\n",
    "\n",
    "Here are the first ten lines of the two files:\n",
    "\n",
    "<style scoped>\n",
    "table {\n",
    "  font-size: 12px;\n",
    "}\n",
    "</style>\n",
    "| Nb  | German (`lotr.detok.de`)         | English (`lotr.detok.en`)      |\n",
    "|---|----------------------------------|--------------------------------|\n",
    "| 1 | Die Welt ist im Wandel. | The world is changed.   |\n",
    "| 2 | Ich spüre es im Wasser. | I feel it in the water. |\n",
    "| 3 | Ich spüre es in der Erde. | I feel it in the earth. |\n",
    "| 4 | Ich rieche es in der Luft. | I smell it in the air. |\n",
    "| 5 | Vieles, was einst war, ist verloren, da niemand mehr lebt, der sich erinnert. | Much that once was is lost. For none now live who remember it. |\n",
    "| 6 | Es begann mit dem Schmieden der Großen Ringe. | It began with the forging of the Great Rings. |\n",
    "| 7 | 3 wurden den Elben gegeben, den unsterblichen, weisesten und reinsten aller Wesen. | Three were given to the Elves: Immortal, wisest and fairest of all beings. |\n",
    "| 8 | 7 den Zwergenherrschern, großen Bergleuten und Handwerkern in ihren Hallen aus Stein. | Seven to the Dwarf-lords: Great miners and craftsmen of the mountain halls. |\n",
    "| 9 | Und 9... 9 Ringe wurden den Menschen geschenkt, die vor allem anderen nach Macht streben. | And nine nine rings were gifted to the race of Men who, above all else, desire power. |\n",
    "| 10 | Denn diese Ringe bargen die Kraft und den Willen, jedes Volk zu leiten. | For within these rings was bound the strength and will to govern each race. |\n"
   ]
  },
  {
   "cell_type": "markdown",
   "metadata": {},
   "source": [
    "### Getting started\n",
    "\n",
    "We will a pretrained machine translation model for German-to-English translation. The model is available on the HuggingFace model hub and can be used with the `transformers` library.\n",
    "\n",
    "Let us first make sure that all required modules are installed:"
   ]
  },
  {
   "cell_type": "code",
   "execution_count": null,
   "metadata": {},
   "outputs": [],
   "source": [
    "%pip install torch transformers accelerate evaluate sacrebleu sacremoses sentencepiece unbabel-comet"
   ]
  },
  {
   "cell_type": "markdown",
   "metadata": {},
   "source": [
    "The bilingual model is called [`opus-mt-de-en`](https://huggingface.co/Helsinki-NLP/opus-mt-de-en) and has been trained by the Helsinki-NLP group. Like (almost) all HuggingFace models, it consists of a _tokenizer_ and the _sequence-to-sequence model_ properly speaking. We need to load both separately:"
   ]
  },
  {
   "cell_type": "code",
   "execution_count": 2,
   "metadata": {},
   "outputs": [
    {
     "data": {
      "application/vnd.jupyter.widget-view+json": {
       "model_id": "9f16489e34794dd38ceed3b44b467ce6",
       "version_major": 2,
       "version_minor": 0
      },
      "text/plain": [
       "tokenizer_config.json:   0%|          | 0.00/42.0 [00:00<?, ?B/s]"
      ]
     },
     "metadata": {},
     "output_type": "display_data"
    },
    {
     "data": {
      "application/vnd.jupyter.widget-view+json": {
       "model_id": "386d6bf1a1f64be8927316111a359dcf",
       "version_major": 2,
       "version_minor": 0
      },
      "text/plain": [
       "config.json:   0%|          | 0.00/1.38k [00:00<?, ?B/s]"
      ]
     },
     "metadata": {},
     "output_type": "display_data"
    },
    {
     "data": {
      "application/vnd.jupyter.widget-view+json": {
       "model_id": "b64d0002f3eb484aaf113bd455d209d0",
       "version_major": 2,
       "version_minor": 0
      },
      "text/plain": [
       "source.spm:   0%|          | 0.00/797k [00:00<?, ?B/s]"
      ]
     },
     "metadata": {},
     "output_type": "display_data"
    },
    {
     "data": {
      "application/vnd.jupyter.widget-view+json": {
       "model_id": "da08ac1f91c84630b42a8b18cc3fc07e",
       "version_major": 2,
       "version_minor": 0
      },
      "text/plain": [
       "target.spm:   0%|          | 0.00/768k [00:00<?, ?B/s]"
      ]
     },
     "metadata": {},
     "output_type": "display_data"
    },
    {
     "data": {
      "application/vnd.jupyter.widget-view+json": {
       "model_id": "de488e18b5534e5f83db8598aa4a86f2",
       "version_major": 2,
       "version_minor": 0
      },
      "text/plain": [
       "vocab.json:   0%|          | 0.00/1.27M [00:00<?, ?B/s]"
      ]
     },
     "metadata": {},
     "output_type": "display_data"
    },
    {
     "name": "stderr",
     "output_type": "stream",
     "text": [
      "/fp/homes01/u01/ec-khoimt/.local/lib/python3.11/site-packages/transformers/tokenization_utils_base.py:1617: FutureWarning: `clean_up_tokenization_spaces` was not set. It will be set to `True` by default. This behavior will be deprecated in transformers v4.45, and will be then set to `False` by default. For more details check this issue: https://github.com/huggingface/transformers/issues/31884\n",
      "  warnings.warn(\n"
     ]
    },
    {
     "data": {
      "application/vnd.jupyter.widget-view+json": {
       "model_id": "54cc4f4f2a6447cb891560755b0ec4cc",
       "version_major": 2,
       "version_minor": 0
      },
      "text/plain": [
       "pytorch_model.bin:   0%|          | 0.00/298M [00:00<?, ?B/s]"
      ]
     },
     "metadata": {},
     "output_type": "display_data"
    },
    {
     "data": {
      "application/vnd.jupyter.widget-view+json": {
       "model_id": "113b958991044e199af4ea65b2df7128",
       "version_major": 2,
       "version_minor": 0
      },
      "text/plain": [
       "generation_config.json:   0%|          | 0.00/293 [00:00<?, ?B/s]"
      ]
     },
     "metadata": {},
     "output_type": "display_data"
    }
   ],
   "source": [
    "import transformers\n",
    "\n",
    "tokenizer = transformers.AutoTokenizer.from_pretrained(\"helsinki-nlp/opus-mt-de-en\")\n",
    "translator = transformers.AutoModelForSeq2SeqLM.from_pretrained(\"helsinki-nlp/opus-mt-de-en\")\n",
    "\n",
    "# Change \"cuda\" to \"cpu\" if you're running on a machine without GPU\n",
    "device = \"cuda\"\n",
    "translator = translator.to(device)"
   ]
  },
  {
   "cell_type": "markdown",
   "metadata": {},
   "source": [
    "The `transformers` library will automatically download the models from the HuggingFace hub the first time you run this cell, so it may take a bit longer.\n",
    "\n",
    "Let's take the first two German sentences, tokenize them, and translate them to English:"
   ]
  },
  {
   "cell_type": "code",
   "execution_count": 3,
   "metadata": {},
   "outputs": [
    {
     "name": "stdout",
     "output_type": "stream",
     "text": [
      "{'input_ids': tensor([[   55,   401,    29,    49,  9012,     3,     0, 58100, 58100],\n",
      "        [  105,  2768,  1691,    18,    65,    49,   672,     3,     0]]), 'attention_mask': tensor([[1, 1, 1, 1, 1, 1, 1, 0, 0],\n",
      "        [1, 1, 1, 1, 1, 1, 1, 1, 1]])}\n"
     ]
    }
   ],
   "source": [
    "tokens = tokenizer([\"Die Welt ist im Wandel.\", \"Ich spüre es im Wasser.\"], return_tensors=\"pt\", padding=True)\n",
    "print(tokens)"
   ]
  },
  {
   "cell_type": "code",
   "execution_count": 4,
   "metadata": {},
   "outputs": [
    {
     "name": "stdout",
     "output_type": "stream",
     "text": [
      "tensor([[58100,    36,   360,    19,  7315,     3,     0, 58100, 58100, 58100],\n",
      "        [58100,    38,    85,  1595,    56,     5,     4,   616,     3,     0]],\n",
      "       device='cuda:0')\n"
     ]
    }
   ],
   "source": [
    "outputs = translator.generate(**tokens.to(device), max_new_tokens=50)\n",
    "print(outputs)"
   ]
  },
  {
   "cell_type": "markdown",
   "metadata": {},
   "source": [
    "__Task 2.1__ (1 point):\n",
    "- What do the numbers in the `input_ids` represent?\n",
    "- What is the effect of `padding=True`? How would the data look like if padding was disabled?\n",
    "- What does `max_new_tokens` do? Why do you think it is important to set this parameter?"
   ]
  },
  {
   "cell_type": "markdown",
   "metadata": {},
   "source": [
    "Answer:\n",
    "- The numbers in the `input_ids` represent the token IDs of the input tokens. Each token is represented by a unique ID.\n",
    "- The effect of `padding=True` is that the input sequences are padded to the maximum length of the batch. If padding was disabled, the input sequences would not be padded, and the input sequences would have different lengths.\n",
    "- `max_new_tokens` is the maximum number of tokens that can be generated. It is important to set this parameter to avoid generating too many tokens, which could lead to memory issues."
   ]
  },
  {
   "cell_type": "markdown",
   "metadata": {},
   "source": [
    "We can get actual words by running the output through the `batch_decode` function of the tokenizer:"
   ]
  },
  {
   "cell_type": "code",
   "execution_count": 5,
   "metadata": {},
   "outputs": [
    {
     "name": "stdout",
     "output_type": "stream",
     "text": [
      "['The world is changing.', 'I can feel it in the water.']\n"
     ]
    }
   ],
   "source": [
    "translations = tokenizer.batch_decode(outputs, skip_special_tokens=True)\n",
    "print(translations)"
   ]
  },
  {
   "cell_type": "markdown",
   "metadata": {},
   "source": [
    "__Note:__ We assume that you will run the translations from German to English. If you would like to work on the opposite translation direction (and feel comfortable evaluating the German output), you are welcome to do so. The corresponding bilingual model is called `opus-mt-en-de`."
   ]
  },
  {
   "cell_type": "markdown",
   "metadata": {},
   "source": [
    "### Data splitting\n",
    "\n",
    "Before we move on, we need to split our data. We will evaluate different models and for that we'll need test data. We will also fine-tune a model, and for that we'll need training data. The entire Lord of the Rings dataset has 9640 lines.\n",
    "\n",
    "__Task 2.2__ (1 point): Split the dataset in such a way that the **last** 1000 lines are used for testing and the remaining lines (8640) for training. Save the data under the following filenames: `lotr.train.de, lotr.train.en, lotr.test.de, lotr.test.en`. You can use Python code or other tools to perform the splitting."
   ]
  },
  {
   "cell_type": "code",
   "execution_count": 12,
   "metadata": {},
   "outputs": [],
   "source": [
    "import os\n",
    "\n",
    "def split_dataset(input_file_de: str, input_file_en: str, test_size: int = 1000):\n",
    "    \"\"\"\n",
    "    Splits the given dataset into training and testing files based on the specified test size.\n",
    "\n",
    "    Parameters:\n",
    "    - input_file_de (str): Path to the German input file.\n",
    "    - input_file_en (str): Path to the English input file.\n",
    "    - test_size (int): Number of lines to use for the test set. Default is 1000.\n",
    "\n",
    "    Saves:\n",
    "    - Training and testing files for both German and English.\n",
    "    \"\"\"\n",
    "    # Check if input files exist\n",
    "    if not os.path.exists(input_file_de) or not os.path.exists(input_file_en):\n",
    "        print(\"Error: One or both input files do not exist.\")\n",
    "        return\n",
    "\n",
    "    # Read the German file\n",
    "    with open(input_file_de, \"r\") as f:\n",
    "        lines_de = f.readlines()\n",
    "\n",
    "    # Split into train and test\n",
    "    train_de = lines_de[:-test_size]\n",
    "    test_de = lines_de[-test_size:]\n",
    "\n",
    "    # Read the English file\n",
    "    with open(input_file_en, \"r\") as f:\n",
    "        lines_en = f.readlines()\n",
    "\n",
    "    # Split into train and test\n",
    "    train_en = lines_en[:-test_size]\n",
    "    test_en = lines_en[-test_size:]\n",
    "\n",
    "    # Define output filenames\n",
    "    output_train_de = input_file_de.replace(\".detok\", \".train\")\n",
    "    output_test_de = input_file_de.replace(\".detok\", \".test\")\n",
    "    output_train_en = input_file_en.replace(\".detok\", \".train\")\n",
    "    output_test_en = input_file_en.replace(\".detok\", \".test\")\n",
    "\n",
    "    # Write the training and test sets to files\n",
    "    with open(output_train_de, \"w\") as f:\n",
    "        f.writelines(train_de)\n",
    "\n",
    "    with open(output_test_de, \"w\") as f:\n",
    "        f.writelines(test_de)\n",
    "\n",
    "    with open(output_train_en, \"w\") as f:\n",
    "        f.writelines(train_en)\n",
    "\n",
    "    with open(output_test_en, \"w\") as f:\n",
    "        f.writelines(test_en)\n",
    "\n",
    "    print(f\"Files saved as: {output_train_de}, {output_test_de}, {output_train_en}, {output_test_en}\")"
   ]
  },
  {
   "cell_type": "code",
   "execution_count": 13,
   "metadata": {},
   "outputs": [
    {
     "name": "stdout",
     "output_type": "stream",
     "text": [
      "Files saved as: lotr.train.de, lotr.test.de, lotr.train.en, lotr.test.en\n"
     ]
    }
   ],
   "source": [
    "split_dataset(\"lotr.detok.de\", \"lotr.detok.en\", test_size=1000)"
   ]
  },
  {
   "cell_type": "code",
   "execution_count": 14,
   "metadata": {},
   "outputs": [
    {
     "name": "stdout",
     "output_type": "stream",
     "text": [
      "--- Dataset Dimensions (Germany) ---\n",
      "Training set size: 8640\n",
      "Testing set size: 1000\n",
      "--- Dataset Dimensions (English) ---\n",
      "Training set size: 8640\n",
      "Testing set size: 1000\n"
     ]
    }
   ],
   "source": [
    "# Load the training and testing datasets to check the dimensions\n",
    "with open(\"lotr.train.de\", \"r\") as f:\n",
    "    train_de = f.readlines()\n",
    "\n",
    "with open(\"lotr.train.en\", \"r\") as f:\n",
    "    train_en = f.readlines()\n",
    "\n",
    "with open(\"lotr.test.de\", \"r\") as f:\n",
    "    test_de = f.readlines()\n",
    "\n",
    "with open(\"lotr.test.en\", \"r\") as f:\n",
    "    test_en = f.readlines()\n",
    "\n",
    "print(\"--- Dataset Dimensions (Germany) ---\")\n",
    "print(f\"Training set size: {len(train_de)}\")\n",
    "print(f\"Testing set size: {len(test_de)}\")\n",
    "print(\"--- Dataset Dimensions (English) ---\")\n",
    "print(f\"Training set size: {len(train_en)}\")\n",
    "print(f\"Testing set size: {len(test_en)}\")"
   ]
  },
  {
   "cell_type": "markdown",
   "metadata": {},
   "source": [
    "__Task 2.3__ (1 point): What are potential risks and drawbacks of splitting the dataset in this way? \n"
   ]
  },
  {
   "cell_type": "markdown",
   "metadata": {},
   "source": [
    "Answer:\n",
    "- Temporal Bias: If the subtitles follow the chronological sequence of the movie, the last 1000 lines would represent the movie's later parts. This can introduce a bias where the model may not generalize well to the entire movie context or to other movies.\n",
    "- Loss of Diversity: Subtitles in different parts of the movie may vary in vocabulary, tone, and context (e.g., introductions vs. climax vs. resolution). Using only the last portion for testing may reduce the diversity in both the training and test sets, making evaluation less robust.\n",
    "- Overfitting to Specific Contexts: Since the lines are sequential, training on one part of the movie and testing on another may lead to overfitting on context-specific patterns, reducing the model’s generalizability to random scenes or new movies.\n",
    "- Evaluation Bias: The model’s performance on a test set derived from the end of the movie may not reflect its overall performance on the whole movie or on other subtitle datasets, as it hasn’t been exposed to different types of dialogues evenly."
   ]
  },
  {
   "cell_type": "markdown",
   "metadata": {},
   "source": [
    "Now we are ready to translate the test set with our model.\n",
    "\n",
    "__Task 2.4__ (2 points): Create a function that loads the entire `lotr.test.de` file, translates each line with the `opus-mt-de-en` model and writes its output to a new file, one sentence per line.\n",
    "\n",
    "The easiest way to do this is to just load the entire test file into a list, tokenize and translate it, but the test set may be too large to fit on GPU memory, or it might be inefficient and slow if you use a CPU. A better alternative is to split the data into batches of 50-100 sentences and send each batch separately to the translator."
   ]
  },
  {
   "cell_type": "code",
   "execution_count": 15,
   "metadata": {},
   "outputs": [],
   "source": [
    "def translate(input_file, translation_file, tokenizer, translator, batch_size=100):\n",
    "    \"\"\"Translate an input file line by line using the loaded tokenizer and translator,\n",
    "    and write the translations to output_file.\"\"\"\n",
    "    \n",
    "    with open(input_file, \"r\") as f:\n",
    "        lines = f.readlines()\n",
    "\n",
    "    with open(translation_file, \"w\") as f:\n",
    "        for i in range(0, len(lines), batch_size):\n",
    "            batch = lines[i:i+batch_size]\n",
    "            tokens = tokenizer(batch, return_tensors=\"pt\", padding=True)\n",
    "            outputs = translator.generate(**tokens.to(device), max_length=128)\n",
    "            translations = tokenizer.batch_decode(outputs, skip_special_tokens=True)\n",
    "            f.writelines([f\"{line}\\n\" for line in translations])\n",
    "\n",
    "translate(\"lotr.test.de\", \"lotr.output_opus.en\", tokenizer, translator)"
   ]
  },
  {
   "cell_type": "markdown",
   "metadata": {},
   "source": [
    "Before moving on, open the output file and check that the translations look ok. In particular, the file should contain the expected number of lines and output should be in the expected language (English or German, depending on the chosen direction).\n",
    "\n",
    "__Task 2.5__ (1 point): Open both the output file and the reference translations (`lotr.test.en` if translating from German to English) and compare the first 20 lines. How would you rate the translations of the OPUS system on a scale from 1 (incomprehensible and/or completely different meaning) to 5 (grammatically correct and meaning fully preserved)? Justify your answer."
   ]
  },
  {
   "cell_type": "code",
   "execution_count": 1,
   "metadata": {},
   "outputs": [
    {
     "name": "stdout",
     "output_type": "stream",
     "text": [
      "OPUS: There's nothing here.\n",
      "Ref: Nothing here.\n",
      "\n",
      "OPUS: Keep looking!\n",
      "Ref: Keep searching!\n",
      "\n",
      "OPUS: This stone could be anywhere.\n",
      "Ref: That Jewel could be anywhere.\n",
      "\n",
      "OPUS: The Arkenstein is located in these halls.\n",
      "Ref: The Arkenstone is in these halls.\n",
      "\n",
      "OPUS: - Find him!\n",
      "Ref: - Find it!\n",
      "\n",
      "OPUS: You heard me.\n",
      "Ref: You heard him.\n",
      "\n",
      "OPUS: - Keep looking.\n",
      "Ref: - Keep looking.\n",
      "\n",
      "OPUS: All of you!\n",
      "Ref: All of you!\n",
      "\n",
      "OPUS: No one rests until he's found.\n",
      "Ref: No one rests until... it is found.\n",
      "\n",
      "OPUS: It's almost tempting me to leave it to you.\n",
      "Ref: I am almost tempted... to let you take it.\n",
      "\n",
      "OPUS: And be it just to see how oak shield suffers.\n",
      "Ref: If only... to see Oakenshield... suffer.\n",
      "\n",
      "OPUS: Seeing it destroy him.\n",
      "Ref: Watch it... destroy him.\n",
      "\n",
      "OPUS: Seeing it contaminate his heart and drive him crazy.\n",
      "Ref: Watch it corrupt... his heart... and drive him mad.\n",
      "\n",
      "OPUS: I'll help you.\n",
      "Ref: I've got you.\n",
      "\n",
      "OPUS: Just take what's necessary.\n",
      "Ref: Take only what you need.\n",
      "\n",
      "OPUS: We have a long march ahead of us.\n",
      "Ref: We have a long march ahead.\n",
      "\n",
      "OPUS: Where are you going?\n",
      "Ref: Where will you go?\n",
      "\n",
      "OPUS: There's only one place.\n",
      "Ref: There is only one place.\n",
      "\n",
      "OPUS: The mountain.\n",
      "Ref: The Mountain.\n",
      "\n",
      "OPUS: You are magnificent, sir.\n",
      "Ref: You are a genius, sire.\n",
      "\n"
     ]
    }
   ],
   "source": [
    "with open(\"lotr.output_opus.en\", \"r\") as f:\n",
    "    translations_opus = f.readlines()\n",
    "\n",
    "with open(\"lotr.test.en\", \"r\") as f:\n",
    "    references = f.readlines()\n",
    "\n",
    "for i in range(20):\n",
    "    print(f\"OPUS: {translations_opus[i].strip()}\")\n",
    "    print(f\"Ref: {references[i].strip()}\")\n",
    "    print()"
   ]
  },
  {
   "cell_type": "markdown",
   "metadata": {},
   "source": [
    "From my side, the translations are quite good and I would rate them as 4/5. There are some differences compared to the reference translations as it uses synonyms or different sentence structures.\n",
    "\n",
    "For example:\n",
    "- oak shield (OPUS) vs. Oakenshield (Reference)\n",
    "- crazy (OPUS) vs. mad (Reference)\n",
    "- contaminate (OPUS) vs. corrupt (Reference)\n",
    "- ...\n",
    "\n",
    "In conclusion, the translations are mostly correct and the meaning is preserved, but there are some differences in the choice of words."
   ]
  },
  {
   "cell_type": "markdown",
   "metadata": {},
   "source": [
    "### Evaluation\n",
    "\n",
    "We can now evaluate the quality of our translations. In a first step, we perform _reference-based surface-level evaluation_  using the popular BLEU score. We can do that with the `sacrebleu` module. Below is a slightly reformatted example taken from the [SacreBLEU documentation](https://github.com/mjpost/sacrebleu/tree/master?tab=readme-ov-file#using-sacrebleu-from-python):"
   ]
  },
  {
   "cell_type": "code",
   "execution_count": 17,
   "metadata": {},
   "outputs": [
    {
     "name": "stdout",
     "output_type": "stream",
     "text": [
      "BLEU = 45.07 70.6/42.9/36.4/37.5 (BP = 1.000 ratio = 1.000 hyp_len = 17 ref_len = 17)\n"
     ]
    }
   ],
   "source": [
    "from sacrebleu.metrics import BLEU\n",
    "\n",
    "reference = ['The dog bit the man.', 'It was not unexpected.', 'The man bit him first.']\n",
    "hypothesis = ['The dog bit the man.', \"It wasn't surprising.\", 'The man had just bitten him.']\n",
    "\n",
    "bleu_scorer = BLEU()\n",
    "# BLEU can deal with multiple references per sentence, but here we only have one, so we just enclose it in another set of brackets:\n",
    "score = bleu_scorer.corpus_score(hypothesis, [reference])\n",
    "print(score)"
   ]
  },
  {
   "cell_type": "markdown",
   "metadata": {},
   "source": [
    "__Task 2.6__ (1 point): Load both the system output and the reference of your test set and compute the corpus-level BLEU score. Also compute the corpus-level chrF score. Which of the scores is higher?"
   ]
  },
  {
   "cell_type": "code",
   "execution_count": 18,
   "metadata": {},
   "outputs": [
    {
     "data": {
      "text/plain": [
       "BLEU = 29.03 63.3/38.3/25.2/16.2 (BP = 0.920 ratio = 0.923 hyp_len = 6203 ref_len = 6721)"
      ]
     },
     "execution_count": 18,
     "metadata": {},
     "output_type": "execute_result"
    }
   ],
   "source": [
    "from sacrebleu.metrics import BLEU, CHRF\n",
    "\n",
    "def evaluate_bleu(hypothesis_file, reference_file):\n",
    "\t\"\"\"Evaluate the BLEU score using the hypothesis and reference files.\"\"\"\n",
    "\t\n",
    "\twith open(hypothesis_file, \"r\") as f:\n",
    "\t\thypothesis = f.readlines()\n",
    "\n",
    "\twith open(reference_file, \"r\") as f:\n",
    "\t\treferences = f.readlines()\n",
    "\n",
    "\tbleu_scorer = BLEU()\n",
    "\tscore = bleu_scorer.corpus_score(hypothesis, [references])\n",
    "\treturn score\n",
    "\n",
    "evaluate_bleu(\"lotr.output_opus.en\", \"lotr.test.en\")"
   ]
  },
  {
   "cell_type": "markdown",
   "metadata": {},
   "source": [
    "Besides string-based metrics, neural metrics have become increasingly popular lately, since they have been shown to correlate better with human judgements. The most popular neural metric is called COMET and it can be used with the HuggingFace `evaluate` package. The example below is from the [documentation](https://huggingface.co/spaces/evaluate-metric/comet/blob/main/README.md):"
   ]
  },
  {
   "cell_type": "code",
   "execution_count": 19,
   "metadata": {},
   "outputs": [
    {
     "data": {
      "application/vnd.jupyter.widget-view+json": {
       "model_id": "daff2e88558344edac829d1d4beef726",
       "version_major": 2,
       "version_minor": 0
      },
      "text/plain": [
       "Downloading builder script:   0%|          | 0.00/6.97k [00:00<?, ?B/s]"
      ]
     },
     "metadata": {},
     "output_type": "display_data"
    },
    {
     "data": {
      "application/vnd.jupyter.widget-view+json": {
       "model_id": "9a53663ca30f48b99f9897c81eeb6aee",
       "version_major": 2,
       "version_minor": 0
      },
      "text/plain": [
       "Fetching 5 files:   0%|          | 0/5 [00:00<?, ?it/s]"
      ]
     },
     "metadata": {},
     "output_type": "display_data"
    },
    {
     "data": {
      "application/vnd.jupyter.widget-view+json": {
       "model_id": "65b70c987f5d41db8578c8c9c94a5d6b",
       "version_major": 2,
       "version_minor": 0
      },
      "text/plain": [
       "LICENSE:   0%|          | 0.00/9.69k [00:00<?, ?B/s]"
      ]
     },
     "metadata": {},
     "output_type": "display_data"
    },
    {
     "data": {
      "application/vnd.jupyter.widget-view+json": {
       "model_id": "45a84eb60f5b41f18ce35d3132501f56",
       "version_major": 2,
       "version_minor": 0
      },
      "text/plain": [
       "hparams.yaml:   0%|          | 0.00/567 [00:00<?, ?B/s]"
      ]
     },
     "metadata": {},
     "output_type": "display_data"
    },
    {
     "data": {
      "application/vnd.jupyter.widget-view+json": {
       "model_id": "f37b2d82f8674907b93e4b5ef3ffa626",
       "version_major": 2,
       "version_minor": 0
      },
      "text/plain": [
       "README.md:   0%|          | 0.00/3.53k [00:00<?, ?B/s]"
      ]
     },
     "metadata": {},
     "output_type": "display_data"
    },
    {
     "data": {
      "application/vnd.jupyter.widget-view+json": {
       "model_id": "b7dbcaf98f4b454cad90d700e59996e1",
       "version_major": 2,
       "version_minor": 0
      },
      "text/plain": [
       ".gitattributes:   0%|          | 0.00/1.48k [00:00<?, ?B/s]"
      ]
     },
     "metadata": {},
     "output_type": "display_data"
    },
    {
     "data": {
      "application/vnd.jupyter.widget-view+json": {
       "model_id": "9e0862745a3040a7b715444e4760a500",
       "version_major": 2,
       "version_minor": 0
      },
      "text/plain": [
       "model.ckpt:   0%|          | 0.00/2.32G [00:00<?, ?B/s]"
      ]
     },
     "metadata": {},
     "output_type": "display_data"
    },
    {
     "name": "stderr",
     "output_type": "stream",
     "text": [
      "Lightning automatically upgraded your loaded checkpoint from v1.8.3.post1 to v2.4.0. To apply the upgrade to your files permanently, run `python -m pytorch_lightning.utilities.upgrade_checkpoint .cache/huggingface/hub/models--Unbabel--wmt22-comet-da/snapshots/371e9839ca4e213dde891b066cf3080f75ec7e72/checkpoints/model.ckpt`\n"
     ]
    },
    {
     "data": {
      "application/vnd.jupyter.widget-view+json": {
       "model_id": "e38528a6e40047dca6c5ad3ea1016db2",
       "version_major": 2,
       "version_minor": 0
      },
      "text/plain": [
       "tokenizer_config.json:   0%|          | 0.00/25.0 [00:00<?, ?B/s]"
      ]
     },
     "metadata": {},
     "output_type": "display_data"
    },
    {
     "data": {
      "application/vnd.jupyter.widget-view+json": {
       "model_id": "5a94862aea7c41eb889d8a8563affeab",
       "version_major": 2,
       "version_minor": 0
      },
      "text/plain": [
       "sentencepiece.bpe.model:   0%|          | 0.00/5.07M [00:00<?, ?B/s]"
      ]
     },
     "metadata": {},
     "output_type": "display_data"
    },
    {
     "data": {
      "application/vnd.jupyter.widget-view+json": {
       "model_id": "970e985c458145b5bde7f77a06c48d57",
       "version_major": 2,
       "version_minor": 0
      },
      "text/plain": [
       "tokenizer.json:   0%|          | 0.00/9.10M [00:00<?, ?B/s]"
      ]
     },
     "metadata": {},
     "output_type": "display_data"
    },
    {
     "data": {
      "application/vnd.jupyter.widget-view+json": {
       "model_id": "cf8822ae2147401682088d0a2782439a",
       "version_major": 2,
       "version_minor": 0
      },
      "text/plain": [
       "config.json:   0%|          | 0.00/616 [00:00<?, ?B/s]"
      ]
     },
     "metadata": {},
     "output_type": "display_data"
    },
    {
     "name": "stderr",
     "output_type": "stream",
     "text": [
      "/fp/homes01/u01/ec-khoimt/.local/lib/python3.11/site-packages/transformers/tokenization_utils_base.py:1617: FutureWarning: `clean_up_tokenization_spaces` was not set. It will be set to `True` by default. This behavior will be deprecated in transformers v4.45, and will be then set to `False` by default. For more details check this issue: https://github.com/huggingface/transformers/issues/31884\n",
      "  warnings.warn(\n",
      "Encoder model frozen.\n",
      "/fp/homes01/u01/ec-khoimt/.local/lib/python3.11/site-packages/pytorch_lightning/core/saving.py:195: Found keys that are not in the model state dict but in the checkpoint: ['encoder.model.embeddings.position_ids']\n",
      "/fp/homes01/u01/ec-khoimt/.local/lib/python3.11/site-packages/lightning_fabric/plugins/environments/slurm.py:204: The `srun` command is available on your system but is not used. HINT: If your intention is to run Lightning on SLURM, prepend your python command with `srun` like so: srun python /cluster/software/EL9/easybuild/software/jupyter-ser ...\n",
      "GPU available: True (cuda), used: True\n",
      "TPU available: False, using: 0 TPU cores\n",
      "HPU available: False, using: 0 HPUs\n",
      "You are using a CUDA device ('NVIDIA GeForce RTX 3090') that has Tensor Cores. To properly utilize them, you should set `torch.set_float32_matmul_precision('medium' | 'high')` which will trade-off precision for performance. For more details, read https://pytorch.org/docs/stable/generated/torch.set_float32_matmul_precision.html#torch.set_float32_matmul_precision\n",
      "LOCAL_RANK: 0 - CUDA_VISIBLE_DEVICES: [0]\n"
     ]
    },
    {
     "name": "stdout",
     "output_type": "stream",
     "text": [
      "{'mean_score': 0.9051420092582703, 'scores': [0.8385582566261292, 0.9717257618904114]}\n"
     ]
    }
   ],
   "source": [
    "import evaluate\n",
    "\n",
    "comet_metric = evaluate.load('comet')\n",
    "src = [\"Dem Feuer konnte Einhalt geboten werden\", \"Schulen und Kindergärten wurden eröffnet.\"]\n",
    "hyp = [\"The fire could be stopped\", \"Schools and kindergartens were open\"]\n",
    "ref = [\"They were able to control the fire.\", \"Schools and kindergartens opened\"]\n",
    "comet_score = comet_metric.compute(predictions=hyp, references=ref, sources=src)\n",
    "print(comet_score)"
   ]
  },
  {
   "cell_type": "markdown",
   "metadata": {},
   "source": [
    "__Task 2.7__ (1 point): Adapt this code to evaluate the output of the OPUS model. Note that COMET also requires the source text."
   ]
  },
  {
   "cell_type": "code",
   "execution_count": 20,
   "metadata": {},
   "outputs": [],
   "source": [
    "def evaluate_comet(hypothesis_file, reference_file, source_file):\n",
    "    \"\"\"Evaluate the COMET score using the hypothesis, reference, and source files.\"\"\"\n",
    "    \n",
    "    with open(hypothesis_file, \"r\") as f:\n",
    "        hypothesis = f.readlines()\n",
    "\n",
    "    with open(reference_file, \"r\") as f:\n",
    "        references = f.readlines()\n",
    "\n",
    "    with open(source_file, \"r\") as f:\n",
    "        source = f.readlines()\n",
    "\n",
    "    comet_metric = evaluate.load('comet')\n",
    "    comet_score = comet_metric.compute(predictions=hypothesis, references=references, sources=source)\n",
    "    return comet_score"
   ]
  },
  {
   "cell_type": "code",
   "execution_count": 21,
   "metadata": {},
   "outputs": [
    {
     "data": {
      "application/vnd.jupyter.widget-view+json": {
       "model_id": "d92098a906af4e0b84439a78947948cf",
       "version_major": 2,
       "version_minor": 0
      },
      "text/plain": [
       "Fetching 5 files:   0%|          | 0/5 [00:00<?, ?it/s]"
      ]
     },
     "metadata": {},
     "output_type": "display_data"
    },
    {
     "name": "stderr",
     "output_type": "stream",
     "text": [
      "Lightning automatically upgraded your loaded checkpoint from v1.8.3.post1 to v2.4.0. To apply the upgrade to your files permanently, run `python -m pytorch_lightning.utilities.upgrade_checkpoint .cache/huggingface/hub/models--Unbabel--wmt22-comet-da/snapshots/371e9839ca4e213dde891b066cf3080f75ec7e72/checkpoints/model.ckpt`\n",
      "/fp/homes01/u01/ec-khoimt/.local/lib/python3.11/site-packages/transformers/tokenization_utils_base.py:1617: FutureWarning: `clean_up_tokenization_spaces` was not set. It will be set to `True` by default. This behavior will be deprecated in transformers v4.45, and will be then set to `False` by default. For more details check this issue: https://github.com/huggingface/transformers/issues/31884\n",
      "  warnings.warn(\n",
      "Encoder model frozen.\n",
      "/fp/homes01/u01/ec-khoimt/.local/lib/python3.11/site-packages/pytorch_lightning/core/saving.py:195: Found keys that are not in the model state dict but in the checkpoint: ['encoder.model.embeddings.position_ids']\n",
      "/fp/homes01/u01/ec-khoimt/.local/lib/python3.11/site-packages/lightning_fabric/plugins/environments/slurm.py:204: The `srun` command is available on your system but is not used. HINT: If your intention is to run Lightning on SLURM, prepend your python command with `srun` like so: srun python /cluster/software/EL9/easybuild/software/jupyter-ser ...\n",
      "GPU available: True (cuda), used: True\n",
      "TPU available: False, using: 0 TPU cores\n",
      "HPU available: False, using: 0 HPUs\n",
      "LOCAL_RANK: 0 - CUDA_VISIBLE_DEVICES: [0]\n"
     ]
    },
    {
     "data": {
      "text/plain": [
       "{'mean_score': 0.8517506479918957,\n",
       " 'scores': [0.9153851866722107,\n",
       "  0.9468668103218079,\n",
       "  0.8256570100784302,\n",
       "  0.8032516837120056,\n",
       "  0.9530919194221497,\n",
       "  0.9214392900466919,\n",
       "  0.9798831343650818,\n",
       "  0.9793310761451721,\n",
       "  0.9100832939147949,\n",
       "  0.7782115340232849,\n",
       "  0.5980216264724731,\n",
       "  0.8024845719337463,\n",
       "  0.7926276326179504,\n",
       "  0.7160571217536926,\n",
       "  0.8175803422927856,\n",
       "  0.9529080390930176,\n",
       "  0.9506795406341553,\n",
       "  0.9420503973960876,\n",
       "  0.91288822889328,\n",
       "  0.8457056283950806,\n",
       "  0.9229069352149963,\n",
       "  0.7305722832679749,\n",
       "  0.76967453956604,\n",
       "  0.898786723613739,\n",
       "  0.8273663520812988,\n",
       "  0.8060702681541443,\n",
       "  0.9700202345848083,\n",
       "  0.5075957179069519,\n",
       "  0.8797752261161804,\n",
       "  0.8298813104629517,\n",
       "  0.877406656742096,\n",
       "  0.9205743670463562,\n",
       "  0.6748988032341003,\n",
       "  0.8469387292861938,\n",
       "  0.2771272659301758,\n",
       "  0.34335044026374817,\n",
       "  0.9769700169563293,\n",
       "  0.7233666181564331,\n",
       "  0.5694791674613953,\n",
       "  0.6657575964927673,\n",
       "  0.9521582126617432,\n",
       "  0.7802305221557617,\n",
       "  0.7778492569923401,\n",
       "  0.9069486856460571,\n",
       "  0.9937438368797302,\n",
       "  0.796716034412384,\n",
       "  0.4289068281650543,\n",
       "  0.8754180073738098,\n",
       "  0.9863396286964417,\n",
       "  0.9191678166389465,\n",
       "  0.45636406540870667,\n",
       "  0.4525398910045624,\n",
       "  0.8894889950752258,\n",
       "  0.9827471375465393,\n",
       "  0.640130877494812,\n",
       "  0.9537616968154907,\n",
       "  0.8244879245758057,\n",
       "  0.9322856068611145,\n",
       "  0.9692363142967224,\n",
       "  0.9593409299850464,\n",
       "  0.8863281607627869,\n",
       "  0.9834766983985901,\n",
       "  0.9945901036262512,\n",
       "  0.9945901036262512,\n",
       "  0.8020917773246765,\n",
       "  0.9456378221511841,\n",
       "  0.9213737845420837,\n",
       "  0.8266332745552063,\n",
       "  0.9211342334747314,\n",
       "  0.9572331309318542,\n",
       "  0.7670897841453552,\n",
       "  0.9211342334747314,\n",
       "  0.9229949116706848,\n",
       "  0.9469378590583801,\n",
       "  0.9805604815483093,\n",
       "  0.8087282180786133,\n",
       "  0.8996289372444153,\n",
       "  0.8209757208824158,\n",
       "  0.8193104863166809,\n",
       "  0.8473989963531494,\n",
       "  0.846947968006134,\n",
       "  0.7628368735313416,\n",
       "  0.8187464475631714,\n",
       "  0.720603883266449,\n",
       "  0.8387120962142944,\n",
       "  0.7786447405815125,\n",
       "  0.8578411936759949,\n",
       "  0.8225840330123901,\n",
       "  0.9697524905204773,\n",
       "  0.9141569137573242,\n",
       "  0.9382127523422241,\n",
       "  0.9797431826591492,\n",
       "  0.9831728935241699,\n",
       "  0.9923874735832214,\n",
       "  0.9683810472488403,\n",
       "  0.9723649024963379,\n",
       "  0.8676642775535583,\n",
       "  0.8309905529022217,\n",
       "  0.7036482095718384,\n",
       "  0.6388259530067444,\n",
       "  0.9282562136650085,\n",
       "  0.8747721314430237,\n",
       "  0.9121451377868652,\n",
       "  0.745945394039154,\n",
       "  0.8530314564704895,\n",
       "  0.8207010626792908,\n",
       "  0.9459394216537476,\n",
       "  0.8522488474845886,\n",
       "  0.8284684419631958,\n",
       "  0.8521592020988464,\n",
       "  0.9858140349388123,\n",
       "  0.8380021452903748,\n",
       "  0.7640051245689392,\n",
       "  0.6719105839729309,\n",
       "  0.8501887917518616,\n",
       "  0.9572255611419678,\n",
       "  0.9716889262199402,\n",
       "  0.7989184260368347,\n",
       "  0.877910852432251,\n",
       "  0.8237220644950867,\n",
       "  0.6603519320487976,\n",
       "  0.8755671381950378,\n",
       "  0.8266843557357788,\n",
       "  0.867331862449646,\n",
       "  0.7162025570869446,\n",
       "  0.8808606266975403,\n",
       "  0.718784749507904,\n",
       "  0.9524294137954712,\n",
       "  0.9837632775306702,\n",
       "  0.8315772414207458,\n",
       "  0.97530198097229,\n",
       "  0.8817448616027832,\n",
       "  0.888863205909729,\n",
       "  0.6971219182014465,\n",
       "  0.9509215950965881,\n",
       "  0.5048080086708069,\n",
       "  0.5968970656394958,\n",
       "  0.4669463336467743,\n",
       "  0.8620783686637878,\n",
       "  0.8326629400253296,\n",
       "  0.9865167737007141,\n",
       "  0.9830449819564819,\n",
       "  0.6480087637901306,\n",
       "  0.6700285077095032,\n",
       "  0.9707313776016235,\n",
       "  0.9780859351158142,\n",
       "  0.9921314120292664,\n",
       "  0.979390561580658,\n",
       "  0.8994338512420654,\n",
       "  0.6587756872177124,\n",
       "  0.6587759256362915,\n",
       "  0.9909451603889465,\n",
       "  0.8270425796508789,\n",
       "  0.5908550024032593,\n",
       "  0.8149577975273132,\n",
       "  0.9922916293144226,\n",
       "  0.6882748007774353,\n",
       "  0.9020971059799194,\n",
       "  0.9553620219230652,\n",
       "  0.8783043026924133,\n",
       "  0.6112604737281799,\n",
       "  0.8371673822402954,\n",
       "  0.8545902967453003,\n",
       "  0.9843493700027466,\n",
       "  0.8642353415489197,\n",
       "  0.7800922393798828,\n",
       "  0.9767335653305054,\n",
       "  0.8830915093421936,\n",
       "  0.8233445286750793,\n",
       "  0.7086673974990845,\n",
       "  0.6718698143959045,\n",
       "  0.9554415345191956,\n",
       "  0.9292681813240051,\n",
       "  0.900967538356781,\n",
       "  0.823428213596344,\n",
       "  0.850683867931366,\n",
       "  0.8762453198432922,\n",
       "  0.8561197519302368,\n",
       "  0.9143741130828857,\n",
       "  0.4656887650489807,\n",
       "  0.8537998795509338,\n",
       "  0.7300037741661072,\n",
       "  0.9144166111946106,\n",
       "  0.9538659453392029,\n",
       "  0.9700270295143127,\n",
       "  0.9031484723091125,\n",
       "  0.9483439326286316,\n",
       "  0.9012638330459595,\n",
       "  0.9903915524482727,\n",
       "  0.7407587170600891,\n",
       "  0.641468346118927,\n",
       "  0.9884659051895142,\n",
       "  0.7008985877037048,\n",
       "  0.7496487498283386,\n",
       "  0.51686030626297,\n",
       "  0.5584183931350708,\n",
       "  0.7706825137138367,\n",
       "  0.5995297431945801,\n",
       "  0.5860111713409424,\n",
       "  0.9396176934242249,\n",
       "  0.7336984276771545,\n",
       "  0.6508159041404724,\n",
       "  0.8992673754692078,\n",
       "  0.9684585928916931,\n",
       "  0.9478012919425964,\n",
       "  0.7891108989715576,\n",
       "  0.6779292225837708,\n",
       "  0.8321693539619446,\n",
       "  0.8210228085517883,\n",
       "  0.8759167194366455,\n",
       "  0.7392302751541138,\n",
       "  0.846534788608551,\n",
       "  0.9916978478431702,\n",
       "  0.9842259287834167,\n",
       "  0.8895981907844543,\n",
       "  0.8900378346443176,\n",
       "  0.6947677731513977,\n",
       "  0.9055980443954468,\n",
       "  0.9445545077323914,\n",
       "  0.7615310549736023,\n",
       "  0.9493830800056458,\n",
       "  0.8863281607627869,\n",
       "  0.7697436213493347,\n",
       "  0.979390561580658,\n",
       "  0.8305036425590515,\n",
       "  0.6914701461791992,\n",
       "  0.82603520154953,\n",
       "  0.7828437685966492,\n",
       "  0.926459014415741,\n",
       "  0.6153592467308044,\n",
       "  0.8379316926002502,\n",
       "  0.6499661803245544,\n",
       "  0.8516311049461365,\n",
       "  0.9280558824539185,\n",
       "  0.7113286852836609,\n",
       "  0.7988809943199158,\n",
       "  0.8581209182739258,\n",
       "  0.9189029335975647,\n",
       "  0.8790671229362488,\n",
       "  0.8739514946937561,\n",
       "  0.8113024830818176,\n",
       "  0.7292070984840393,\n",
       "  0.7181483507156372,\n",
       "  0.8450543880462646,\n",
       "  0.7020887136459351,\n",
       "  0.5322185158729553,\n",
       "  0.9467496275901794,\n",
       "  0.9244090914726257,\n",
       "  0.7547094225883484,\n",
       "  0.9793121218681335,\n",
       "  0.9359942078590393,\n",
       "  0.6689226031303406,\n",
       "  0.7108997702598572,\n",
       "  0.9870691299438477,\n",
       "  0.777037501335144,\n",
       "  0.7133857607841492,\n",
       "  0.6480913758277893,\n",
       "  0.9363072514533997,\n",
       "  0.9020886421203613,\n",
       "  0.897496223449707,\n",
       "  0.8967822194099426,\n",
       "  0.7709102630615234,\n",
       "  0.8753041625022888,\n",
       "  0.8938704133033752,\n",
       "  0.9153649210929871,\n",
       "  0.7912228107452393,\n",
       "  0.5294607281684875,\n",
       "  0.9489182233810425,\n",
       "  0.9590586423873901,\n",
       "  0.994333803653717,\n",
       "  0.8725456595420837,\n",
       "  0.7711040377616882,\n",
       "  0.886761486530304,\n",
       "  0.8699358701705933,\n",
       "  0.8785310983657837,\n",
       "  0.8298813104629517,\n",
       "  0.9082202315330505,\n",
       "  0.7016796469688416,\n",
       "  0.9749079942703247,\n",
       "  0.8429163694381714,\n",
       "  0.8744574189186096,\n",
       "  0.8964266777038574,\n",
       "  0.9469608664512634,\n",
       "  0.9631636142730713,\n",
       "  0.9413778185844421,\n",
       "  0.9517654180526733,\n",
       "  0.8796250820159912,\n",
       "  0.9318825602531433,\n",
       "  0.8935175538063049,\n",
       "  0.9881563782691956,\n",
       "  0.7278253436088562,\n",
       "  0.8491926789283752,\n",
       "  0.8185349106788635,\n",
       "  0.7482002377510071,\n",
       "  0.9606572985649109,\n",
       "  0.9028580784797668,\n",
       "  0.8583281636238098,\n",
       "  0.94684237241745,\n",
       "  0.9761350750923157,\n",
       "  0.9345053434371948,\n",
       "  0.8628296852111816,\n",
       "  0.948577880859375,\n",
       "  0.6509378552436829,\n",
       "  0.9722586274147034,\n",
       "  0.6606566905975342,\n",
       "  0.42191752791404724,\n",
       "  0.5175281167030334,\n",
       "  0.6467970013618469,\n",
       "  0.9832669496536255,\n",
       "  0.8149145841598511,\n",
       "  0.9837520718574524,\n",
       "  0.8863757252693176,\n",
       "  0.8281612992286682,\n",
       "  0.7158118486404419,\n",
       "  0.6249849200248718,\n",
       "  0.9711853861808777,\n",
       "  0.6573259234428406,\n",
       "  0.8183663487434387,\n",
       "  0.8291785717010498,\n",
       "  0.9267488121986389,\n",
       "  0.9833351373672485,\n",
       "  0.9183610081672668,\n",
       "  0.9138036370277405,\n",
       "  0.9793108105659485,\n",
       "  0.9783948659896851,\n",
       "  0.9644166231155396,\n",
       "  0.9898999333381653,\n",
       "  0.7559308409690857,\n",
       "  0.9895334839820862,\n",
       "  0.9597030878067017,\n",
       "  0.9169765710830688,\n",
       "  0.9864433407783508,\n",
       "  0.6827004551887512,\n",
       "  0.9733025431632996,\n",
       "  0.8076332211494446,\n",
       "  0.8432856202125549,\n",
       "  0.9718726277351379,\n",
       "  0.8403555750846863,\n",
       "  0.9876379370689392,\n",
       "  0.8132117986679077,\n",
       "  0.7702873349189758,\n",
       "  0.9259369969367981,\n",
       "  0.5443238615989685,\n",
       "  0.9481779932975769,\n",
       "  0.9849762916564941,\n",
       "  0.8092736601829529,\n",
       "  0.770545482635498,\n",
       "  0.9617363214492798,\n",
       "  0.9841689467430115,\n",
       "  0.8340558409690857,\n",
       "  0.9383063912391663,\n",
       "  0.9327972531318665,\n",
       "  0.9238843321800232,\n",
       "  0.7370413541793823,\n",
       "  0.9805039763450623,\n",
       "  0.5455902218818665,\n",
       "  0.7780632376670837,\n",
       "  0.7952585220336914,\n",
       "  0.7973474264144897,\n",
       "  0.9051029086112976,\n",
       "  0.8519294857978821,\n",
       "  0.7638485431671143,\n",
       "  0.9238783717155457,\n",
       "  0.4438682794570923,\n",
       "  0.2521374225616455,\n",
       "  0.9159384369850159,\n",
       "  0.773693859577179,\n",
       "  0.9721822142601013,\n",
       "  0.8553687930107117,\n",
       "  0.6821581721305847,\n",
       "  0.8603887557983398,\n",
       "  0.770759105682373,\n",
       "  0.9658074975013733,\n",
       "  0.8443509340286255,\n",
       "  0.9692773222923279,\n",
       "  0.7020362615585327,\n",
       "  0.9676030278205872,\n",
       "  0.8920282125473022,\n",
       "  0.7804895639419556,\n",
       "  0.6494960188865662,\n",
       "  0.9464415907859802,\n",
       "  0.9740573763847351,\n",
       "  0.7190199494361877,\n",
       "  0.8859612941741943,\n",
       "  0.9064750075340271,\n",
       "  0.9870356321334839,\n",
       "  0.8536728620529175,\n",
       "  0.61962890625,\n",
       "  0.9093772768974304,\n",
       "  0.8273550271987915,\n",
       "  0.827514111995697,\n",
       "  0.8863281607627869,\n",
       "  0.5950137972831726,\n",
       "  0.901794970035553,\n",
       "  0.9212074875831604,\n",
       "  0.9735807776451111,\n",
       "  0.6198564767837524,\n",
       "  0.536647379398346,\n",
       "  0.7950286269187927,\n",
       "  0.9456656575202942,\n",
       "  0.9414607882499695,\n",
       "  0.9512381553649902,\n",
       "  0.7100157141685486,\n",
       "  0.8631380200386047,\n",
       "  0.6666849851608276,\n",
       "  0.7110089659690857,\n",
       "  0.8130865693092346,\n",
       "  0.8946054577827454,\n",
       "  0.8910930752754211,\n",
       "  0.8949359059333801,\n",
       "  0.9933885931968689,\n",
       "  0.9584874510765076,\n",
       "  0.9052649140357971,\n",
       "  0.678213894367218,\n",
       "  0.8309540152549744,\n",
       "  0.7771912813186646,\n",
       "  0.9836112856864929,\n",
       "  0.8328670859336853,\n",
       "  0.9722535610198975,\n",
       "  0.816990077495575,\n",
       "  0.7784972786903381,\n",
       "  0.5593026280403137,\n",
       "  0.8191930055618286,\n",
       "  0.9261137247085571,\n",
       "  0.8334563374519348,\n",
       "  0.973380446434021,\n",
       "  0.8348612785339355,\n",
       "  0.9445468783378601,\n",
       "  0.9799773097038269,\n",
       "  0.9792119860649109,\n",
       "  0.827174723148346,\n",
       "  0.7747376561164856,\n",
       "  0.9828271865844727,\n",
       "  0.7647183537483215,\n",
       "  0.48365017771720886,\n",
       "  0.6727674603462219,\n",
       "  0.9049203991889954,\n",
       "  0.9910312294960022,\n",
       "  0.8919275999069214,\n",
       "  0.9837517738342285,\n",
       "  0.8829911351203918,\n",
       "  0.67955482006073,\n",
       "  0.9897701144218445,\n",
       "  0.8432552814483643,\n",
       "  0.9618604779243469,\n",
       "  0.8817142844200134,\n",
       "  0.937579333782196,\n",
       "  0.7891571521759033,\n",
       "  0.6732643246650696,\n",
       "  0.9843044281005859,\n",
       "  0.8812482357025146,\n",
       "  0.7392226457595825,\n",
       "  0.7982555627822876,\n",
       "  0.9799850583076477,\n",
       "  0.9752166271209717,\n",
       "  0.9894608855247498,\n",
       "  0.669205367565155,\n",
       "  0.8269847631454468,\n",
       "  0.7969275116920471,\n",
       "  0.8187464475631714,\n",
       "  0.8834063410758972,\n",
       "  0.7372849583625793,\n",
       "  0.7570443749427795,\n",
       "  0.7566247582435608,\n",
       "  0.8559817671775818,\n",
       "  0.8899481892585754,\n",
       "  0.977637767791748,\n",
       "  0.8823136687278748,\n",
       "  0.9421828985214233,\n",
       "  0.8397557139396667,\n",
       "  0.8918015956878662,\n",
       "  0.7721343636512756,\n",
       "  0.8258323073387146,\n",
       "  0.8828199505805969,\n",
       "  0.7197988629341125,\n",
       "  0.9597030878067017,\n",
       "  0.6068664789199829,\n",
       "  0.8903070688247681,\n",
       "  0.7078092694282532,\n",
       "  0.8762770295143127,\n",
       "  0.754543662071228,\n",
       "  0.7622477412223816,\n",
       "  0.8282840847969055,\n",
       "  0.6881523132324219,\n",
       "  0.795835554599762,\n",
       "  0.743773877620697,\n",
       "  0.9867933392524719,\n",
       "  0.9519547820091248,\n",
       "  0.9083436727523804,\n",
       "  0.9097570776939392,\n",
       "  0.9564648866653442,\n",
       "  0.963485836982727,\n",
       "  0.8852871060371399,\n",
       "  0.8009592890739441,\n",
       "  0.71684330701828,\n",
       "  0.9854293465614319,\n",
       "  0.8727167844772339,\n",
       "  0.9833842515945435,\n",
       "  0.9237812161445618,\n",
       "  0.828608512878418,\n",
       "  0.5518305897712708,\n",
       "  0.9793310761451721,\n",
       "  0.9905806183815002,\n",
       "  0.6882591247558594,\n",
       "  0.5863140821456909,\n",
       "  0.9750756025314331,\n",
       "  0.859322726726532,\n",
       "  0.8484494090080261,\n",
       "  0.8701525330543518,\n",
       "  0.6672641634941101,\n",
       "  0.5918177962303162,\n",
       "  0.5836248993873596,\n",
       "  0.8390042185783386,\n",
       "  0.8018576502799988,\n",
       "  0.8253177404403687,\n",
       "  0.8447250723838806,\n",
       "  0.8740686774253845,\n",
       "  0.8106047511100769,\n",
       "  0.8132659196853638,\n",
       "  0.7039442658424377,\n",
       "  0.7376353144645691,\n",
       "  0.6008370518684387,\n",
       "  0.8510370850563049,\n",
       "  0.9916130304336548,\n",
       "  0.9554701447486877,\n",
       "  0.8089552521705627,\n",
       "  0.9811182618141174,\n",
       "  0.5133084654808044,\n",
       "  0.9443079829216003,\n",
       "  0.6413230299949646,\n",
       "  0.7223368883132935,\n",
       "  0.8282631039619446,\n",
       "  0.8060234189033508,\n",
       "  0.9726340174674988,\n",
       "  0.9011254906654358,\n",
       "  0.9923117756843567,\n",
       "  0.958063542842865,\n",
       "  0.8500222563743591,\n",
       "  0.9926087856292725,\n",
       "  0.9921645522117615,\n",
       "  0.8130208849906921,\n",
       "  0.9802058339118958,\n",
       "  0.7978774905204773,\n",
       "  0.6378574967384338,\n",
       "  0.8826882839202881,\n",
       "  0.9929884076118469,\n",
       "  0.9832571148872375,\n",
       "  0.9936273097991943,\n",
       "  0.9867784380912781,\n",
       "  0.9927919507026672,\n",
       "  0.9904448390007019,\n",
       "  0.991516649723053,\n",
       "  0.9900279641151428,\n",
       "  0.9589048624038696,\n",
       "  0.9122689366340637,\n",
       "  0.8594063520431519,\n",
       "  0.9876648783683777,\n",
       "  0.9904448390007019,\n",
       "  0.9927919507026672,\n",
       "  0.9909384846687317,\n",
       "  0.8768046498298645,\n",
       "  0.5041999220848083,\n",
       "  0.7044993042945862,\n",
       "  0.7263235449790955,\n",
       "  0.9867785573005676,\n",
       "  0.8333718180656433,\n",
       "  0.9549800157546997,\n",
       "  0.8476304411888123,\n",
       "  0.8500222563743591,\n",
       "  0.8204252123832703,\n",
       "  0.8739389181137085,\n",
       "  0.7258756756782532,\n",
       "  0.7258756756782532,\n",
       "  0.9912248253822327,\n",
       "  0.8458133935928345,\n",
       "  0.9916228652000427,\n",
       "  0.9927919507026672,\n",
       "  0.5506705641746521,\n",
       "  0.9888681769371033,\n",
       "  0.7058141231536865,\n",
       "  0.8595303297042847,\n",
       "  0.9572207927703857,\n",
       "  0.5396486520767212,\n",
       "  0.9873400926589966,\n",
       "  0.5893073678016663,\n",
       "  0.7877283692359924,\n",
       "  0.9806169867515564,\n",
       "  0.7175693511962891,\n",
       "  0.9919397234916687,\n",
       "  0.9449915289878845,\n",
       "  0.8871701955795288,\n",
       "  0.6577600836753845,\n",
       "  0.8829789161682129,\n",
       "  0.7449598908424377,\n",
       "  0.9923995137214661,\n",
       "  0.7608256340026855,\n",
       "  0.7767528891563416,\n",
       "  0.8117895722389221,\n",
       "  0.8421844840049744,\n",
       "  0.7868006229400635,\n",
       "  0.8748988509178162,\n",
       "  0.9898386001586914,\n",
       "  0.9930064082145691,\n",
       "  0.9877976775169373,\n",
       "  0.8597039580345154,\n",
       "  0.9298985600471497,\n",
       "  0.8639717698097229,\n",
       "  0.7966279983520508,\n",
       "  0.6153830289840698,\n",
       "  0.911393404006958,\n",
       "  0.8536902070045471,\n",
       "  0.834679126739502,\n",
       "  0.8222951292991638,\n",
       "  0.8174216151237488,\n",
       "  0.9004985690116882,\n",
       "  0.9521730542182922,\n",
       "  0.6367667317390442,\n",
       "  0.8601033091545105,\n",
       "  0.8811213970184326,\n",
       "  0.8598253130912781,\n",
       "  0.6529524326324463,\n",
       "  0.9551461338996887,\n",
       "  0.7899582982063293,\n",
       "  0.9755823612213135,\n",
       "  0.9655355215072632,\n",
       "  0.9111159443855286,\n",
       "  0.6453166604042053,\n",
       "  0.8754718899726868,\n",
       "  0.8216835856437683,\n",
       "  0.978201687335968,\n",
       "  0.9182685613632202,\n",
       "  0.8346453905105591,\n",
       "  0.8814325928688049,\n",
       "  0.8261696100234985,\n",
       "  0.7208935618400574,\n",
       "  0.9858140349388123,\n",
       "  0.9722586870193481,\n",
       "  0.7463688254356384,\n",
       "  0.7895373106002808,\n",
       "  0.7636315226554871,\n",
       "  0.7255998253822327,\n",
       "  0.7570680975914001,\n",
       "  0.7723062634468079,\n",
       "  0.9196159839630127,\n",
       "  0.9176364541053772,\n",
       "  0.9176364541053772,\n",
       "  0.9133068919181824,\n",
       "  0.7513435482978821,\n",
       "  0.8727030158042908,\n",
       "  0.8174216151237488,\n",
       "  0.9704505801200867,\n",
       "  0.7700551152229309,\n",
       "  0.9704505801200867,\n",
       "  0.8691335320472717,\n",
       "  0.9421828985214233,\n",
       "  0.9176364541053772,\n",
       "  0.9762098789215088,\n",
       "  0.9176364541053772,\n",
       "  0.798496425151825,\n",
       "  0.9922261238098145,\n",
       "  0.9037544131278992,\n",
       "  0.9922261238098145,\n",
       "  0.3876764476299286,\n",
       "  0.8869990706443787,\n",
       "  0.9426146149635315,\n",
       "  0.8187464475631714,\n",
       "  0.7735180258750916,\n",
       "  0.942409336566925,\n",
       "  0.900754451751709,\n",
       "  0.8758905529975891,\n",
       "  0.9529882669448853,\n",
       "  0.9830449819564819,\n",
       "  0.9151335954666138,\n",
       "  0.9151335954666138,\n",
       "  0.6219225525856018,\n",
       "  0.7856430411338806,\n",
       "  0.6598081588745117,\n",
       "  0.7815256714820862,\n",
       "  0.8773803114891052,\n",
       "  0.7937018275260925,\n",
       "  0.9837092757225037,\n",
       "  0.8817813992500305,\n",
       "  0.9907042384147644,\n",
       "  0.7484608292579651,\n",
       "  0.9845477938652039,\n",
       "  0.8145798444747925,\n",
       "  0.5148439407348633,\n",
       "  0.9473759531974792,\n",
       "  0.9045904278755188,\n",
       "  0.9222000241279602,\n",
       "  0.9726014137268066,\n",
       "  0.9674904942512512,\n",
       "  0.992354154586792,\n",
       "  0.9933584928512573,\n",
       "  0.8698524236679077,\n",
       "  0.987419605255127,\n",
       "  0.9918575882911682,\n",
       "  0.6635572910308838,\n",
       "  0.8510201573371887,\n",
       "  0.9538849592208862,\n",
       "  0.8298813700675964,\n",
       "  0.9093282222747803,\n",
       "  0.9912605881690979,\n",
       "  0.9296525120735168,\n",
       "  0.8015018105506897,\n",
       "  0.8608992099761963,\n",
       "  0.9945901036262512,\n",
       "  0.9035094976425171,\n",
       "  0.9353272914886475,\n",
       "  0.9130557179450989,\n",
       "  0.8420626521110535,\n",
       "  0.7838388085365295,\n",
       "  0.9800455570220947,\n",
       "  0.9945901036262512,\n",
       "  0.9863396286964417,\n",
       "  0.6486290097236633,\n",
       "  0.8589917421340942,\n",
       "  0.8195476531982422,\n",
       "  0.7223507761955261,\n",
       "  0.9832669496536255,\n",
       "  0.9429791569709778,\n",
       "  0.8472912311553955,\n",
       "  0.940406858921051,\n",
       "  0.9519580006599426,\n",
       "  0.9447048306465149,\n",
       "  0.7201411128044128,\n",
       "  0.7901314496994019,\n",
       "  0.9266197681427002,\n",
       "  0.9777037501335144,\n",
       "  0.9833051562309265,\n",
       "  0.9877976775169373,\n",
       "  0.8413734436035156,\n",
       "  0.8356108069419861,\n",
       "  0.9844793677330017,\n",
       "  0.8784132599830627,\n",
       "  0.7911660671234131,\n",
       "  0.6300212144851685,\n",
       "  0.49266624450683594,\n",
       "  0.5864139199256897,\n",
       "  0.7475413680076599,\n",
       "  0.767008364200592,\n",
       "  0.8804742693901062,\n",
       "  0.9395285248756409,\n",
       "  0.9795401692390442,\n",
       "  0.9317664504051208,\n",
       "  0.9317664504051208,\n",
       "  0.902802050113678,\n",
       "  0.7723410725593567,\n",
       "  0.8561084866523743,\n",
       "  0.7792764902114868,\n",
       "  0.9779577851295471,\n",
       "  0.9196181893348694,\n",
       "  0.739711344242096,\n",
       "  0.9908717274665833,\n",
       "  0.8403876423835754,\n",
       "  0.9821495413780212,\n",
       "  0.9807604551315308,\n",
       "  0.9935055375099182,\n",
       "  0.9196657538414001,\n",
       "  0.8939172625541687,\n",
       "  0.9296904802322388,\n",
       "  0.9679256081581116,\n",
       "  0.9849953055381775,\n",
       "  0.8584174513816833,\n",
       "  0.31321796774864197,\n",
       "  0.9835328459739685,\n",
       "  0.9841689467430115,\n",
       "  0.9823935031890869,\n",
       "  0.8338721394538879,\n",
       "  0.9295807480812073,\n",
       "  0.736415684223175,\n",
       "  0.8646937012672424,\n",
       "  0.8336246013641357,\n",
       "  0.8472724556922913,\n",
       "  0.9759535789489746,\n",
       "  0.9618938565254211,\n",
       "  0.9783271551132202,\n",
       "  0.8198840022087097,\n",
       "  0.9492843747138977,\n",
       "  0.9409778714179993,\n",
       "  0.25505533814430237,\n",
       "  0.845979630947113,\n",
       "  0.9798691868782043,\n",
       "  0.981533944606781,\n",
       "  0.6702567934989929,\n",
       "  0.9588890671730042,\n",
       "  0.6930946707725525,\n",
       "  0.7245463728904724,\n",
       "  0.9926628470420837,\n",
       "  0.49294933676719666,\n",
       "  0.7200230360031128,\n",
       "  0.9825646281242371,\n",
       "  0.6114689707756042,\n",
       "  0.6953026652336121,\n",
       "  0.8286406397819519,\n",
       "  0.9830449819564819,\n",
       "  0.9774609208106995,\n",
       "  0.8115400671958923,\n",
       "  0.9683486223220825,\n",
       "  0.9003652930259705,\n",
       "  0.9281333088874817,\n",
       "  0.5946854948997498,\n",
       "  0.9567491412162781,\n",
       "  0.8111327886581421,\n",
       "  0.5318050980567932,\n",
       "  0.8187464475631714,\n",
       "  0.9805743098258972,\n",
       "  0.863486647605896,\n",
       "  0.9836161732673645,\n",
       "  0.9813736081123352,\n",
       "  0.9740620255470276,\n",
       "  0.9239372611045837,\n",
       "  0.9562678933143616,\n",
       "  0.9718093276023865,\n",
       "  0.9118254780769348,\n",
       "  0.9931565523147583,\n",
       "  0.3479481637477875,\n",
       "  0.6612725853919983,\n",
       "  0.992653489112854,\n",
       "  0.9921320080757141,\n",
       "  0.9830449819564819,\n",
       "  0.9830449819564819,\n",
       "  0.8187464475631714,\n",
       "  0.8187464475631714,\n",
       "  0.9753767848014832,\n",
       "  0.9921320080757141,\n",
       "  0.9921320080757141,\n",
       "  0.993872344493866,\n",
       "  0.9753767848014832,\n",
       "  0.9597030878067017,\n",
       "  0.9597030878067017,\n",
       "  0.9832239747047424,\n",
       "  0.993872344493866,\n",
       "  0.8286769986152649,\n",
       "  0.9774609208106995,\n",
       "  0.9788247346878052,\n",
       "  0.9788247346878052,\n",
       "  0.9755419492721558,\n",
       "  0.9798581600189209,\n",
       "  0.9832239747047424,\n",
       "  0.9832239747047424,\n",
       "  0.9667293429374695,\n",
       "  0.8475754261016846,\n",
       "  0.8892101049423218,\n",
       "  0.7376211881637573,\n",
       "  0.8187464475631714,\n",
       "  0.8729673027992249,\n",
       "  0.8088119626045227,\n",
       "  0.7600206136703491,\n",
       "  0.9227456450462341,\n",
       "  0.9836359620094299,\n",
       "  0.98094642162323,\n",
       "  0.9012027382850647,\n",
       "  0.8303313851356506,\n",
       "  0.6247307062149048,\n",
       "  0.6643965840339661,\n",
       "  0.8744942545890808,\n",
       "  0.6960734128952026,\n",
       "  0.9847915768623352,\n",
       "  0.7720243334770203,\n",
       "  0.9838414192199707,\n",
       "  0.980404257774353,\n",
       "  0.875962495803833,\n",
       "  0.8187464475631714,\n",
       "  0.9907042384147644,\n",
       "  0.8187464475631714,\n",
       "  0.8793953061103821,\n",
       "  0.870908796787262,\n",
       "  0.9830449819564819,\n",
       "  0.9830449819564819,\n",
       "  0.9845444560050964,\n",
       "  0.6674782633781433,\n",
       "  0.7820311188697815,\n",
       "  0.7820311188697815,\n",
       "  0.793854832649231,\n",
       "  0.9902161955833435,\n",
       "  0.896771252155304,\n",
       "  0.9399757981300354,\n",
       "  0.9457982182502747,\n",
       "  0.950816810131073,\n",
       "  0.9832322001457214,\n",
       "  0.8550739288330078,\n",
       "  0.7576505541801453,\n",
       "  0.6679292917251587,\n",
       "  0.976127028465271,\n",
       "  0.8867687582969666,\n",
       "  0.9704739451408386,\n",
       "  0.5016056895256042,\n",
       "  0.8817716240882874,\n",
       "  0.9863396286964417,\n",
       "  0.9805835485458374,\n",
       "  0.9779502749443054,\n",
       "  0.981288731098175,\n",
       "  0.9218219518661499,\n",
       "  0.8863281607627869,\n",
       "  0.9021798372268677,\n",
       "  0.7582789063453674,\n",
       "  0.9764269590377808,\n",
       "  0.8769729733467102,\n",
       "  0.6966663002967834,\n",
       "  0.8170372843742371,\n",
       "  0.8893508315086365,\n",
       "  0.8522454500198364,\n",
       "  0.8950315117835999,\n",
       "  0.7926486134529114,\n",
       "  0.9820392727851868,\n",
       "  0.9473627209663391,\n",
       "  0.7687445282936096,\n",
       "  0.7993494868278503,\n",
       "  0.8580734729766846,\n",
       "  0.6894921660423279,\n",
       "  0.8441734910011292,\n",
       "  0.9509370923042297,\n",
       "  0.9928598999977112,\n",
       "  0.8372422456741333,\n",
       "  0.7578174471855164,\n",
       "  0.8944334387779236,\n",
       "  0.7333421111106873,\n",
       "  0.7747839093208313,\n",
       "  0.6808664202690125,\n",
       "  0.5847106575965881,\n",
       "  0.9340001344680786,\n",
       "  0.7629227042198181,\n",
       "  0.7079917788505554,\n",
       "  0.8986350297927856,\n",
       "  0.8484238982200623,\n",
       "  0.9067468047142029,\n",
       "  0.7410892248153687,\n",
       "  0.8381621241569519,\n",
       "  0.8881387114524841,\n",
       "  0.9147474765777588,\n",
       "  0.9116820096969604,\n",
       "  0.8335096836090088,\n",
       "  0.8195317387580872,\n",
       "  0.7432258725166321,\n",
       "  0.875209629535675,\n",
       "  0.9934396147727966,\n",
       "  0.7130627036094666,\n",
       "  0.9672825336456299,\n",
       "  0.926332414150238,\n",
       "  0.9809442162513733,\n",
       "  0.9377539157867432,\n",
       "  0.9834338426589966,\n",
       "  0.6815937161445618,\n",
       "  0.9644750952720642,\n",
       "  0.4287663400173187,\n",
       "  0.9143290519714355,\n",
       "  0.984691321849823,\n",
       "  0.6004957556724548,\n",
       "  0.6337211728096008,\n",
       "  0.9729751348495483,\n",
       "  0.9803599119186401,\n",
       "  0.7153404355049133,\n",
       "  0.6031214594841003,\n",
       "  0.6218636631965637,\n",
       "  0.5571280717849731,\n",
       "  0.9941075444221497,\n",
       "  0.9941075444221497,\n",
       "  0.9130512475967407,\n",
       "  0.9888262152671814,\n",
       "  0.9903276562690735,\n",
       "  0.9526177048683167,\n",
       "  0.9164535999298096,\n",
       "  0.9668554663658142,\n",
       "  0.9458232522010803,\n",
       "  0.9835483431816101,\n",
       "  0.9319186210632324,\n",
       "  0.9788764119148254,\n",
       "  0.9491070508956909,\n",
       "  0.7820254564285278,\n",
       "  0.8803644180297852,\n",
       "  0.9923874735832214,\n",
       "  0.7461938261985779,\n",
       "  0.9823207259178162,\n",
       "  0.8265677094459534,\n",
       "  0.7996470332145691,\n",
       "  0.616844892501831,\n",
       "  0.9639410376548767,\n",
       "  0.9760122895240784,\n",
       "  0.8882314562797546,\n",
       "  0.8162286877632141,\n",
       "  0.8863281607627869,\n",
       "  0.8687998652458191,\n",
       "  0.707621157169342,\n",
       "  0.8787727952003479,\n",
       "  0.9846755862236023,\n",
       "  0.9865644574165344,\n",
       "  0.9930822849273682,\n",
       "  0.8202562928199768,\n",
       "  0.9689229726791382,\n",
       "  0.9919136166572571,\n",
       "  0.8273550271987915,\n",
       "  0.9902310967445374,\n",
       "  0.993603527545929,\n",
       "  0.9315987229347229,\n",
       "  0.8980349898338318,\n",
       "  0.8945030570030212,\n",
       "  0.9545314908027649,\n",
       "  0.9783539772033691,\n",
       "  0.9783539772033691]}"
      ]
     },
     "execution_count": 21,
     "metadata": {},
     "output_type": "execute_result"
    }
   ],
   "source": [
    "evaluate_comet(\"lotr.output_opus.en\", \"lotr.test.en\", \"lotr.test.de\")"
   ]
  },
  {
   "cell_type": "markdown",
   "metadata": {},
   "source": [
    "### Fine-tuning\n",
    "\n",
    "Let us see now if we can further improve the translation quality. We still haven't used the training set after all...\n",
    "\n",
    "Fine-tuning a translation model with the `transformers` library is a bit convoluted. You need the following ingredients:\n",
    "- A `Seq2SeqTrainer` object, which defines the initial model and its tokenizer, the training data, and the configuration parameters (as a `Seq2SeqTrainingArguments` object). The training process starts with the `train()` method.\n",
    "- A `Seq2SeqTrainingArguments` object, which contains the configuration parameters, such as the number of training epochs, the path for saving the fine-tuned model, the learning rate etc.\n",
    "- A `DataCollatorForSeq2Seq` object that takes care of splitting the training data into batches of appropriate size.\n",
    "- A `DatasetDict` object containing the tokenized training data. Typically, the untokenized data is loaded into a `DatasetDict` object, and the tokenization function is applied to everything inside this `DatasetDict` using the `map()` function.\n",
    "\n",
    "__Task 2.8__ (1 point): The code in the box below shows a working example using the pretrained OPUS model, but is limited to two sentence pairs. Complete the code to load the entire training data."
   ]
  },
  {
   "cell_type": "code",
   "execution_count": 22,
   "metadata": {},
   "outputs": [
    {
     "data": {
      "application/vnd.jupyter.widget-view+json": {
       "model_id": "69de4ebaddbb48ddb130fcaef61bf98a",
       "version_major": 2,
       "version_minor": 0
      },
      "text/plain": [
       "Map:   0%|          | 0/8640 [00:00<?, ? examples/s]"
      ]
     },
     "metadata": {},
     "output_type": "display_data"
    },
    {
     "name": "stdout",
     "output_type": "stream",
     "text": [
      "DatasetDict({\n",
      "    train: Dataset({\n",
      "        features: ['src_text', 'tgt_text', 'input_ids', 'attention_mask', 'labels'],\n",
      "        num_rows: 8640\n",
      "    })\n",
      "})\n"
     ]
    },
    {
     "name": "stderr",
     "output_type": "stream",
     "text": [
      "/fp/homes01/u01/ec-khoimt/.local/lib/python3.11/site-packages/transformers/training_args.py:1545: FutureWarning: `evaluation_strategy` is deprecated and will be removed in version 4.46 of 🤗 Transformers. Use `eval_strategy` instead\n",
      "  warnings.warn(\n"
     ]
    },
    {
     "data": {
      "text/html": [
       "\n",
       "    <div>\n",
       "      \n",
       "      <progress value='810' max='810' style='width:300px; height:20px; vertical-align: middle;'></progress>\n",
       "      [810/810 00:42, Epoch 3/3]\n",
       "    </div>\n",
       "    <table border=\"1\" class=\"dataframe\">\n",
       "  <thead>\n",
       " <tr style=\"text-align: left;\">\n",
       "      <th>Step</th>\n",
       "      <th>Training Loss</th>\n",
       "    </tr>\n",
       "  </thead>\n",
       "  <tbody>\n",
       "    <tr>\n",
       "      <td>500</td>\n",
       "      <td>1.181500</td>\n",
       "    </tr>\n",
       "  </tbody>\n",
       "</table><p>"
      ],
      "text/plain": [
       "<IPython.core.display.HTML object>"
      ]
     },
     "metadata": {},
     "output_type": "display_data"
    },
    {
     "name": "stderr",
     "output_type": "stream",
     "text": [
      "/fp/homes01/u01/ec-khoimt/.local/lib/python3.11/site-packages/transformers/modeling_utils.py:2618: UserWarning: Moving the following attributes in the config to the generation config: {'max_length': 512, 'num_beams': 4, 'bad_words_ids': [[58100]]}. You are seeing this warning because you've set generation parameters in the model config, as opposed to in the generation config.\n",
      "  warnings.warn(\n"
     ]
    },
    {
     "data": {
      "text/plain": [
       "TrainOutput(global_step=810, training_loss=1.1138491030092592, metrics={'train_runtime': 43.0474, 'train_samples_per_second': 602.127, 'train_steps_per_second': 18.816, 'total_flos': 160830792400896.0, 'train_loss': 1.1138491030092592, 'epoch': 3.0})"
      ]
     },
     "execution_count": 22,
     "metadata": {},
     "output_type": "execute_result"
    }
   ],
   "source": [
    "from transformers import Seq2SeqTrainingArguments, Seq2SeqTrainer\n",
    "from transformers import DataCollatorForSeq2Seq\n",
    "from datasets import Dataset, DatasetDict\n",
    "\n",
    "max_length = 100\n",
    "\n",
    "# Load the training data\n",
    "with open(\"lotr.train.de\", \"r\") as f:\n",
    "    src_texts = f.readlines()\n",
    "\n",
    "with open(\"lotr.train.en\", \"r\") as f:\n",
    "    tgt_texts = f.readlines()\n",
    "\n",
    "# Create the dataset\n",
    "ds = Dataset.from_dict({\n",
    "    \"src_text\": src_texts,\n",
    "    \"tgt_text\": tgt_texts\n",
    "})\n",
    "data = DatasetDict({\"train\": ds})\n",
    "\n",
    "def preprocess_function(examples):\n",
    "    model_inputs = tokenizer(examples[\"src_text\"], text_target=examples[\"tgt_text\"], max_length=max_length, truncation=True)\n",
    "    return model_inputs\n",
    "\n",
    "# Tokenize the dataset\n",
    "tokenized_datasets = data.map(preprocess_function, batched=True)\n",
    "print(tokenized_datasets)\n",
    "\n",
    "# Create the data collator\n",
    "data_collator = DataCollatorForSeq2Seq(tokenizer, model=translator)\n",
    "\n",
    "# Define the training arguments\n",
    "args = Seq2SeqTrainingArguments(\n",
    "    output_dir=\"opus-mt-de-en-lotr\",\n",
    "    evaluation_strategy=\"no\",\n",
    "    save_strategy=\"epoch\",\n",
    "    learning_rate=2e-5,\n",
    "    per_device_train_batch_size=32,\n",
    "    weight_decay=0.01,\n",
    "    save_total_limit=3,\n",
    "    num_train_epochs=3,\n",
    "    predict_with_generate=True\n",
    ")\n",
    "\n",
    "# Create the trainer\n",
    "trainer = Seq2SeqTrainer(\n",
    "    translator,\n",
    "    args,\n",
    "    train_dataset=tokenized_datasets[\"train\"],\n",
    "    data_collator=data_collator,\n",
    "    tokenizer=tokenizer\n",
    ")\n",
    "\n",
    "# Start training\n",
    "trainer.train()"
   ]
  },
  {
   "cell_type": "markdown",
   "metadata": {},
   "source": [
    "The model was fine-tuned for three epochs, and you should have three checkpoints in the `opus-mt-de-en-lotr` directory.\n",
    "\n",
    "__Task 2.9__ (1 point): Choose one of the checkpoints and use it to translate the test set. Evaluate the test set with BLEU, chrF and COMET. Note that locally saved model files (and tokenizers) can be loaded in the same way as models from the HuggingFace hub, e.g. with the following command: `transformers.AutoModelForSeq2SeqLM.from_pretrained(\"opus-mt-de-en-lotr/checkpoint-810\")`\n",
    "\n",
    "Did fine-tuning help? Did fine-tuning help? Have a look at the first rows of the files. Do you agree with the metrics?"
   ]
  },
  {
   "cell_type": "code",
   "execution_count": 23,
   "metadata": {},
   "outputs": [
    {
     "data": {
      "application/vnd.jupyter.widget-view+json": {
       "model_id": "931e6dd3c69c482991045714352211cd",
       "version_major": 2,
       "version_minor": 0
      },
      "text/plain": [
       "Fetching 5 files:   0%|          | 0/5 [00:00<?, ?it/s]"
      ]
     },
     "metadata": {},
     "output_type": "display_data"
    },
    {
     "name": "stderr",
     "output_type": "stream",
     "text": [
      "Lightning automatically upgraded your loaded checkpoint from v1.8.3.post1 to v2.4.0. To apply the upgrade to your files permanently, run `python -m pytorch_lightning.utilities.upgrade_checkpoint .cache/huggingface/hub/models--Unbabel--wmt22-comet-da/snapshots/371e9839ca4e213dde891b066cf3080f75ec7e72/checkpoints/model.ckpt`\n",
      "/fp/homes01/u01/ec-khoimt/.local/lib/python3.11/site-packages/transformers/tokenization_utils_base.py:1617: FutureWarning: `clean_up_tokenization_spaces` was not set. It will be set to `True` by default. This behavior will be deprecated in transformers v4.45, and will be then set to `False` by default. For more details check this issue: https://github.com/huggingface/transformers/issues/31884\n",
      "  warnings.warn(\n",
      "Encoder model frozen.\n",
      "/fp/homes01/u01/ec-khoimt/.local/lib/python3.11/site-packages/pytorch_lightning/core/saving.py:195: Found keys that are not in the model state dict but in the checkpoint: ['encoder.model.embeddings.position_ids']\n",
      "/fp/homes01/u01/ec-khoimt/.local/lib/python3.11/site-packages/lightning_fabric/plugins/environments/slurm.py:204: The `srun` command is available on your system but is not used. HINT: If your intention is to run Lightning on SLURM, prepend your python command with `srun` like so: srun python /cluster/software/EL9/easybuild/software/jupyter-ser ...\n",
      "GPU available: True (cuda), used: True\n",
      "TPU available: False, using: 0 TPU cores\n",
      "HPU available: False, using: 0 HPUs\n",
      "LOCAL_RANK: 0 - CUDA_VISIBLE_DEVICES: [0]\n"
     ]
    },
    {
     "name": "stdout",
     "output_type": "stream",
     "text": [
      "BLEU score: BLEU = 33.26 68.3/44.6/30.2/19.7 (BP = 0.906 ratio = 0.911 hyp_len = 6120 ref_len = 6721)\n",
      "COMET score: {'mean_score': 0.8648609526157379, 'scores': [0.9153851866722107, 0.9468668103218079, 0.8256569504737854, 0.8963990211486816, 0.9530919194221497, 0.9214392900466919, 0.9798831343650818, 0.9793310761451721, 0.9540467262268066, 0.869658350944519, 0.7360653877258301, 0.7124089598655701, 0.8379898071289062, 0.7160571217536926, 0.7955370545387268, 0.9529080390930176, 0.9506795406341553, 0.9839560389518738, 0.91288822889328, 0.8799622654914856, 0.9229069352149963, 0.7448776960372925, 0.7838560938835144, 0.898786723613739, 0.891481339931488, 0.8060702681541443, 0.9700202345848083, 0.5075957179069519, 0.8797752261161804, 0.7960687279701233, 0.9037336707115173, 0.9205743670463562, 0.6748988032341003, 0.912050187587738, 0.3633274734020233, 0.3448634743690491, 0.9769700169563293, 0.7603086233139038, 0.605912983417511, 0.8996880650520325, 0.9300352931022644, 0.8096268773078918, 0.9077592492103577, 0.9691547751426697, 0.9937438368797302, 0.8357927799224854, 0.2993086874485016, 0.8486650586128235, 0.9863396286964417, 0.9785480499267578, 0.44985494017601013, 0.6811664700508118, 0.9091596007347107, 0.9827471375465393, 0.5905411839485168, 0.9537616968154907, 0.8244879245758057, 0.9322856068611145, 0.9692363142967224, 0.9593409299850464, 0.9769757390022278, 0.9834768176078796, 0.9945901036262512, 0.9945901036262512, 0.8020917773246765, 0.9456378221511841, 0.9625460505485535, 0.7758439183235168, 0.8640493750572205, 0.985202968120575, 0.7670897841453552, 0.8640493750572205, 0.9229949116706848, 0.9469378590583801, 0.9805604815483093, 0.6075947880744934, 0.8719596266746521, 0.8209757208824158, 0.4337240755558014, 0.9181261658668518, 0.8469477891921997, 0.8201767802238464, 0.9729626774787903, 0.720603883266449, 0.6681949496269226, 0.7786447405815125, 0.8242917656898499, 0.9289504289627075, 0.880580484867096, 0.9112271666526794, 0.982518196105957, 0.9797431826591492, 0.9831728935241699, 0.9923874139785767, 0.9464380145072937, 0.986412763595581, 0.8676642775535583, 0.8992344737052917, 0.8225768208503723, 0.6388261318206787, 0.9282562136650085, 0.8747721314430237, 0.9121451377868652, 0.7459052205085754, 0.8530313372612, 0.7987783551216125, 0.9692288637161255, 0.8522488474845886, 0.9295802712440491, 0.8521592020988464, 0.9858140349388123, 0.8380022048950195, 0.8651576638221741, 0.6719104647636414, 0.8900024890899658, 0.9572255611419678, 0.9716889262199402, 0.7989184260368347, 0.8765586018562317, 0.9002859592437744, 0.7449661493301392, 0.8429637551307678, 0.7382087111473083, 0.867331862449646, 0.6870861649513245, 0.8808607459068298, 0.7354530692100525, 0.9524294137954712, 0.9837630987167358, 0.8315772414207458, 0.9753018617630005, 0.9811066389083862, 0.9418104290962219, 0.7204805016517639, 0.9383964538574219, 0.6871119737625122, 0.6499795317649841, 0.585329532623291, 0.8687666058540344, 0.7451308369636536, 0.9865167737007141, 0.9830449819564819, 0.8637943267822266, 0.6700285077095032, 0.9707313776016235, 0.9780859351158142, 0.9921314120292664, 0.979390561580658, 0.8994338512420654, 0.6965266466140747, 0.6965269446372986, 0.9909451603889465, 0.9827496409416199, 0.5908550024032593, 0.8563550710678101, 0.9922916293144226, 0.7279420495033264, 0.9020971059799194, 0.9553620219230652, 0.834267795085907, 0.8033730387687683, 0.8371673822402954, 0.8457216620445251, 0.9843493700027466, 0.6997048258781433, 0.7800922393798828, 0.6487298607826233, 0.8638026714324951, 0.8544659614562988, 0.6483543515205383, 0.8163583874702454, 0.9554415345191956, 0.9292682409286499, 0.900967538356781, 0.8554452657699585, 0.8508058190345764, 0.880692183971405, 0.8561197519302368, 0.9143741130828857, 0.4656887352466583, 0.9116454720497131, 0.8642992973327637, 0.9144166111946106, 0.9197894334793091, 0.9810569882392883, 0.8590652346611023, 0.9654404520988464, 0.9012638330459595, 0.9903915524482727, 0.8405547142028809, 0.641468346118927, 0.9884658455848694, 0.7056386470794678, 0.7370378971099854, 0.51686030626297, 0.5584183931350708, 0.8614121079444885, 0.6618692278862, 0.5860111713409424, 0.9396176934242249, 0.7336984276771545, 0.6364709734916687, 0.8992673754692078, 0.9684585928916931, 0.9478012919425964, 0.7891109585762024, 0.6779292225837708, 0.8560724854469299, 0.8191962838172913, 0.8759167194366455, 0.838001549243927, 0.8731532692909241, 0.9916978478431702, 0.9842259287834167, 0.8623402714729309, 0.8451264500617981, 0.6947677731513977, 0.8950387835502625, 0.9515825510025024, 0.7733768820762634, 0.9606385231018066, 0.9769757390022278, 0.7697436213493347, 0.979390561580658, 0.7993208169937134, 0.7175447344779968, 0.8147700428962708, 0.7599160075187683, 0.928853452205658, 0.623164713382721, 0.8945989012718201, 0.6499661803245544, 0.8932039141654968, 0.8603503704071045, 0.6921983957290649, 0.7369661927223206, 0.8362718224525452, 0.9189029335975647, 0.8335173726081848, 0.8739514350891113, 0.8469751477241516, 0.767185628414154, 0.7181483507156372, 0.8450542092323303, 0.6660023927688599, 0.5322186350822449, 0.9036337733268738, 0.9134377837181091, 0.7931616902351379, 0.9793121218681335, 0.9917393326759338, 0.6689226031303406, 0.710899829864502, 0.9870690703392029, 0.777037501335144, 0.7133857607841492, 0.8138112425804138, 0.9363073110580444, 0.9020886421203613, 0.897496223449707, 0.9910681843757629, 0.8267956376075745, 0.8878363370895386, 0.9346097111701965, 0.9153649210929871, 0.8582814335823059, 0.6531064510345459, 0.9747231602668762, 0.9590586423873901, 0.994333803653717, 0.9604969024658203, 0.7711040377616882, 0.9519228339195251, 0.9779133796691895, 0.8785310983657837, 0.7960687279701233, 0.9759207367897034, 0.7157338261604309, 0.9749079942703247, 0.9020061492919922, 0.8744574189186096, 0.8964266777038574, 0.9469608068466187, 0.9430376887321472, 0.9413778185844421, 0.9517654776573181, 0.8612204194068909, 0.9318825602531433, 0.9358194470405579, 0.9881563782691956, 0.9769133925437927, 0.8491925597190857, 0.8185351490974426, 0.8103146553039551, 0.9606572985649109, 0.9028580784797668, 0.8761833310127258, 0.8454146385192871, 0.9761350750923157, 0.9345053434371948, 0.8656920194625854, 0.948577880859375, 0.7267614006996155, 0.9259272217750549, 0.5690261125564575, 0.4993312656879425, 0.49150362610816956, 0.6467970013618469, 0.9832669496536255, 0.8149145841598511, 0.9837520718574524, 0.8863757252693176, 0.8281612992286682, 0.6631723046302795, 0.7241441607475281, 0.9711853861808777, 0.657325804233551, 0.8723245859146118, 0.829178512096405, 0.9025049209594727, 0.9833351373672485, 0.949083685874939, 0.9819111227989197, 0.9793108105659485, 0.9783948063850403, 0.9644166231155396, 0.9898999333381653, 0.7559308409690857, 0.9895334839820862, 0.9936877489089966, 0.9169766902923584, 0.9864433407783508, 0.6827004551887512, 0.9733025431632996, 0.8674126267433167, 0.799788773059845, 0.9718726277351379, 0.8403555154800415, 0.9609645009040833, 0.8132117986679077, 0.6165129542350769, 0.9259369969367981, 0.5297794342041016, 0.9481779932975769, 0.9849762916564941, 0.7813305258750916, 0.7307268977165222, 0.9617363810539246, 0.9841689467430115, 0.8447782397270203, 0.9383063912391663, 0.9599717259407043, 0.9238842725753784, 0.8189046382904053, 0.980504035949707, 0.6538368463516235, 0.919815719127655, 0.9428017735481262, 0.8706965446472168, 0.7928183674812317, 0.8959384560585022, 0.8488650918006897, 0.9520000219345093, 0.4378988444805145, 0.2521374225616455, 0.9744135141372681, 0.9902880787849426, 0.9721822142601013, 0.7702705264091492, 0.8457518219947815, 0.8698166608810425, 0.7978755831718445, 0.859485924243927, 0.8443509340286255, 0.9692773222923279, 0.9801416993141174, 0.9676029086112976, 0.8920282125473022, 0.8196237683296204, 0.6494956612586975, 0.9850254654884338, 0.9740573763847351, 0.8284897804260254, 0.9631540179252625, 0.9326810240745544, 0.9870356321334839, 0.9521903991699219, 0.61962890625, 0.9093772768974304, 0.9836642146110535, 0.8164522647857666, 0.9769757390022278, 0.5950137972831726, 0.9017950296401978, 0.9212074875831604, 0.9735807776451111, 0.6198564171791077, 0.5415324568748474, 0.6612783670425415, 0.9456656575202942, 0.8271749019622803, 0.9512380957603455, 0.7428552508354187, 0.8505457043647766, 0.8017847537994385, 0.7110089659690857, 0.824535608291626, 0.8924399018287659, 0.9054821133613586, 0.906225860118866, 0.9933885335922241, 0.9584874510765076, 0.9805288314819336, 0.6782142519950867, 0.9343125820159912, 0.6179553866386414, 0.9836112856864929, 0.8437177538871765, 0.9722535014152527, 0.816990077495575, 0.7784975171089172, 0.5339258313179016, 0.8382961750030518, 0.8790289163589478, 0.8334563374519348, 0.9733803272247314, 0.8970149755477905, 0.9445468783378601, 0.9799773097038269, 0.9792119860649109, 0.827174723148346, 0.7747376561164856, 0.9828271865844727, 0.7233723998069763, 0.4587845206260681, 0.6698575615882874, 0.9049203991889954, 0.9910312294960022, 0.9811298251152039, 0.9837517738342285, 0.9776983261108398, 0.9695690870285034, 0.9897700548171997, 0.843255341053009, 0.9618604779243469, 0.8705990314483643, 0.9315482378005981, 0.7891571521759033, 0.6732643246650696, 0.9843044281005859, 0.9222917556762695, 0.7994033098220825, 0.7806492447853088, 0.9799850583076477, 0.9752166271209717, 0.9894608855247498, 0.8138785362243652, 0.8269847631454468, 0.8877793550491333, 0.9729626774787903, 0.9161965250968933, 0.7372851371765137, 0.7570443749427795, 0.929614782333374, 0.8559818863868713, 0.9749771356582642, 0.8878334164619446, 0.8823136687278748, 0.9421828985214233, 0.8424543738365173, 0.7773546576499939, 0.8842658400535583, 0.8258323073387146, 0.8828199505805969, 0.7197988629341125, 0.9936877489089966, 0.7073869109153748, 0.8903070688247681, 0.8090360760688782, 0.8762770295143127, 0.7025743126869202, 0.7400183081626892, 0.8507871627807617, 0.8489396572113037, 0.8973661065101624, 0.8446716666221619, 0.9867932796478271, 0.9519549012184143, 0.9083436727523804, 0.9828483462333679, 0.9564648866653442, 0.9634857773780823, 0.8892874717712402, 0.8009592890739441, 0.6508749127388, 0.9854294061660767, 0.8956752419471741, 0.9833842515945435, 0.7789610028266907, 0.8147069215774536, 0.5691789388656616, 0.9793310761451721, 0.786490261554718, 0.7378765344619751, 0.7410382628440857, 0.9750756025314331, 0.8668972849845886, 0.9048952460289001, 0.879008948802948, 0.654827892780304, 0.5918178558349609, 0.6357411742210388, 0.867705762386322, 0.840007483959198, 0.8978798389434814, 0.8447249531745911, 0.8972174525260925, 0.8106047511100769, 0.8132657408714294, 0.7425766587257385, 0.7376353144645691, 0.5886361002922058, 0.8510370850563049, 0.9916130304336548, 0.9554701447486877, 0.8089552521705627, 0.9811182618141174, 0.5133084654808044, 0.9402108788490295, 0.6413230299949646, 0.62702876329422, 0.8282631039619446, 0.8060234189033508, 0.9726340174674988, 0.9897394776344299, 0.9923117756843567, 0.9899899363517761, 0.8500222563743591, 0.9926087856292725, 0.9921645522117615, 0.7599778771400452, 0.9802059531211853, 0.7978774905204773, 0.7004165649414062, 0.8826881051063538, 0.9929884076118469, 0.9832571148872375, 0.9936273097991943, 0.9867784380912781, 0.9927919507026672, 0.9904448390007019, 0.991516649723053, 0.9900279641151428, 0.9904230237007141, 0.9122687578201294, 0.8594063520431519, 0.9876648783683777, 0.9904448390007019, 0.9927919507026672, 0.9909384846687317, 0.9083662033081055, 0.5041996240615845, 0.7044993042945862, 0.7263235449790955, 0.9867785573005676, 0.9287205934524536, 0.9549800157546997, 0.8476303219795227, 0.8500222563743591, 0.9688953161239624, 0.8739390969276428, 0.9877286553382874, 0.9877286553382874, 0.9912248253822327, 0.8458133935928345, 0.9916228652000427, 0.9927919507026672, 0.9902549386024475, 0.9888681769371033, 0.7225363850593567, 0.8709141612052917, 0.9572207927703857, 0.5743575692176819, 0.9873402118682861, 0.6583794951438904, 0.8429927229881287, 0.9806169867515564, 0.7175693511962891, 0.9919397234916687, 0.9449915289878845, 0.8871701955795288, 0.7768622636795044, 0.9122783541679382, 0.7531120181083679, 0.9923995137214661, 0.8126587271690369, 0.7179387807846069, 0.8117894530296326, 0.8421844840049744, 0.7868006229400635, 0.8748988509178162, 0.9898386001586914, 0.9482852816581726, 0.9877976775169373, 0.8597039580345154, 0.9298985600471497, 0.9424509406089783, 0.7808440327644348, 0.6690213084220886, 0.9104799628257751, 0.8421432971954346, 0.8346790671348572, 0.8222954869270325, 0.9636914134025574, 0.8317146897315979, 0.9521731734275818, 0.6367667317390442, 0.8689280152320862, 0.8811213970184326, 0.883635401725769, 0.6771481037139893, 0.9551461338996887, 0.9829484224319458, 0.9916267395019531, 0.987393319606781, 0.868632972240448, 0.6453164219856262, 0.9744841456413269, 0.9775617718696594, 0.9782016277313232, 0.9243369698524475, 0.8396956324577332, 0.7711312174797058, 0.8394884467124939, 0.7208935618400574, 0.9858140349388123, 0.9259272217750549, 0.781509518623352, 0.9270946383476257, 0.7694576382637024, 0.8421057462692261, 0.9860827326774597, 0.7878236770629883, 0.9196159839630127, 0.9176364541053772, 0.9176364541053772, 0.9133068919181824, 0.6534561514854431, 0.9223164916038513, 0.9636914134025574, 0.5751204490661621, 0.7700551152229309, 0.5751204490661621, 0.9884137511253357, 0.9421828985214233, 0.9176364541053772, 0.8857876658439636, 0.9176364541053772, 0.7174778580665588, 0.9922261238098145, 0.941374659538269, 0.9922261238098145, 0.3846333920955658, 0.9085162281990051, 0.9426146149635315, 0.9729626774787903, 0.7893840670585632, 0.9784790873527527, 0.7761558890342712, 0.8777835965156555, 0.9472853541374207, 0.9830449819564819, 0.9151335954666138, 0.9151335954666138, 0.976128339767456, 0.7422755360603333, 0.776887834072113, 0.7874166369438171, 0.8773803114891052, 0.7937018275260925, 0.9837092757225037, 0.8817813992500305, 0.9907042384147644, 0.7262081503868103, 0.9845479130744934, 0.8029459118843079, 0.8866667151451111, 0.9473759531974792, 0.9045904278755188, 0.9052590727806091, 0.9726014137268066, 0.9674904942512512, 0.9923542141914368, 0.9933584332466125, 0.9931882619857788, 0.987419605255127, 0.9918575882911682, 0.6826445460319519, 0.8510201573371887, 0.9538849592208862, 0.7960690259933472, 0.8465983271598816, 0.9912605881690979, 0.9211850762367249, 0.8473231792449951, 0.8791497349739075, 0.9945901036262512, 0.9830488562583923, 0.9353272914886475, 0.9130557179450989, 0.7610877752304077, 0.8125678896903992, 0.9800455570220947, 0.9945901036262512, 0.9863396286964417, 0.6486287713050842, 0.8752737641334534, 0.8511765599250793, 0.7223508954048157, 0.9832669496536255, 0.9330085515975952, 0.8428022265434265, 0.9797435998916626, 0.9495024085044861, 0.9920877814292908, 0.7201417684555054, 0.7476783990859985, 0.9266197681427002, 0.9777037501335144, 0.9833051562309265, 0.9877976775169373, 0.8413734436035156, 0.9782384634017944, 0.9844793677330017, 0.9713373780250549, 0.7911660671234131, 0.5617050528526306, 0.6511054039001465, 0.5864139199256897, 0.7475413680076599, 0.7670086622238159, 0.8804742693901062, 0.9393638968467712, 0.9795400500297546, 0.9919271469116211, 0.9919270873069763, 0.902802050113678, 0.7723410725593567, 0.8327300548553467, 0.8776745200157166, 0.9779577851295471, 0.9196183085441589, 0.7854427099227905, 0.9908717274665833, 0.8403876423835754, 0.9821496605873108, 0.9807604551315308, 0.9935055375099182, 0.9147457480430603, 0.8939172625541687, 0.9492620825767517, 0.9679256081581116, 0.9849951863288879, 0.8445622324943542, 0.2884766757488251, 0.9835328459739685, 0.9841689467430115, 0.9823935031890869, 0.8754076957702637, 0.9860057234764099, 0.7298060059547424, 0.8646937012672424, 0.9324072003364563, 0.838467538356781, 0.9759535193443298, 0.9618938565254211, 0.9783271551132202, 0.9281816482543945, 0.9492843747138977, 0.9409778714179993, 0.29624518752098083, 0.845979630947113, 0.9798691868782043, 0.9815340638160706, 0.6572838425636292, 0.9188007712364197, 0.6930943727493286, 0.7269221544265747, 0.9926628470420837, 0.49294933676719666, 0.6568484902381897, 0.9825646281242371, 0.6921951174736023, 0.6953025460243225, 0.8687127828598022, 0.9830449819564819, 0.9774609208106995, 0.7545890808105469, 0.968348503112793, 0.8606497049331665, 0.9784044623374939, 0.6518807411193848, 0.9567491412162781, 0.8221303820610046, 0.5318050980567932, 0.9729626774787903, 0.9805743098258972, 0.863486647605896, 0.902357816696167, 0.9813736081123352, 0.9740620255470276, 0.9797670841217041, 0.9562678933143616, 0.9718093276023865, 0.8353947997093201, 0.9931565523147583, 0.35316577553749084, 0.6612725853919983, 0.992653489112854, 0.9921320080757141, 0.9830449819564819, 0.9830449819564819, 0.9729626774787903, 0.9729626774787903, 0.9753767848014832, 0.9921320080757141, 0.9921320080757141, 0.993872344493866, 0.9753767848014832, 0.9936877489089966, 0.9936877489089966, 0.9832239747047424, 0.993872344493866, 0.8286769986152649, 0.9774609208106995, 0.9788247346878052, 0.9788247346878052, 0.9755418300628662, 0.9798581600189209, 0.9832239747047424, 0.9832239747047424, 0.9667293429374695, 0.9861141443252563, 0.8892101049423218, 0.7444368004798889, 0.9729626774787903, 0.7929873466491699, 0.7937096953392029, 0.7600206136703491, 0.9227456450462341, 0.9836359620094299, 0.98094642162323, 0.9050198793411255, 0.8272219300270081, 0.5888778567314148, 0.6847190260887146, 0.920412003993988, 0.6960734128952026, 0.9444606900215149, 0.772024393081665, 0.9838414192199707, 0.980404257774353, 0.7962824702262878, 0.9729626774787903, 0.9907042384147644, 0.9729626774787903, 0.8793953061103821, 0.870908796787262, 0.9830449819564819, 0.9830449819564819, 0.9845444560050964, 0.85994952917099, 0.6091707348823547, 0.6091712117195129, 0.793854832649231, 0.9902161359786987, 0.896771252155304, 0.9399757981300354, 0.9457980990409851, 0.950816810131073, 0.9832322001457214, 0.8550739288330078, 0.9600946307182312, 0.580633282661438, 0.976127028465271, 0.8867687582969666, 0.9704738855361938, 0.6874804496765137, 0.9080323576927185, 0.9863396286964417, 0.9805835485458374, 0.9779503345489502, 0.981288731098175, 0.8483276963233948, 0.9769757390022278, 0.9021798372268677, 0.71157306432724, 0.9764268398284912, 0.9871052503585815, 0.8839972019195557, 0.8170372843742371, 0.8742729425430298, 0.9247117638587952, 0.9075480699539185, 0.7362779378890991, 0.9820392727851868, 0.7675683498382568, 0.688366711139679, 0.8031813502311707, 0.8580734729766846, 0.6750410795211792, 0.8441734910011292, 0.9211371541023254, 0.9928598999977112, 0.8372422456741333, 0.8633484244346619, 0.8694950938224792, 0.7333421111106873, 0.7932560443878174, 0.6801661849021912, 0.6002049446105957, 0.9178398251533508, 0.7629228234291077, 0.8615813851356506, 0.9404287934303284, 0.8053362369537354, 0.9806755185127258, 0.9764153361320496, 0.8381621241569519, 0.8907211422920227, 0.9805426597595215, 0.899002194404602, 0.8584058880805969, 0.8050514459609985, 0.8626859188079834, 0.9054999351501465, 0.9934396147727966, 0.695395290851593, 0.9672825336456299, 0.926332414150238, 0.9809442162513733, 0.9005354046821594, 0.9834338426589966, 0.6815937161445618, 0.9644750952720642, 0.3972698152065277, 0.914328932762146, 0.984691321849823, 0.5757387280464172, 0.6337211728096008, 0.9729751348495483, 0.9803599119186401, 0.7153404355049133, 0.603121280670166, 0.7792597413063049, 0.5772957801818848, 0.9941075444221497, 0.9941075444221497, 0.9117817282676697, 0.9888262152671814, 0.9903276562690735, 0.9541143178939819, 0.9164535999298096, 0.9668554663658142, 0.9458232522010803, 0.9835482239723206, 0.7936922311782837, 0.9788764119148254, 0.9491071105003357, 0.7902069687843323, 0.9422478079795837, 0.9923874139785767, 0.7815969586372375, 0.9823207259178162, 0.8265675902366638, 0.6620086431503296, 0.616844892501831, 0.9639410376548767, 0.9760122895240784, 0.9576864838600159, 0.7739843726158142, 0.9769757390022278, 0.8687999844551086, 0.6363078355789185, 0.9870373010635376, 0.9846755266189575, 0.9865644574165344, 0.979694664478302, 0.8202562928199768, 0.9689229726791382, 0.9919136166572571, 0.9836642146110535, 0.9902310967445374, 0.993603527545929, 0.9315987229347229, 0.8980349898338318, 0.8909273147583008, 0.9545314908027649, 0.9783539772033691, 0.9783539772033691]}\n"
     ]
    }
   ],
   "source": [
    "# Choose one of the checkpoints and use it to translate the test set. Evaluate the test set with BLEU, chrF and COMET. Note that locally saved model files (and tokenizers) can be loaded in the same way as models from the HuggingFace hub, e.g. with the following command: `transformers.AutoModelForSeq2SeqLM.from_pretrained(\"opus-mt-de-en-lotr/checkpoint-810\")`\n",
    "\n",
    "# Load the trained model\n",
    "model = transformers.AutoModelForSeq2SeqLM.from_pretrained(\"opus-mt-de-en-lotr/checkpoint-810\")\n",
    "model = model.to(device)\n",
    "\n",
    "# Translate the test set\n",
    "translate(\"lotr.test.de\", \"lotr.output_custom.en\", tokenizer, model)\n",
    "\n",
    "# Evaluate the translations\n",
    "bleu_score = evaluate_bleu(\"lotr.output_custom.en\", \"lotr.test.en\")\n",
    "comet_score = evaluate_comet(\"lotr.output_custom.en\", \"lotr.test.en\", \"lotr.test.de\")\n",
    "\n",
    "print(f\"BLEU score: {bleu_score}\")\n",
    "print(f\"COMET score: {comet_score}\")"
   ]
  },
  {
   "cell_type": "markdown",
   "metadata": {},
   "source": [
    "- Before fine-tuning: BLEU = 29.03 63.3/38.3/25.2/16.2 (BP = 0.920 ratio = 0.923 hyp_len = 6203 ref_len = 6721) | COMET score: 0.9051\n",
    "- After fine-tuning: BLEU = 33.26 68.3/44.6/30.2/19.7 (BP = 0.906 ratio = 0.911 hyp_len = 6120 ref_len = 6721) | COMET score: 0.864\n",
    "\n",
    "In conclusiom, the BLEU score increased from 29.03 to 33.26 after fine-tuning, indicating an improvement in translation quality and the COMET score decreased slightly from 0.9051 to 0.864, which may suggest that the fine-tuned model is less aligned with human judgements. The discrepancy between the two scores may indicate that the fine-tuned model is better at generating fluent translations but may not be as accurate in capturing the meaning of the source text."
   ]
  }
 ],
 "metadata": {
  "kernelspec": {
   "display_name": ".venv",
   "language": "python",
   "name": "python3"
  },
  "language_info": {
   "codemirror_mode": {
    "name": "ipython",
    "version": 3
   },
   "file_extension": ".py",
   "mimetype": "text/x-python",
   "name": "python",
   "nbconvert_exporter": "python",
   "pygments_lexer": "ipython3",
   "version": "3.12.6"
  }
 },
 "nbformat": 4,
 "nbformat_minor": 4
}
