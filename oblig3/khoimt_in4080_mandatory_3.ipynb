{
 "cells": [
  {
   "cell_type": "markdown",
   "metadata": {},
   "source": [
    "# IN4080: obligatory assignment 3\n",
    " \n",
    "Mandatory assignment 3 is about the practical use of Large Language Models (LLMs). More specifically, you will be tasked to implement a RAG (Retrieval-Augmented Generation) system able to answer factual questions based on a document database, more specifically Wiki pages extracted from an [online Star Wars encyclopedia](https://starwars.fandom.com). \n",
    "\n",
    "You are required to get at least 12/20 points to pass. \n",
    "\n",
    "- We assume that you have read and are familiar with IFI’s requirements and guidelines for mandatory assignments, see [here](https://www.uio.no/english/studies/examinations/compulsory-activities/mn-ifi-mandatory.html) and [here](https://www.uio.no/english/studies/examinations/compulsory-activities/mn-ifi-guidelines.html).\n",
    "- This is an individual assignment. You should not deliver joint submissions. \n",
    "- You may redeliver in Devilry before the deadline (__Sunday, October 13 at 23:59__).\n",
    "- Only the last delivery will be read! If you deliver more than one file, put them into a zip-archive. You don't have to include in your delivery the data files already provided for this assignment. \n",
    "- Name your submission _your\\_username\\_in4080\\_mandatory\\_3_\n",
    "\n",
    "The preferred way to complete this assignment is using the high-performance computing cluster _Fox_. See [here](https://www.uio.no/studier/emner/matnat/ifi/IN4080/h24/computing-setup.html) for instructions on how to register and log in to Fox.\n",
    "\n",
    "You should deliver a completed version of this Jupyter notebook, containing both your code and explanations about the steps you followed. We want to stress that simply submitting code is __not__ by itself sufficient to complete the assignment - we expect the notebook to also contain explanations of what you have implemented, along with motivations for the choices you made along the way. Preferably use whole sentences, and mathematical formulas if necessary. Explaining in your own words (using concepts we have covered through in the lectures) what you have implemented and reflecting on your solution is an important part of the learning process - take it seriously!\n",
    "\n",
    "Regarding the use of LLMs (ChatGPT or similar): you are allowed to use them as 'sparring partner', for instance to clarify something you have not understood. However, you are __not__ allowed to use them to generate solutions (either in part or in full) to the assignment tasks. \n"
   ]
  },
  {
   "cell_type": "markdown",
   "metadata": {},
   "source": [
    "## Basic setup\n",
    "\n",
    "We will start by building a chatbot that directly answers user questions using an instruction-tuned LLM, without relying on any database. We will use the instruction-tuned version of the [Gemma 1.1 language model](https://huggingface.co/google/gemma-1.1-2b-it) from Google, which is available on HuggingFace. \n",
    "\n",
    "_Note: feel free to switch to another model (such as the newly released Llama 3 models) if you wish to experiment with them. Note, however, that the most recent LLMs will likely require a newer version of the `transformers` library than what is currently installed on Fox._\n",
    "\n"
   ]
  },
  {
   "cell_type": "markdown",
   "metadata": {},
   "source": [
    "**Task 1** (4 points): Drawing inspiration from the code examples on the [Gemma webpage](https://huggingface.co/google/gemma-1.1-2b-it), implement the `__init__` and `get_response` methods. If you run the code on Fox with a GPU (or on a personal machine with a GPU), make sure that your code actually runs on the GPU."
   ]
  },
  {
   "cell_type": "code",
   "execution_count": 1,
   "metadata": {},
   "outputs": [],
   "source": [
    "import os\n",
    "from dotenv import load_dotenv, find_dotenv\n",
    "\n",
    "# loading the HUGGINGFACE_TOKEN Keys from .env file\n",
    "load_dotenv(find_dotenv(), override=True)\n",
    "\n",
    "hugging_face_token = os.getenv(\"HUGGINGFACE_TOKEN\")"
   ]
  },
  {
   "cell_type": "code",
   "execution_count": 2,
   "metadata": {},
   "outputs": [
    {
     "data": {
      "application/vnd.jupyter.widget-view+json": {
       "model_id": "36986ae58b0d4b62b65aabda1b48d9bb",
       "version_major": 2,
       "version_minor": 0
      },
      "text/plain": [
       "Loading checkpoint shards:   0%|          | 0/2 [00:00<?, ?it/s]"
      ]
     },
     "metadata": {},
     "output_type": "display_data"
    }
   ],
   "source": [
    "import torch\n",
    "from transformers import AutoTokenizer, AutoModelForCausalLM\n",
    "\n",
    "class BasicResponseGenerator:\n",
    "\n",
    "    def __init__(self, model_name=\"google/gemma-1.1-2b-it\"):\n",
    "        \"\"\"Loads the tokenizer and pretrained causal LM for the given model. \n",
    "        If a GPU is available, the model should be loaded on the GPU \"\"\"\n",
    "        self.model_name = model_name\n",
    "        self.tokenizer = AutoTokenizer.from_pretrained(self.model_name, token=hugging_face_token)\n",
    "        self.model = AutoModelForCausalLM.from_pretrained(\n",
    "            self.model_name,\n",
    "            token=hugging_face_token\n",
    "        )\n",
    "\n",
    "    def get_response(self, prompt:str, max_length:int=50) -> str:\n",
    "        \"\"\"Given a prompt, generate a response (of a maximum max_length tokens) and return it.\n",
    "        Only the response should be returned, not the text of the prompt itself\n",
    "        \"\"\"\n",
    "        \n",
    "        input_ids = self.tokenizer(prompt, return_tensors=\"pt\")\n",
    "        outputs = self.model.generate(**input_ids,max_length=max_length)\n",
    "\n",
    "        return self.tokenizer.decode(outputs[0])\n",
    "\n",
    "agent = BasicResponseGenerator()"
   ]
  },
  {
   "cell_type": "markdown",
   "metadata": {},
   "source": [
    "_Note: An easy way to verify that the GPU is actually used is to run the command `nvidia-smi` while your code is running. There also exists alternative GPU monitoring tools, like [`gpustat`](https://pypi.org/project/gpustat/0.3.2/)._\n",
    "\n",
    "You can then test your response generator with the following set of questions: "
   ]
  },
  {
   "cell_type": "code",
   "execution_count": 4,
   "metadata": {},
   "outputs": [],
   "source": [
    "questions = [\"Who is Luke Skywalker?\",\n",
    "             \"Where is the Niima Outpost in Star Wars?\",\n",
    "             \"Have you heard of Nute Gunray? Who is he?\",\n",
    "             \"What kind of planet is Kashyyyk, and who discovered it?\",\n",
    "             \"Who are Condlurans, and can you give 2-3 names of known Condlurans?\",\n",
    "             \"What can you tell me about the First Battle of Geonosis?\",\n",
    "             \"What is the name of the settlement where Anakin Skywalker and his mother lived?\",\n",
    "             \"Which planet did Darth Sidious represent as senator?\"]"
   ]
  },
  {
   "cell_type": "code",
   "execution_count": 18,
   "metadata": {},
   "outputs": [
    {
     "name": "stdout",
     "output_type": "stream",
     "text": [
      "Question: Who is Luke Skywalker?\n",
      "Answer: <bos>Who is Luke Skywalker?\n",
      "\n",
      "Luke Skywalker is a fictional character in the Star Wars franchise, a member of the Skywalker family, and a key figure in the Star Wars saga. He is the son of Anakin Skywalker and Padmé Amidala, and\n",
      "-------\n",
      "Question: Where is the Niima Outpost in Star Wars?\n",
      "Answer: <bos>Where is the Niima Outpost in Star Wars?\n",
      "\n",
      "The Niima Outpost is not mentioned in the Star Wars universe, so it does not exist.<eos>\n",
      "-------\n",
      "Question: Have you heard of Nute Gunray? Who is he?\n",
      "Answer: <bos>Have you heard of Nute Gunray? Who is he?\n",
      "\n",
      "I am unable to find any information about Nute Gunray on the internet.<eos>\n",
      "-------\n",
      "Question: What kind of planet is Kashyyyk, and who discovered it?\n",
      "Answer: <bos>What kind of planet is Kashyyyk, and who discovered it?\n",
      "\n",
      "**Kashyyyk** is a fictional planet from the Star Wars universe. It is a forested planet located in the Outer Rim.\n",
      "\n",
      "**Kashyyyk was discovered by\n",
      "-------\n",
      "Question: Who are Condlurans, and can you give 2-3 names of known Condlurans?\n",
      "Answer: <bos>Who are Condlurans, and can you give 2-3 names of known Condlurans?\n",
      "\n",
      "The term \"Condlurans\" is derived from the Greek word \"kondilos,\" which means \"to scrape.\"\n",
      "\n",
      "**Answer:**\n",
      "-------\n",
      "Question: What can you tell me about the First Battle of Geonosis?\n",
      "Answer: <bos>What can you tell me about the First Battle of Geonosis?\n",
      "\n",
      "The First Battle of Geonosis was a pivotal battle in the Clone Wars, fought on the planet Geonosis. It was a decisive victory for the Republic, led\n",
      "-------\n",
      "Question: What is the name of the settlement where Anakin Skywalker and his mother lived?\n",
      "Answer: <bos>What is the name of the settlement where Anakin Skywalker and his mother lived?\n",
      "\n",
      "Anakin Skywalker and his mother lived on the planet **Babel-Babel**.<eos>\n",
      "-------\n",
      "Question: Which planet did Darth Sidious represent as senator?\n",
      "Answer: <bos>Which planet did Darth Sidious represent as senator?\n",
      "\n",
      "This question cannot be answered because Darth Sidious is a fictional character and does not represent any real-world entity.<eos>\n",
      "-------\n"
     ]
    }
   ],
   "source": [
    "questions = [\"Who is Luke Skywalker?\",\n",
    "             \"Where is the Niima Outpost in Star Wars?\",\n",
    "             \"Have you heard of Nute Gunray? Who is he?\",\n",
    "             \"What kind of planet is Kashyyyk, and who discovered it?\",\n",
    "             \"Who are Condlurans, and can you give 2-3 names of known Condlurans?\",\n",
    "             \"What can you tell me about the First Battle of Geonosis?\",\n",
    "             \"What is the name of the settlement where Anakin Skywalker and his mother lived?\",\n",
    "             \"Which planet did Darth Sidious represent as senator?\"]\n",
    "\n",
    "for question in questions:\n",
    "    print(\"Question:\", question)\n",
    "    print(\"Answer:\", agent.get_response(question))\n",
    "    print(\"-------\")"
   ]
  },
  {
   "cell_type": "markdown",
   "metadata": {},
   "source": [
    "If your implementation is correct, the model should give you a few correct answers, but also many responses for which the model is either unable to give a precise answer, or hallucinates a (wrong) answer. This is expected, as the model is relatively small (3 billion parameters) and is a generic model that is not particularly optimised to generate trivia about the Star Wars Franchise. We will now try to improve the model performance by coupling the LLM to a document database.\n",
    "\n",
    "## Retrieval step\n",
    "\n",
    "Retrieval-augmented generation operates on a simple idea: instead of directly generating a response based on the \"parametric knowledge\" of the LLM, we first search for relevant documents in a database (or on the web). We then include the most relevant documents to the prompt, and ask the LLM to answer the user question _based on this retrieved knowledge_. \n",
    "\n",
    "In this assignment, you will use a set of Wiki texts extracted from an [online Star Wars encyclopedia](https://starwars.fandom.com) as document database. The wiki texts are available as a JSON file, either [here](https://home.nr.no/~plison/data/starwars.json) or on Fox at `/fp/projects01/ec403/IN4080/starwars.json`. The JSON is simply a dictionary mapping Wiki page titles to their content (in plain text).\n",
    "\n",
    "### Sparse retrieval \n",
    "\n",
    "We can start by using the newly released [BM25s](https://bm25s.github.io/) library, which implements a number of well-known search algorithms, which are all variants of the original [BM25 algorithm](https://en.wikipedia.org/wiki/Okapi_BM25) . Although BM25 is an old-fashioned search technique based on bag-of-words, it remains suprisingly effective, and is still widely used in modern NLP systems.\n",
    "\n",
    "**Task 2** (4 points): Fill in the implementation for the `BM25Retriever` class using [BM25s](https://bm25s.github.io/) (see the library documentation for details). You should filter out stop words by adding `stopwords='en_plus'` to the arguments of the tokenizer. "
   ]
  },
  {
   "cell_type": "code",
   "execution_count": 24,
   "metadata": {},
   "outputs": [
    {
     "name": "stderr",
     "output_type": "stream",
     "text": [
      "huggingface/tokenizers: The current process just got forked, after parallelism has already been used. Disabling parallelism to avoid deadlocks...\n",
      "To disable this warning, you can either:\n",
      "\t- Avoid using `tokenizers` before the fork if possible\n",
      "\t- Explicitly set the environment variable TOKENIZERS_PARALLELISM=(true | false)\n"
     ]
    },
    {
     "name": "stdout",
     "output_type": "stream",
     "text": [
      "  % Total    % Received % Xferd  Average Speed   Time    Time     Time  Current\n",
      "                                 Dload  Upload   Total   Spent    Left  Speed\n",
      "100 64.4M  100 64.4M    0     0  3172k      0  0:00:20  0:00:20 --:--:-- 3062k03 3084k20  0:00:20 --:--:-- 3006k\n"
     ]
    }
   ],
   "source": [
    "# !curl https://home.nr.no/~plison/data/starwars.json > starwars.json"
   ]
  },
  {
   "cell_type": "code",
   "execution_count": 5,
   "metadata": {},
   "outputs": [],
   "source": [
    "import bm25s\n",
    "import json\n",
    "from typing import List\n",
    "\n",
    "class BM25Retriever:\n",
    "\n",
    "    def __init__(self, filename=\"starwars.json\"):\n",
    "        \"\"\"Using the json file provided as input, create a BM25s retriever \n",
    "        containing all (indexed) documents.\"\"\"\n",
    "        with open(filename, \"r\") as file:\n",
    "            data = json.load(file)\n",
    "        \n",
    "        self.corpus = list(data.values())\n",
    "        self.corpus_tokens = bm25s.tokenize(self.corpus, stopwords=\"en_plus\")\n",
    "\n",
    "        self.retriever = bm25s.BM25(corpus=self.corpus)\n",
    "        self.retriever.index(self.corpus_tokens)\n",
    "        \n",
    "    def search(self, query:str, k:int=5) -> List[str]:\n",
    "        \"\"\"Use the BM25 retriever to find the k documents that are closest\n",
    "        to the provided query\"\"\"\n",
    "\n",
    "        query_tokens = bm25s.tokenize(query)\n",
    "        result = self.retriever.retrieve(query_tokens, k=k, return_as=\"documents\")\n",
    "\n",
    "        return result[0]"
   ]
  },
  {
   "cell_type": "markdown",
   "metadata": {},
   "source": [
    "We can then test our retriever by checking whether the documents with highest BM25 scores are indeed the ones that are most relevant to the query:"
   ]
  },
  {
   "cell_type": "code",
   "execution_count": 6,
   "metadata": {},
   "outputs": [
    {
     "data": {
      "application/vnd.jupyter.widget-view+json": {
       "model_id": "b39dba1fd9ad46bf81bc566a79794963",
       "version_major": 2,
       "version_minor": 0
      },
      "text/plain": [
       "Split strings:   0%|          | 0/178246 [00:00<?, ?it/s]"
      ]
     },
     "metadata": {},
     "output_type": "display_data"
    },
    {
     "data": {
      "application/vnd.jupyter.widget-view+json": {
       "model_id": "165a286f44c14b6aadb77395254b4b0b",
       "version_major": 2,
       "version_minor": 0
      },
      "text/plain": [
       "BM25S Count Tokens:   0%|          | 0/178246 [00:00<?, ?it/s]"
      ]
     },
     "metadata": {},
     "output_type": "display_data"
    },
    {
     "data": {
      "application/vnd.jupyter.widget-view+json": {
       "model_id": "1a22a84d4a124d7486daad52ff920c75",
       "version_major": 2,
       "version_minor": 0
      },
      "text/plain": [
       "BM25S Compute Scores:   0%|          | 0/178246 [00:00<?, ?it/s]"
      ]
     },
     "metadata": {},
     "output_type": "display_data"
    },
    {
     "name": "stdout",
     "output_type": "stream",
     "text": [
      "Question: Who is Luke Skywalker?\n",
      "Retrieved documents:\n"
     ]
    },
    {
     "data": {
      "application/vnd.jupyter.widget-view+json": {
       "model_id": "83129e84f19f4f54972b483b7eef8cf6",
       "version_major": 2,
       "version_minor": 0
      },
      "text/plain": [
       "Split strings:   0%|          | 0/1 [00:00<?, ?it/s]"
      ]
     },
     "metadata": {},
     "output_type": "display_data"
    },
    {
     "data": {
      "application/vnd.jupyter.widget-view+json": {
       "model_id": "e2c66294844145219ff1ad89b30cae7f",
       "version_major": 2,
       "version_minor": 0
      },
      "text/plain": [
       "BM25S Retrieve:   0%|          | 0/1 [00:00<?, ?it/s]"
      ]
     },
     "metadata": {},
     "output_type": "display_data"
    },
    {
     "name": "stdout",
     "output_type": "stream",
     "text": [
      "- Luke Skywalker's lightsaber was the first lightsaber constructed by Luke Skywalker and the second one he owned.\n",
      "- The Luke Skywalker X-Wing Mech was a mech piloted by Luke Skywalker. It shared a design with his X-wing and included a large lightsaber.\n",
      "- Holoeditor was a type of holographic technology used by Cronal to study and imitate Luke Skywalker in 5 ABY.Luke Skywalker and the Shadows of Mindor\n",
      "- Luke Skywalker and the Jedi's Revenge was a holothriller produced prior to 6 ABY, which purported to depict the duel between Luke Skywalker and Darth Vader aboard the second Death Star. Skywalker took exception to its historical inaccuracies, specifically its depiction of him killing Vader to avenge Palpatine's death at Vader's hands, which he characterized as \"sick\". In actuality the holothriller was created by Blackhole, in order to establish that Luke Skywalker was the next legitimate heir to the Empire. Blackhole was secretly planning on becoming Luke Skywalker during the Battle of Mindor.\n",
      "- Luke's Backpack was a blue colored satchel made on Dantooine out of gundark-skin that belonged to Luke Skywalker. It possessed many pockets, which Skywalker used while on patrol to hold supplies. Skywalker wore it on Dagobah, when he was under Yoda's tutelage. Yoda rode inside the backpack at least once, instructing Luke during a training run.\n",
      "===========\n",
      "Question: Where is the Niima Outpost in Star Wars?\n",
      "Retrieved documents:\n"
     ]
    },
    {
     "data": {
      "application/vnd.jupyter.widget-view+json": {
       "model_id": "a8955e3d7e2a40c58e2f5ee62999d31d",
       "version_major": 2,
       "version_minor": 0
      },
      "text/plain": [
       "Split strings:   0%|          | 0/1 [00:00<?, ?it/s]"
      ]
     },
     "metadata": {},
     "output_type": "display_data"
    },
    {
     "data": {
      "application/vnd.jupyter.widget-view+json": {
       "model_id": "c4aa6f7ca840444a9ae4f6b433919888",
       "version_major": 2,
       "version_minor": 0
      },
      "text/plain": [
       "BM25S Retrieve:   0%|          | 0/1 [00:00<?, ?it/s]"
      ]
     },
     "metadata": {},
     "output_type": "display_data"
    },
    {
     "name": "stdout",
     "output_type": "stream",
     "text": [
      "- The Niima Outpost Militia was a law enforcement agency stationed at Niima Outpost on the desert planet of Jakku. It was led by the Kyuzo Constable Zuvio and his two cousins&mdash;Drego and Streehn.\n",
      "- Bay Three was a docking bay in Niima Outpost on the planet Jakku. When the scavenger Rey took BB-8 to Niima Outpost, she told the droid there was a trader in Bay Three named Horvins who may have been willing to give BB-8 a lift offworld.\n",
      "- Niima Outpost was a junkyard settlement on Jakku, a desert planet in the Western Reaches of the galaxy. The outpost was named for and founded by Niima the Hutt after the Battle of Jakku to capitalize on the new scavenging opportunities the battle created on the planet. Niima Outpost was the only spaceport on the planet, although it was referred more as a landing field rather than a spaceport.Rey's Survival Guide Scavengers, like Rey, salvaged materials from the technology leftover from the Battle of Jakku. Salvage made up the backbone of the economy, but other branches such as black market trading, mercenaries for hire, and other unlawful activities exist.  Niima's fuel supplies were basic, though there were some scavengers who located military grade supplies, such as rhydonium. Niima attracted a lot of attention offworld because of it being the only navigational beacon on the planet. These foreigners were encouraged to lock up their ships. Most travelers opted to sleep on their ships due to lack of permanent structures in the outpost. Scavengers brought their finds to Niima Outpost in exchange for supplies from Unkar Plutt, the local boss who operated from the center of awning-roofed blockhouse known as the Concession Stand. Niima Outpost was also the location of Constable Zuvio's office. The outpost's main gate utilized architecture akin to that found on other Hutt worlds such as Teth. Sarco Plank opened a gun shop at the outpost to modify and enhance blasters.  The outpost was attacked by the First Order, who were looking for the astromech droid BB-8 and stormtrooper defector Finn.\n",
      "- The Office of the Constable was a small building used as a headquarters by the Niima Outpost Militia on Jakku.\n",
      "- Niima, also known as Niima the Hutt, was an enterprising female Hutt scoundrel who operated far from the borders of Hutt Space, a province of the galaxy that became embroiled in conflict as the Hutts attempted to carve up the deceased crime lord Jabba Desilijic Tiure's territory. Niima resided in a temple on the desert planet of Jakku. Prior to the Battle of Jakku, Niima struck a deal with Gallius Rax, the Counselor to the Empire, to guard the pass to the Plaintive Hand plateau and kidnap local orphans in return for receiving weapons. Later, Rae Sloane struck a deal with Niima to gain access to the Jakku Observatory, claiming that it hid a powerful weapon there.  Niima was later wounded when Rax ambushed her convoy and captured Sloane and Brentin Lore Wexley. Despite being wounded, Niima survived with the help of the bounty hunter Jas Emari, who ferried her back to her temple. Following the Battle of Jakku, Niima monopolized the salvage collection efforts on Jakku and established Niima Outpost. Though Niima was later killed by a bounty hunter, Niima Outpost continued to bear her name. It was rumored that a group who worshiped the Hutts as gods constructed their village around the cranial mantle of Niima herself, gilded in precious metals and covered with jewels, following her demise.\n",
      "===========\n",
      "Question: Have you heard of Nute Gunray? Who is he?\n",
      "Retrieved documents:\n"
     ]
    },
    {
     "data": {
      "application/vnd.jupyter.widget-view+json": {
       "model_id": "9c84653901d64f6790783de4c07a04f3",
       "version_major": 2,
       "version_minor": 0
      },
      "text/plain": [
       "Split strings:   0%|          | 0/1 [00:00<?, ?it/s]"
      ]
     },
     "metadata": {},
     "output_type": "display_data"
    },
    {
     "data": {
      "application/vnd.jupyter.widget-view+json": {
       "model_id": "b26e60f2f5de493595f16d22ff344cb3",
       "version_major": 2,
       "version_minor": 0
      },
      "text/plain": [
       "BM25S Retrieve:   0%|          | 0/1 [00:00<?, ?it/s]"
      ]
     },
     "metadata": {},
     "output_type": "display_data"
    },
    {
     "name": "stdout",
     "output_type": "stream",
     "text": [
      "- Nute Gunray's citadel, also referred to as Nute Gunray's redoubt, was a large fortress located on the western hemisphere of Cato Neimoidia. It was used as a stronghold and storehouse by Nute Gunray, Viceroy of the Trade Federation.\n",
      "- Lora Besh claimed to be the secret lover of Trade Federation Viceroy Nute Gunray; her book on the alleged affair, Gunray On Top, was a bestseller in the months preceding the Clone Wars.\n",
      "- The Viceroy's collar was an item worn by the Viceroy of the Trade Federation. Nute Gunray wore the collar.\n",
      "- The sovereign beetle was a species from Neimoidia. The patterns on its shell were the basis of the ornamentation on Nute Gunray's mechno-chair.Cloak of Deception\n",
      "- In 44 BBY, then-Senator Nute Gunray used a Trade Federation shuttle of a different class than the Sheathipede-class transport shuttle.\n",
      "===========\n",
      "Question: What kind of planet is Kashyyyk, and who discovered it?\n",
      "Retrieved documents:\n"
     ]
    },
    {
     "data": {
      "application/vnd.jupyter.widget-view+json": {
       "model_id": "1c71ce1791234b349d4466892d6b66f5",
       "version_major": 2,
       "version_minor": 0
      },
      "text/plain": [
       "Split strings:   0%|          | 0/1 [00:00<?, ?it/s]"
      ]
     },
     "metadata": {},
     "output_type": "display_data"
    },
    {
     "data": {
      "application/vnd.jupyter.widget-view+json": {
       "model_id": "cbaae67fd0b64d99b06828126848b94b",
       "version_major": 2,
       "version_minor": 0
      },
      "text/plain": [
       "BM25S Retrieve:   0%|          | 0/1 [00:00<?, ?it/s]"
      ]
     },
     "metadata": {},
     "output_type": "display_data"
    },
    {
     "name": "stdout",
     "output_type": "stream",
     "text": [
      "- Mock Shyr was a kind of broad leafed plant native to Kashyyyk.\n",
      "- The kolvissh was a kind of flowering plant native to Kashyyyk. Mallatobuck once used some for her bridal veil.\n",
      "- A rare and unique spice variant was discovered during the Galactic Civil War. This kind of spice appeared organicQuest: \"Man Down!\" and medicinal in nature.\n",
      "- Kashyyyk, also known as Planet Wookiee C to some humans in the Core Worlds, was a wroshyr tree-covered forest planet located in the southwestern quadrant of the galaxy and the homeworld of the Wookiee species. Four millennia before the Battle of Yavin, Kashyyyk was discovered by the Czerka Corporation, who enslaved the Wookiee population and renamed the planet G5-623, later to Edean. Using superior technology, the company managed to enslave the Wookiees until an uprising drove the oppressors away. During the Clone Wars, Kashyyyk was a member of the Galactic Republic, and endured enslavement under the Galactic Empire, the Republic's successor. Later, during the rise of the New Republic, Kashyyyk was liberated with the help of Republic forces led by Han Solo.\n",
      "- Kashyyyk wheat was a type of wheat grown on the planet of Kashyyyk. It was used to make Kashyyyk wheat flour.\n",
      "===========\n",
      "Question: Who are Condlurans, and can you give 2-3 names of known Condlurans?\n",
      "Retrieved documents:\n"
     ]
    },
    {
     "data": {
      "application/vnd.jupyter.widget-view+json": {
       "model_id": "92173dd3b47f4a30b922f7f45e84ebc7",
       "version_major": 2,
       "version_minor": 0
      },
      "text/plain": [
       "Split strings:   0%|          | 0/1 [00:00<?, ?it/s]"
      ]
     },
     "metadata": {},
     "output_type": "display_data"
    },
    {
     "data": {
      "application/vnd.jupyter.widget-view+json": {
       "model_id": "45ef145d25b544598049bc78031ba2d5",
       "version_major": 2,
       "version_minor": 0
      },
      "text/plain": [
       "BM25S Retrieve:   0%|          | 0/1 [00:00<?, ?it/s]"
      ]
     },
     "metadata": {},
     "output_type": "display_data"
    },
    {
     "name": "stdout",
     "output_type": "stream",
     "text": [
      "- Condlurans were a sentient species that existed within the galaxy. The Condluran Briff worked as a smuggler on Jedha during the High Republic Era.The High Republic (2022) 2 During the Imperial Era, Freck was a Condluran male who worked as a transport driver for the Galactic Empire on the mining planet Mapuzo.\n",
      "- A core name was a shortened name used by Chiss. Members of the Chiss species used their core names rather than their full names for at least two reasons. Among Chiss, core names were used in all but the most formal settings. Chiss also gave their core names to members of other species, as non-Chiss had difficulties pronouncing full Chiss names.\n",
      "- Ration bars were a type of food ration known by various names, including nutrient bars, protein bars, and supply bars; they were also known as sticks instead of bars. They were eaten in multiple eras of galactic history.\n",
      "- Figg & Associates Bank and Trust was a banking conglomerate. They were known to give loans to entrepreneurs, capturing the spirit of Ecclessis Figg.\n",
      "- Redirects from alternate names\n",
      "===========\n",
      "Question: What can you tell me about the First Battle of Geonosis?\n",
      "Retrieved documents:\n"
     ]
    },
    {
     "data": {
      "application/vnd.jupyter.widget-view+json": {
       "model_id": "6c0e6b714ab84ad49df2d8659e8039e7",
       "version_major": 2,
       "version_minor": 0
      },
      "text/plain": [
       "Split strings:   0%|          | 0/1 [00:00<?, ?it/s]"
      ]
     },
     "metadata": {},
     "output_type": "display_data"
    },
    {
     "data": {
      "application/vnd.jupyter.widget-view+json": {
       "model_id": "d218d3f9aba94e0aa7914c3bc5dd6014",
       "version_major": 2,
       "version_minor": 0
      },
      "text/plain": [
       "BM25S Retrieve:   0%|          | 0/1 [00:00<?, ?it/s]"
      ]
     },
     "metadata": {},
     "output_type": "display_data"
    },
    {
     "name": "stdout",
     "output_type": "stream",
     "text": [
      "- The First Battle of Geonosis, also referred to as the Battle of Geonosis or the Battle on Geonosis, was the first major battle fought in 22 BBY between the Confederacy of Independent Systems and the Galactic Republic on Geonosis, marking the beginning of the three-year Clone Wars. It would be the first major combat of the Grand Army of the Republic, as well as the first major battle the Jedi had fought in years. The battle also caused the death of the notorious bounty hunter Jango Fett and the discovery of Count Dooku's dark side allegiance.\n",
      "- Ronto was a clone trooper copilot who fought in the First Battle of Geonosis during the Clone Wars. During his time on Geonosis, Ronto flew in a LAAT/i with Skifter.\n",
      "- The Battle of Rendili was a battle of the Clone Wars, occurring thirty months after the First Battle of Geonosis, in 20 BBY.\n",
      "- The First Battle of Kamino, also known as the Defense of Kamino, the Assault on Kamino, or simply as the Battle of Kamino, took place two months after the First Battle of Geonosis.\n",
      "- The First Battle of Tatooine was initiated by the Confederacy of Independent Systems during the Clone Wars, one month after the Battle of Geonosis.\n",
      "===========\n",
      "Question: What is the name of the settlement where Anakin Skywalker and his mother lived?\n",
      "Retrieved documents:\n"
     ]
    },
    {
     "data": {
      "application/vnd.jupyter.widget-view+json": {
       "model_id": "01aecd30cf744473a0561f5a0b04e778",
       "version_major": 2,
       "version_minor": 0
      },
      "text/plain": [
       "Split strings:   0%|          | 0/1 [00:00<?, ?it/s]"
      ]
     },
     "metadata": {},
     "output_type": "display_data"
    },
    {
     "data": {
      "application/vnd.jupyter.widget-view+json": {
       "model_id": "d4baf2dba3524c0d8156d1f420e80c15",
       "version_major": 2,
       "version_minor": 0
      },
      "text/plain": [
       "BM25S Retrieve:   0%|          | 0/1 [00:00<?, ?it/s]"
      ]
     },
     "metadata": {},
     "output_type": "display_data"
    },
    {
     "name": "stdout",
     "output_type": "stream",
     "text": [
      "- Mos Espa was a spaceport settlement located on the desert world of Tatooine. The settlement included a number of commercial and workspace settings, as well as entertainment establishments such as the Mos Espa Grand Arena. During the Invasion of Naboo, Mos Espa was also home to a number of slaves, including Anakin Skywalker and his mother, Shmi.\n",
      "- Finn's mother lived with him on Coruscant. In 32 BBY, she helped Anakin Skywalker return to the Jedi Temple after he helped her son repair their malfunctioning nanny droid.\n",
      "- The Skywalker home was where the slaves Anakin Skywalker and his mother Shmi Skywalker Lars lived in Mos Espa on the desert planet Tatooine. By the time the handmaiden Sabé traveled to Tatooine on behalf of Padmé Amidala to free Shmi from slavery, Shmi no longer lived in the home and the door had a newly cut symbol of a white sun on it.Queen's Shadow\n",
      "- Kovit was a settlement, nestled within a steep mountain range on Trulalis where Jaalib Brandl and his mother once lived. It was a \"gated community,\" a farming settlement dominated by a towering, butressed theatre of white limestone.\n",
      "- Mojyn was the daughter of Brandeh and lived on Lanteeb during the Clone Wars. Her mother was killed during the Battle of Lanteeb when Jedi Master Obi-Wan Kenobi and Jedi Knight Anakin Skywalker were on the planet to try and stop Separatist General Lok Durd.\n",
      "===========\n",
      "Question: Which planet did Darth Sidious represent as senator?\n",
      "Retrieved documents:\n"
     ]
    },
    {
     "data": {
      "application/vnd.jupyter.widget-view+json": {
       "model_id": "11c1979501344e268c46ab11d3b489c1",
       "version_major": 2,
       "version_minor": 0
      },
      "text/plain": [
       "Split strings:   0%|          | 0/1 [00:00<?, ?it/s]"
      ]
     },
     "metadata": {},
     "output_type": "display_data"
    },
    {
     "data": {
      "application/vnd.jupyter.widget-view+json": {
       "model_id": "f51a2bb44337451aaa07e213d4b70873",
       "version_major": 2,
       "version_minor": 0
      },
      "text/plain": [
       "BM25S Retrieve:   0%|          | 0/1 [00:00<?, ?it/s]"
      ]
     },
     "metadata": {},
     "output_type": "display_data"
    },
    {
     "name": "stdout",
     "output_type": "stream",
     "text": [
      "- The massacre at the Gran Protectorate Embassy took place in 52 BBY. Senator Pax Teem of the Gran Protectorate was murdered in the embassy by Darth Plagueis' apprentice, Darth Sidious, thus removing an opponent to the Sith Lords.\n",
      "- Dawk was a planet in the Outer Rim Territories that was orbited by a moon. During the Republic Era, between around 40 BBY and 32 BBY,The events of Darth Maul &ndash; Black, White & Red 3 take place during Darth Maul's time as the Sith apprentice of Darth Sidious, which Star Wars: Timelines dates to between around 40 BBY and 32 BBY. the Devaronian criminal Coir Cion operated on the moon of Dawk. The Sith Lord Darth Sidious dispatched his Sith apprentice, Darth Maul, to kill Cion and his associates after the Devaronian threatened to blackmail Senator Sheev Palpatine&mdash;Sidious's public persona&mdash;with information on his underworld dealings.\n",
      "- The Useful Bureaucrats was a manifesto written by the Dark Lord of the Sith and Galactic Emperor Darth Sidious as part of his work, Absolute Power.  The volume detailed how Sidious, under his public persona of the Naboo Senator Palpatine, managed to manipulate several important figures and events to ensure his rise to power. He also mentioned that his Sith Master, Darth Plagueis, had a minor role in these events.\n",
      "- During the Clone Wars, Senator Padmé Amidala undertook a diplomatic mission to the planet Scipio, ostensibly to take out a loan but actually seeking to uncover evidence of corruption. She and her old flame Rush Clovis became targeted by the bounty hunter Embo, who was hired by Darth Sidious. Unbeknownst to either Amidala, Clovis, or the Senator's secret husband Jedi Knight Anakin Skywalker, Embo had been tasked not with killing any of them but with intimidating Clovis and driving him offworld, as part of Sidious' plans for the InterGalactic Banking Clan.\n",
      "- The moon of Dawk was a moon that orbited the Outer Rim planet Dawk. During the Republic Era, the moon was the territory of the fugitive Devaronian criminal Coir Cion. Between around 40 BBY and 32 BBY,The events of Darth Maul &ndash; Black, White & Red 3 take place during Darth Maul's time as the Sith apprentice of Darth Sidious, which Star Wars: Timelines dates to between around 40 BBY and 32 BBY. Cion discovered underworld dealings of Senator Sheev Palpatine&mdash;in reality, the Sith Lord Darth Sidious, who sent his Sith apprentice, Darth Maul, to kill the Devaronian.\n",
      "===========\n"
     ]
    }
   ],
   "source": [
    "retriever = BM25Retriever()\n",
    "for question in questions:\n",
    "    print(\"Question:\", question)\n",
    "    print(\"Retrieved documents:\")\n",
    "    for relevant_doc in retriever.search(question):\n",
    "        print(\"- \" + relevant_doc.replace(\"\\n\", \" \"))\n",
    "    print(\"===========\")"
   ]
  },
  {
   "cell_type": "markdown",
   "metadata": {},
   "source": [
    "If your implementation is correct, the retrieved documents should for the most part relevant to the query. \n",
    "\n",
    "### Dense retrieval \n",
    "\n",
    "Many of those documents are, however, way too long to be included in the prompt for our Gemma model (especially if we wish to include 4-5 retrieved texts for each query!). Can we ensure that the length of each retrieved text stays within a reasonable length, such as one or two sentences? \n",
    "\n",
    "One strategy is to not return the full documents, but instead determine the most relevant _sentences_ within those documents. But how do we determine which sentence is most relevant? A sparse retriever using BM25 would not work well here, as it does not really account for the semantics of the query. Instead, what we can do is to:\n",
    "- split the documents (retrieved through BM25) into sentences\n",
    "- extract sentence embeddings for the query and for each sentence\n",
    "- compute the cosine similarities between the query vector and each sentence vector\n",
    "- and return the _k_ most similar sentences\n",
    "\n",
    "In other words, our approach starts with a _sparse retrieval step_ at the level of full documents (which we already have implemented, using BM25S), and continues with a _dense retrieval step_ to determine the most relevant sentences among the sentences that are found in the retrieved documents.\n",
    "\n",
    "**Task 3** (4 points): Re-implement the `search` method to segment into sentences each document retrieved with BM25, extract sentence embeddings for the query and sentences using the encoder model (see [here](https://sbert.net/examples/applications/semantic-search/README.html) for explanations and code examples), and then select the _k_ sentences with highest cosine similarities.  \n",
    "\n",
    "_Tips_: You can use `nltk.sent_tokenize` to segment your document in sentences."
   ]
  },
  {
   "cell_type": "code",
   "execution_count": 7,
   "metadata": {},
   "outputs": [
    {
     "data": {
      "application/vnd.jupyter.widget-view+json": {
       "model_id": "f0df4db6fa2042b388157b5009715c0d",
       "version_major": 2,
       "version_minor": 0
      },
      "text/plain": [
       "Split strings:   0%|          | 0/178246 [00:00<?, ?it/s]"
      ]
     },
     "metadata": {},
     "output_type": "display_data"
    },
    {
     "data": {
      "application/vnd.jupyter.widget-view+json": {
       "model_id": "5944cb1f0153409f9535bf3c58f8e3f8",
       "version_major": 2,
       "version_minor": 0
      },
      "text/plain": [
       "BM25S Count Tokens:   0%|          | 0/178246 [00:00<?, ?it/s]"
      ]
     },
     "metadata": {},
     "output_type": "display_data"
    },
    {
     "data": {
      "application/vnd.jupyter.widget-view+json": {
       "model_id": "23b083ef6bed462991de80d73b6e5679",
       "version_major": 2,
       "version_minor": 0
      },
      "text/plain": [
       "BM25S Compute Scores:   0%|          | 0/178246 [00:00<?, ?it/s]"
      ]
     },
     "metadata": {},
     "output_type": "display_data"
    },
    {
     "name": "stderr",
     "output_type": "stream",
     "text": [
      "/Users/khoimai/.pyenv/versions/3.10.10/lib/python3.10/site-packages/transformers/tokenization_utils_base.py:1617: FutureWarning: `clean_up_tokenization_spaces` was not set. It will be set to `True` by default. This behavior will be deprecated in transformers v4.45, and will be then set to `False` by default. For more details check this issue: https://github.com/huggingface/transformers/issues/31884\n",
      "  warnings.warn(\n"
     ]
    }
   ],
   "source": [
    "# import bm25s\n",
    "# import re, json\n",
    "\n",
    "# import sentence_transformers\n",
    "# from sentence_transformers import util\n",
    "\n",
    "# import nltk\n",
    "\n",
    "# retriever = BM25Retriever()\n",
    "# encoder = sentence_transformers.SentenceTransformer(\"msmarco-MiniLM-L-6-v3\")"
   ]
  },
  {
   "cell_type": "code",
   "execution_count": 8,
   "metadata": {},
   "outputs": [
    {
     "data": {
      "application/vnd.jupyter.widget-view+json": {
       "model_id": "0756295c2043499ab301f6ec65694081",
       "version_major": 2,
       "version_minor": 0
      },
      "text/plain": [
       "Split strings:   0%|          | 0/1 [00:00<?, ?it/s]"
      ]
     },
     "metadata": {},
     "output_type": "display_data"
    },
    {
     "data": {
      "application/vnd.jupyter.widget-view+json": {
       "model_id": "2b7f0896cca045aa850a65b9c9ab9256",
       "version_major": 2,
       "version_minor": 0
      },
      "text/plain": [
       "BM25S Retrieve:   0%|          | 0/1 [00:00<?, ?it/s]"
      ]
     },
     "metadata": {},
     "output_type": "display_data"
    },
    {
     "data": {
      "text/plain": [
       "array([\"Luke Skywalker's lightsaber was the first lightsaber constructed by Luke Skywalker and the second one he owned.\",\n",
       "       'The Luke Skywalker X-Wing Mech was a mech piloted by Luke Skywalker. It shared a design with his X-wing and included a large lightsaber.',\n",
       "       'Holoeditor was a type of holographic technology used by Cronal to study and imitate Luke Skywalker in 5 ABY.Luke Skywalker and the Shadows of Mindor'],\n",
       "      dtype='<U148')"
      ]
     },
     "execution_count": 8,
     "metadata": {},
     "output_type": "execute_result"
    }
   ],
   "source": [
    "# query = \"Who is Luke Skywalker?\"\n",
    "# docs = retriever.search(query=query, k=3)\n",
    "\n",
    "# docs"
   ]
  },
  {
   "cell_type": "code",
   "execution_count": 9,
   "metadata": {},
   "outputs": [
    {
     "data": {
      "text/plain": [
       "[\"Luke Skywalker's lightsaber was the first lightsaber constructed by Luke Skywalker and the second one he owned.\",\n",
       " 'The Luke Skywalker X-Wing Mech was a mech piloted by Luke Skywalker.',\n",
       " 'It shared a design with his X-wing and included a large lightsaber.',\n",
       " 'Holoeditor was a type of holographic technology used by Cronal to study and imitate Luke Skywalker in 5 ABY.Luke Skywalker and the Shadows of Mindor']"
      ]
     },
     "execution_count": 9,
     "metadata": {},
     "output_type": "execute_result"
    }
   ],
   "source": [
    "# sentences = [sentence for doc in docs for sentence in nltk.sent_tokenize(doc)]\n",
    "\n",
    "# sentences"
   ]
  },
  {
   "cell_type": "code",
   "execution_count": 11,
   "metadata": {},
   "outputs": [],
   "source": [
    "# corpus_embeddings = encoder.encode(retriever.corpus, convert_to_tensor=True)\n",
    "\n",
    "# sentence = sentences[0]\n",
    "# sentence_embedding = encoder.encode(sentence, convert_to_tensor=True)\n",
    "# similarity_scores = util.pytorch_cos_sim(sentence_embedding, corpus_embeddings)"
   ]
  },
  {
   "cell_type": "code",
   "execution_count": null,
   "metadata": {},
   "outputs": [],
   "source": [
    "\n",
    "# corpus_embeddings = encoder.encode(retriever.corpus, convert_to_tensor=True)\n",
    "\n",
    "# top_k = min(5, len(retriever.corpus))\n",
    "# for sentence in sentences:\n",
    "#     sentence_embedding = encoder.encode(sentence, convert_to_tensor=True)\n",
    "\n",
    "#     similarity_scores = util.pytorch_cos_sim(sentence_embedding, corpus_embeddings)[0]\n",
    "#     scores, indices = torch.topk(similarity_scores, k=top_k)\n",
    "\n",
    "#     print(\"\\nQuery:\", query)\n",
    "#     print(\"Top 5 most similar sentences in corpus:\")\n",
    "\n",
    "#     for score, idx in zip(scores, indices):\n",
    "#         print(retriever.corpus[idx], f\"(Score: {score:.4f})\")"
   ]
  },
  {
   "cell_type": "code",
   "execution_count": 7,
   "metadata": {},
   "outputs": [],
   "source": [
    "import bm25s\n",
    "import re, json\n",
    "\n",
    "import sentence_transformers\n",
    "from sentence_transformers import util\n",
    "\n",
    "import nltk\n",
    "# nltk.download('punkt_tab')\n",
    "\n",
    "from typing import List\n",
    "\n",
    "class HybridRetriever(BM25Retriever):\n",
    "\n",
    "    def __init__(self,\n",
    "                 filename=\"starwars.json\", \n",
    "                 encoder_model=\"msmarco-MiniLM-L-6-v3\"):\n",
    "        \n",
    "        \"\"\"Using the json file provided as input, create a BM25s retriever \n",
    "        containing all (indexed) documents, and loads a sentence transformer model\n",
    "        used to compute the embeddings for the query and sentences\"\"\"\n",
    "\n",
    "        BM25Retriever.__init__(self, filename)\n",
    "        self.encoder = sentence_transformers.SentenceTransformer(encoder_model)\n",
    "\n",
    "    def search(self, query:str, k:int=5) -> List[str]:\n",
    "        \"\"\"Use the BM25 retriever to find the documents that are closest\n",
    "        to the provided query, and then the sentence transformer model to\n",
    "        determine the most relevant sentences\"\"\"\n",
    "\n",
    "        corpus_embeddings = self.encoder.encode(retriever.corpus, convert_to_tensor=True)\n",
    "\n",
    "        docs = BM25Retriever.search(self, query, k) # results from BM25\n",
    "        sentences = [sentence for doc in docs for sentence in nltk.sent_tokenize(doc)] # split the documents into sentences\n",
    "\n",
    "        top_k = min(5, len(retriever.corpus))\n",
    "        for sentence in sentences:\n",
    "            sentence_embedding = self.encoder.encode(sentence, convert_to_tensor=True)\n",
    "\n",
    "            similarity_scores = util.pytorch_cos_sim(sentence_embedding, corpus_embeddings)[0]\n",
    "            scores, indices = torch.topk(similarity_scores, k=k)\n",
    "            result = [retriever.corpus[idx] for idx in indices]\n",
    "\n",
    "            return result"
   ]
  },
  {
   "cell_type": "markdown",
   "metadata": {},
   "source": [
    "And we can test our hybrid (sparse followed by dense) retriever on the same questions as before:"
   ]
  },
  {
   "cell_type": "code",
   "execution_count": 8,
   "metadata": {},
   "outputs": [
    {
     "data": {
      "application/vnd.jupyter.widget-view+json": {
       "model_id": "e0b985b8eb9f44ffac0cc31272afc1b7",
       "version_major": 2,
       "version_minor": 0
      },
      "text/plain": [
       "Split strings:   0%|          | 0/178246 [00:00<?, ?it/s]"
      ]
     },
     "metadata": {},
     "output_type": "display_data"
    },
    {
     "data": {
      "application/vnd.jupyter.widget-view+json": {
       "model_id": "75e58b0ffa81489786aeb098d1a22584",
       "version_major": 2,
       "version_minor": 0
      },
      "text/plain": [
       "BM25S Count Tokens:   0%|          | 0/178246 [00:00<?, ?it/s]"
      ]
     },
     "metadata": {},
     "output_type": "display_data"
    },
    {
     "data": {
      "application/vnd.jupyter.widget-view+json": {
       "model_id": "effe3dfcdc224b588967385103c3b256",
       "version_major": 2,
       "version_minor": 0
      },
      "text/plain": [
       "BM25S Compute Scores:   0%|          | 0/178246 [00:00<?, ?it/s]"
      ]
     },
     "metadata": {},
     "output_type": "display_data"
    },
    {
     "name": "stderr",
     "output_type": "stream",
     "text": [
      "/Users/khoimai/.pyenv/versions/3.10.10/lib/python3.10/site-packages/transformers/tokenization_utils_base.py:1617: FutureWarning: `clean_up_tokenization_spaces` was not set. It will be set to `True` by default. This behavior will be deprecated in transformers v4.45, and will be then set to `False` by default. For more details check this issue: https://github.com/huggingface/transformers/issues/31884\n",
      "  warnings.warn(\n"
     ]
    },
    {
     "name": "stdout",
     "output_type": "stream",
     "text": [
      "Question: Who is Luke Skywalker?\n",
      "Retrieved documents:\n"
     ]
    }
   ],
   "source": [
    "\n",
    "retriever = HybridRetriever()\n",
    "for question in questions:\n",
    "    print(\"Question:\", question)\n",
    "    print(\"Retrieved documents:\")\n",
    "    for relevant_doc in retriever.search(question):\n",
    "        print(\"- \" + relevant_doc.replace(\"\\n\", \" \"))\n",
    "    print(\"===========\")"
   ]
  },
  {
   "cell_type": "markdown",
   "metadata": {},
   "source": [
    "## Putting it all together\n",
    "\n",
    "Now that we have a functioning retriever model, we can connect it to the generative language model employed to produce the responses.\n",
    "\n",
    "**Task 4** (4 points): Implement the `RetrievalAugmentedResponseGenerator`. Given an initial input prompt, the method should first retrieve relevant sentences using the `HybridRetriever` we have just developed. Then, it should expand the initial prompt using the provided template (you are of course free to edit or adapt it as you see fit). This expanded prompt should then be tokenized and fed as input to the LLM in the same way as before."
   ]
  },
  {
   "cell_type": "code",
   "execution_count": null,
   "metadata": {},
   "outputs": [],
   "source": [
    "import torch\n",
    "from transformers import AutoTokenizer, AutoModelForCausalLM\n",
    "\n",
    "PROMPT_TEMPLATE = \"'You are given the following information about Star Wars:\\n-{retrieved_sentences}\\nNow answer the following question in 1 or 2 sentences, based on the provided information: '{query}'\"\n",
    "\n",
    "class RetrievalAugmentedResponseGenerator:\n",
    "\n",
    "    def __init__(self, model_name=\"google/gemma-1.1-2b-it\", \n",
    "                 doc_filename=\"/fp/projects01/ec403/IN4080/starwars.json\", \n",
    "                 encoder_model=\"all-MiniLM-L6-v2\"):\n",
    "        \"\"\"Loads the tokenizer, pretrained causal LM for the given model, along with the \n",
    "        hybrid sparse-dense retriever model populated with the documents in doc_filename.\"\"\"\n",
    "        self.model_name = model_name\n",
    "        self.tokenizer = AutoTokenizer.from_pretrained(self.model_name, token=hugging_face_token)\n",
    "        self.model = AutoModelForCausalLM.from_pretrained(\n",
    "            self.model_name,\n",
    "            token=hugging_face_token\n",
    "        )\n",
    "        self.retriever = HybridRetriever(doc_filename, encoder_model)\n",
    "\n",
    "\n",
    "    def get_response(self, query:str, max_length:int=50, k=3) -> str:\n",
    "        \"\"\"Given a prompt, retrieve k relevant sentences, generate a response (of a maximum \n",
    "        max_length tokens) and return it.\n",
    "        Only the response should be returned, not the text of the prompt itself\n",
    "        \"\"\"\n",
    "\n",
    "        retrieved_sentences = self.retriever.search(query, k)\n",
    "        prompt = PROMPT_TEMPLATE.format(retrieved_sentences=\"\\n-\".join(retrieved_sentences), query=query)\n",
    "        \n",
    "        input_ids = self.tokenizer(prompt, return_tensors=\"pt\")\n",
    "        outputs = self.model.generate(**input_ids,max_length=max_length)\n",
    "\n",
    "        return self.tokenizer.decode(outputs[0])\n",
    "\n",
    "\n",
    "agent = RetrievalAugmentedResponseGenerator()"
   ]
  },
  {
   "cell_type": "markdown",
   "metadata": {},
   "source": [
    "The last step is to test our system end-to-end:"
   ]
  },
  {
   "cell_type": "code",
   "execution_count": null,
   "metadata": {},
   "outputs": [],
   "source": [
    "\n",
    "for question in questions:\n",
    "    print(\"Question:\", question)\n",
    "    print(\"Answer:\", agent.get_response(question))\n",
    "    print(\"-------\")"
   ]
  },
  {
   "cell_type": "markdown",
   "metadata": {},
   "source": [
    "**Task 5** (4 points): If you have implemented your model correctly, the system should answer correctly to at least a few questions. But it is still far from perfect, and some of the answers are flat-out wrong. Suggest 2-3 ways one could improve the current system and get even better answers. You don't need to implement anything, simply flesh out a few ideas you believe are worth trying out.\n",
    "\n",
    "_(of course, it is even better if you actually try to implement those ideas and evaluate their influence on the quality of the system responses!)_"
   ]
  },
  {
   "cell_type": "markdown",
   "metadata": {},
   "source": []
  }
 ],
 "metadata": {
  "kernelspec": {
   "display_name": "3.10.10",
   "language": "python",
   "name": "python3"
  },
  "language_info": {
   "codemirror_mode": {
    "name": "ipython",
    "version": 3
   },
   "file_extension": ".py",
   "mimetype": "text/x-python",
   "name": "python",
   "nbconvert_exporter": "python",
   "pygments_lexer": "ipython3",
   "version": "3.10.10"
  }
 },
 "nbformat": 4,
 "nbformat_minor": 2
}
