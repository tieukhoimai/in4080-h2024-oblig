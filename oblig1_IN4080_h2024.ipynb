{
 "cells": [
  {
   "cell_type": "markdown",
   "metadata": {},
   "source": [
    "# IN4080: obligatory assignment 1 (Autumn 2024)\n",
    " \n",
    "Mandatory assignment 1 consists of three parts. In Part 1 (6 points), you will test and improve on a BPE (Byte-Pair-Encoding) tokenizer . In Part 2 (7 points), you will estimate an N-gram language model, based on a training corpus and the tokenizer you worked on in Part 1. Finally, in Part 3 (7 points), you will develop a basic classification model to distinguish between Bokmål and Nynorsk sentences.\n",
    "\n",
    "You should answer all three parts. You are required to get at least 12/20 points to pass. The most important is that you try to answer each question (possibly with some mistakes), to help you gain a better and more concrete understanding of the topics covered during the lectures. There are also bonus questions for those of you who would like to deepen their understanding of the topics covered by this assignment.\n",
    "\n",
    "- We assume that you have read and are familiar with IFI’s requirements and guidelines for mandatory assignments, see [here](https://www.uio.no/english/studies/examinations/compulsory-activities/mn-ifi-mandatory.html) and [here](https://www.uio.no/english/studies/examinations/compulsory-activities/mn-ifi-guidelines.html).\n",
    "- This is an individual assignment. You should not deliver joint submissions. \n",
    "- You may redeliver in Devilry before the deadline (__Sunday, September 15 at 23:59__), but include all files in the last delivery.\n",
    "- Only the last delivery will be read! If you deliver more than one file, put them into a zip-archive. You don't have to include in your delivery the files already provided for this assignment. \n",
    "- Name your submission _your\\_username\\_in4080\\_mandatory\\_1_\n",
    "- You can work on this assignment either on the IFI machines or on your own computer. \n",
    "\n",
    "*The preferred format for the assignment is a completed version of this Jupyter notebook*, containing both your code and explanations about the steps you followed. We want to stress that simply submitting code is __not__ by itself sufficient to complete the assignment - we expect the notebook to also contain explanations of what you have implemented, along with motivations for the choices you made along the way. Preferably use whole sentences, and mathematical formulas if necessary. Explaining in your own words (using concepts we have covered through in the lectures) what you have done and reflecting on your solution is an important part of the learning process - take it seriously!\n",
    "\n",
    "Regarding the use of LLMs (ChatGPT or similar): you are allowed to use them as 'sparring partner', for instance to clarify something you have not understood. However, you are __not__ allowed to use them to generate solutions (either in part or in full) to the assignment tasks. \n",
    "\n",
    "__Technical tip__: Some of the tasks in this assignment will require you to extend methods in classes that are already partly implemented. To implement those methods directly in a Jupyter notebook, you can use the function `setattr` to attach a method to a given class: \n",
    "\n",
    "```python\n",
    "class A:\n",
    "    pass\n",
    "a = A()\n",
    "\n",
    "def foo(self):\n",
    "    print('hello world!')\n",
    "    \n",
    "setattr(A, 'foo', foo)\n",
    "```"
   ]
  },
  {
   "cell_type": "markdown",
   "metadata": {},
   "source": [
    "## Part 1 : Tokenisation\n",
    "\n",
    "We will start by building a basic tokenizer relying on white space and punctuation. \n",
    "\n",
    "__Task 1.1__ (2 points): Implement the method `split` below such that it takes a text as input and outputs a list of tokens. The tokenisation should simply be done by splitting on white space, except for punctuation markers and other symbols (`.,:;!?-()\"`), which should correspond to their own token. For instance, the sentence \"Pierre, who works at NR, also teaches at UiO.\" should be split into 12 tokens."
   ]
  },
  {
   "cell_type": "code",
   "execution_count": 25,
   "metadata": {},
   "outputs": [
    {
     "data": {
      "text/plain": [
       "['Pierre',\n",
       " ',',\n",
       " 'who',\n",
       " 'works',\n",
       " 'at',\n",
       " 'NR',\n",
       " ',',\n",
       " 'also',\n",
       " 'teaches',\n",
       " 'at',\n",
       " 'UiO',\n",
       " '.']"
      ]
     },
     "execution_count": 25,
     "metadata": {},
     "output_type": "execute_result"
    }
   ],
   "source": [
    "# tokenisation should simply be done by splitting on white space, except for punctuation markers and other symbols (`.,:;!?-()\"`)\n",
    "\n",
    "import re\n",
    "\n",
    "pattern = r\"\\w+(?:[.,:;!?()'\\\"`-]\\w+)?|[^\\w\\s]\"\n",
    "text = \"Pierre, who works at NR, also teaches at UiO.\"\n",
    "re.findall(pattern, text)"
   ]
  },
  {
   "cell_type": "code",
   "execution_count": 22,
   "metadata": {},
   "outputs": [
    {
     "data": {
      "text/plain": [
       "['Hovedretten',\n",
       " 'er',\n",
       " '\"',\n",
       " 'Filet',\n",
       " \"d'agneau\",\n",
       " '-',\n",
       " 'girolles',\n",
       " 'a',\n",
       " 'la',\n",
       " 'creme',\n",
       " '\"',\n",
       " ':',\n",
       " 'Ytrefilet',\n",
       " 'av',\n",
       " 'norsk',\n",
       " 'lam',\n",
       " ',',\n",
       " 'kremet',\n",
       " 'kantareller',\n",
       " 'i',\n",
       " 'nepe',\n",
       " ',',\n",
       " 'bakt',\n",
       " 'minisquash']"
      ]
     },
     "execution_count": 22,
     "metadata": {},
     "output_type": "execute_result"
    }
   ],
   "source": [
    "text_1 = \"\"\"\n",
    "Hovedretten er \"Filet d'agneau - girolles a la creme\": Ytrefilet av norsk lam, kremet kantareller i nepe, bakt minisquash\n",
    "\"\"\"\n",
    "re.findall(r\"\\w+(?:'\\w+)?|[^\\w\\s]\", text_1)"
   ]
  },
  {
   "cell_type": "code",
   "execution_count": 26,
   "metadata": {},
   "outputs": [
    {
     "data": {
      "text/plain": [
       "['Og',\n",
       " 'desserten',\n",
       " ',',\n",
       " '\"',\n",
       " 'Parfait',\n",
       " 'à',\n",
       " 'la',\n",
       " 'Mette-Marit',\n",
       " '-',\n",
       " 'coulis',\n",
       " 'de',\n",
       " 'muron',\n",
       " 'arctique',\n",
       " '\"',\n",
       " 'består',\n",
       " 'av',\n",
       " 'Snøfrisk',\n",
       " 'og',\n",
       " 'yoghurtisparfait',\n",
       " 'med',\n",
       " 'friske',\n",
       " 'norske',\n",
       " 'bringebær',\n",
       " ',',\n",
       " 'blåbær',\n",
       " 'og',\n",
       " 'bjørnebær',\n",
       " ',',\n",
       " 'samt',\n",
       " 'multemousse',\n",
       " 'på',\n",
       " 'multecoulis']"
      ]
     },
     "execution_count": 26,
     "metadata": {},
     "output_type": "execute_result"
    }
   ],
   "source": [
    "text_2 = \"\"\"\n",
    "Og desserten, \"Parfait à la Mette-Marit - coulis de muron arctique\" består av Snøfrisk og yoghurtisparfait med friske norske bringebær, blåbær og bjørnebær, samt multemousse på multecoulis\n",
    "\"\"\"\n",
    "\n",
    "re.findall(pattern, text_2)\n"
   ]
  },
  {
   "cell_type": "code",
   "execution_count": 27,
   "metadata": {},
   "outputs": [],
   "source": [
    "from typing import List\n",
    "import re\n",
    "\n",
    "def basic_tokenize(text: str) -> List[str]:\n",
    "    \"\"\"The method should split the text on white space, except for punctuation\n",
    "    markers that should be considered as tokens of their own (even in the \n",
    "    absence of white space before or after their occurrence)\"\"\"\n",
    "\n",
    "    # Implement here your basic tokenisation\n",
    "    pattern = r\"\\w+(?:[.,:;!?()'\\\"`-]\\w+)?|[^\\w\\s]\"\n",
    "    tokens = re.findall(pattern, text)\n",
    "    return tokens"
   ]
  },
  {
   "cell_type": "code",
   "execution_count": 37,
   "metadata": {},
   "outputs": [
    {
     "name": "stdout",
     "output_type": "stream",
     "text": [
      "Tokenization: ['Pierre', ',', 'who', 'works', 'at', 'NR', ',', 'also', 'teaches', 'at', 'UiO', '.']\n",
      "Number of tokens: 12\n"
     ]
    }
   ],
   "source": [
    "ex_1 = \"Pierre, who works at NR, also teaches at UiO.\"\n",
    "result_1 = basic_tokenize(ex_1)\n",
    "\n",
    "print(\"Tokenization:\",result_1)\n",
    "print(\"Number of tokens:\", len(result_1))"
   ]
  },
  {
   "cell_type": "code",
   "execution_count": 38,
   "metadata": {},
   "outputs": [
    {
     "name": "stdout",
     "output_type": "stream",
     "text": [
      "Tokenization: ['Hovedretten', 'er', '\"', 'Filet', \"d'agneau\", '-', 'girolles', 'a', 'la', 'creme', '\"', ':', 'Ytrefilet', 'av', 'norsk', 'lam', ',', 'kremet', 'kantareller', 'i', 'nepe', ',', 'bakt', 'minisquash', ',', 'lettrøkte', 'rødbeter', ',', 'rissolepoteter', 'og', 'rosmarinsjy', '.', 'Men', 'så', 'er', 'ikke', 'bryllupet', 'mellom', 'Haakon', 'og', 'Mette-Marit', 'hverdagskost', 'det', 'heller', '.']\n",
      "Number of tokens: 45\n"
     ]
    }
   ],
   "source": [
    "ex_2 = \"\"\"\n",
    "Hovedretten er \"Filet d'agneau - girolles a la creme\": Ytrefilet av norsk lam, kremet kantareller i nepe, bakt minisquash, lettrøkte rødbeter, rissolepoteter og rosmarinsjy.\n",
    "Men så er ikke bryllupet mellom Haakon og Mette-Marit hverdagskost det heller.\n",
    "Presidenter og prinser | Bak våre nabolands.\n",
    "\"\"\"\n",
    "\n",
    "result_2 = basic_tokenize(ex_2)\n",
    "\n",
    "print(\"Tokenization:\",result_2)\n",
    "print(\"Number of tokens:\", len(result_2))\n",
    "\n",
    "## In this example, it shows some cases that\n",
    "## Filet d'agneau - girolles a la creme = ['Filet', \"d'agneau\", '-', 'girolles', 'a', 'la', 'creme']\n",
    "## Mette-Marit hverdagskost = ['Mette-Marit', 'hverdagskost']"
   ]
  },
  {
   "cell_type": "markdown",
   "metadata": {},
   "source": [
    "We will now run the tokeniser on a small corpus, the [Norwegian Dependency Treebank](https://www.nb.no/sprakbanken/en/resource-catalogue/oai-nb-no-sbr-10/) (the corpus has been annotated with morphological features, syntactic functions and hierarchical structures, but we'll simply use here the raw text and discard all the annotation layers). We provide you with the data in the files `ndt_train_lm.txt` and `ndt_test_lm.txt`. \n",
    "\n",
    "__Task 1.2__ (1 point): Run the tokenizer you have implemented on `ndt_test_lm.txt`. How many tokens were extracted? And how many types (distinct words) were there? "
   ]
  },
  {
   "cell_type": "code",
   "execution_count": 5,
   "metadata": {},
   "outputs": [
    {
     "name": "stdout",
     "output_type": "stream",
     "text": [
      "Number of tokens: 259391\n",
      "Number of unique tokens: 30021\n"
     ]
    }
   ],
   "source": [
    "# Read the file ndt_test_lm.txt\n",
    "with open('ndt_test_lm.txt', 'r') as file:\n",
    "    text = file.read()\n",
    "\n",
    "# Tokenize the text\n",
    "result_ndt_test_lm = basic_tokenize(text)\n",
    "\n",
    "print(\"Number of tokens:\", len(result_ndt_test_lm))\n",
    "print(\"Number of unique tokens:\", len(set(result_ndt_test_lm)))"
   ]
  },
  {
   "cell_type": "markdown",
   "metadata": {},
   "source": [
    "We shall now use Byte-Pair Encoding (BPE) to limit the vocabulary of the tokenizer to 5,000.  An initial implementation of the algorithm is provided below."
   ]
  },
  {
   "cell_type": "code",
   "execution_count": 6,
   "metadata": {},
   "outputs": [],
   "source": [
    "from typing import Dict, List, Tuple, Iterator\n",
    "import numpy as np\n",
    "from tqdm.notebook import tqdm\n",
    "\n",
    "class BPETokenizer:\n",
    "    \"\"\"Tokenizer based on the Byte-Pair Encoding algorithm. \n",
    "    Note: the current implementation is limited to Latin characters (ISO-8859-1)\"\"\"\n",
    "\n",
    "    def __init__(self, train_corpus_file: str, vocab_size = 5000):\n",
    "        \"\"\"Creates a new BPE tokenizer, with merge pairs found using the given\n",
    "        corpus file. The extraction of merge pairs stops when a vocabulary of \n",
    "        size vocab_size is reached.\"\"\"\n",
    "\n",
    "        # List of string pairs that should be merged when tokenizing\n",
    "        # Example: ('e', 't'), which means that 'et' is a possible subword\n",
    "        # Each string pair is mapped to an unique index number\n",
    "        # (corresponding to their position in the self.vocab list)\n",
    "        self.merge_pairs = {}\n",
    "\n",
    "        # We add as basic vocab all characters of the extended ASCII\n",
    "        self.vocab = [chr(i) for i in range(256)]\n",
    "\n",
    "        with open(train_corpus_file) as fd:\n",
    "\n",
    "            # We first read the corpus, split on white space, and counts the\n",
    "            # occurrences of each distinct word\n",
    "            print(\"Counting word occurrences in corpus %s\"%train_corpus_file, end=\"...\", flush=True)\n",
    "            text = fd.read()\n",
    "            vocabulary_counts = {}\n",
    "            for token in text.split():\n",
    "                vocabulary_counts[token] = vocabulary_counts.get(token, 0) + 1\n",
    "            print(\"Done\")\n",
    "\n",
    "            # We then iteratively extend the list of merge pairs until we\n",
    "            # reach the desired size. Note: to speed up the algorithm, we \n",
    "            # extract n merge pairs at each iteration\n",
    "            progress_bar = tqdm(total=vocab_size)\n",
    "            while len(self.vocab) < vocab_size:\n",
    "                most_common_pairs = self.get_most_common_pairs(vocabulary_counts)\n",
    "                for common_pair in most_common_pairs:\n",
    "                    self.merge_pairs[common_pair] = len(self.vocab)\n",
    "                    self.vocab.append(\"\".join(common_pair))\n",
    "                progress_bar.update(len(most_common_pairs))\n",
    "         #       print(\"Examples of new subwords:\", [\"\".join(pair) for pair in most_common_pairs][:10])\n",
    "            \n",
    "    def get_most_common_pairs(self, vocabulary_counts: Dict[str,int], \n",
    "                              n:int=200) -> List[Tuple[str,str]]:\n",
    "        \"\"\"Given a set of distinct words along with their corresponding number \n",
    "        of occurrences in the corpus, returns the n most frequent pairs of subwords.       \n",
    "        \"\"\"\n",
    "\n",
    "        # We count the frequencies of consecutive subwords in the vocabulary list\n",
    "        pair_freqs = {}\n",
    "        for word, word_count in vocabulary_counts.items():\n",
    "            subwords = self.tokenize_word(word)\n",
    "            for i in range(len(subwords)-1):\n",
    "                byte_pair = (subwords[i], subwords[i+1])\n",
    "                pair_freqs[byte_pair] = pair_freqs.get(byte_pair, 0) + word_count\n",
    "\n",
    "        # And return the most frequent ones\n",
    "        most_freq_pairs = sorted(pair_freqs.keys(), key=lambda x: pair_freqs[x])[::-1][:n]\n",
    "        return most_freq_pairs\n",
    "\n",
    "    def __call__(self, input:str, show_progress_bar=True) -> Iterator[str]:\n",
    "        \"\"\"Tokenizes a full text\"\"\"\n",
    "\n",
    "        # We first split into whitespace-separated tokens, and then in subwords\n",
    "        words = input.split()\n",
    "        for word in tqdm(words) if show_progress_bar else words:\n",
    "            subwords = self.tokenize_word(word)\n",
    "            for subword in subwords:\n",
    "                yield subword\n",
    "                \n",
    "\n",
    "    def tokenize_word(self, word):\n",
    "        \"\"\"Splits the word into subwords, according to the merge pairs \n",
    "        currently stored in self.merge_pairs.\"\"\"\n",
    "\n",
    "        # We start with a list of characters\n",
    "        # (+ a final character to denote the end of the word)    \n",
    "        splits = list(word) + [\" \"]\n",
    "\n",
    "        # We continue until there is nothing left to be merged\n",
    "        while len(splits)>=2:\n",
    "\n",
    "            # We extract consecutive subword pairs\n",
    "            pairs = [(splits[i], splits[i+1]) for i in range(len(splits)-1)]\n",
    "\n",
    "            # We find the \"best\" pair of subwords to merge -- that is, the one with the \n",
    "            # lowest position in the list of merge rules\n",
    "            best_pair_to_merge = min(pairs, key=lambda x: self.merge_pairs.get(x, np.inf))\n",
    "            if best_pair_to_merge in self.merge_pairs:\n",
    "\n",
    "                # We then merge the two subwords\n",
    "                for i in range(len(splits)-1):\n",
    "                    if (splits[i], splits[i+1]) == best_pair_to_merge:\n",
    "                        merged_subword = self.vocab[self.merge_pairs[best_pair_to_merge]]\n",
    "                        splits = splits[:i] + [merged_subword] + splits[i+2:]\n",
    "                        break\n",
    "            else:\n",
    "                break\n",
    "        return splits"
   ]
  },
  {
   "cell_type": "markdown",
   "metadata": {},
   "source": [
    "__Task 1.3__ (1 point): Learn the BPE tokenizer on the `ndt_train_lm.txt` corpus, and then apply this tokenizer on `ndt_test_lm.txt`. Print the number of tokens and types (distinct subwords) obtained by this tokenizer on the test data. How do those numbers compare to the ones obtained with the basic tokenizer you had implemented earlier ? "
   ]
  },
  {
   "cell_type": "code",
   "execution_count": null,
   "metadata": {},
   "outputs": [],
   "source": [
    "#  Learn the BPE tokenizer on the `ndt_train_lm.txt` corpus, and then apply this tokenizer on `ndt_test_lm.txt`. Print the number of tokens and types (distinct subwords) obtained by this tokenizer on the test data. How do those numbers compare to the ones obtained with the basic tokenizer you had implemented earlier ? \n",
    "\n",
    "bpe_tokenizer = BPETokenizer('ndt_train_lm.txt')\n"
   ]
  },
  {
   "cell_type": "markdown",
   "metadata": {},
   "source": [
    "__Task 1.4__ (2 points): The current BPE implementation is that it treats all characters in the same manner. A rather inconvenient side effect is that letters may be merged together with punctuation markers (like 'ing', ',' --> 'ing,'), if they are not separated by white space. Modify the implementation of the BPE algorithm above to prevent punctuation markers to be merged with letters. "
   ]
  },
  {
   "cell_type": "code",
   "execution_count": null,
   "metadata": {},
   "outputs": [],
   "source": []
  },
  {
   "cell_type": "markdown",
   "metadata": {},
   "source": [
    "__Task 1.5__ (_optional, 2 extra points_): In a [tweet](https://x.com/karpathy/status/1759996551378940395) published earlier this year, the well-known AI researcher Andrej Karpathy stressed that many of the current limitations of Large Language Models are actually a product of the tokenisation step. Explain at least 4 of the problems he mentioned in his tweet (you can of course search online, or watch Karpathy's own video lecture on tokenization)."
   ]
  },
  {
   "cell_type": "code",
   "execution_count": null,
   "metadata": {},
   "outputs": [],
   "source": []
  },
  {
   "cell_type": "markdown",
   "metadata": {},
   "source": [
    "## Part 2: N-gram language models\n",
    "\n",
    "We will now train simple N-gram language models on the NDT corpus, using the tokenizers we have developed in Part 1.\n",
    "\n",
    "Here is the skeleton of the code:"
   ]
  },
  {
   "cell_type": "code",
   "execution_count": null,
   "metadata": {},
   "outputs": [],
   "source": [
    "import numpy as np\n",
    "from abc import abstractmethod\n",
    "\n",
    "class LanguageModel:\n",
    "    \"\"\"Generic class for running operations on language models, using a BPE tokenizer\"\"\"\n",
    "\n",
    "    def __init__(self, tokenizer: BPETokenizer):\n",
    "        \"\"\"Build an abstract language model using the provided tokenizer\"\"\"\n",
    "        self.tokenizer = tokenizer\n",
    " \n",
    "    @abstractmethod\n",
    "    def predict(self, context_tokens: List[str]):\n",
    "        \"\"\"Given a list of context tokens (=previous tokens), returns a dictionary\n",
    "          mapping each possible token to its probability\"\"\"\n",
    "        raise NotImplementedError()\n",
    "    \n",
    "    @abstractmethod\n",
    "    def get_perplexity(self, text: str):\n",
    "        \"\"\"Computes the perplexity of the given text according to the LM\"\"\"\n",
    "\n",
    "        print(\"Tokenising input text:\")\n",
    "        tokens = list(self.tokenizer(text))\n",
    "        \n",
    "        print(\"Computing perplexity:\")\n",
    "        log_probs = 0\n",
    "        for i in tqdm(range(len(tokens))):\n",
    "            context_tokens = [\"<s>\"] + tokens[:i]\n",
    "            predict_distrib = self.predict(context_tokens)\n",
    "\n",
    "            # We add the log-probabilities\n",
    "            log_probs += np.log(predict_distrib[tokens[i]])\n",
    "            \n",
    "        perplexity = np.exp(-log_probs/len(tokens))\n",
    "        return perplexity\n",
    "\n",
    "class NGramLanguageModel(LanguageModel):\n",
    "    \"\"\"Representation of a N-gram-based language model\"\"\"\n",
    "\n",
    "    def __init__(self, training_corpus_file: str, tokenizer:BPETokenizer, ngram_size:int=3,\n",
    "                  alpha_smoothing:float=1):\n",
    "        \"\"\"Initialize the N-gram model with:\n",
    "        - a file path to a training corpus to estimate the N-gram probabilities\n",
    "        - an already learned BPE tokenizer\n",
    "        - an N-gram size\n",
    "        - a smoothing parameter (Laplace smoothing)\"\"\"\n",
    "        \n",
    "        LanguageModel.__init__(self, tokenizer)\n",
    "        self.ngram_size = ngram_size\n",
    "        \n",
    "        # We define a simple backoff distribution (here just a uniform distribution)\n",
    "        self.default_distrib = {token:1/len(tokenizer.vocab) for token in tokenizer.vocab}\n",
    "\n",
    "        # Dictionary mapping a context (for instance the two preceding words if ngram_size=3)\n",
    "        # to another dictionary specifying the probability of each possible word in the \n",
    "        # vocabulary. The context should be a tuple of tokens.\n",
    "        self.ngram_probs = {}\n",
    "        with open(training_corpus_file) as fd:   \n",
    "\n",
    "            # based on the training corpus, tokenizer, ngram-size and smoothing parameter,\n",
    "            # fill the self.ngram_probs with the correct N-gram probabilities  \n",
    "            raise NotImplementedError()\n",
    " \n",
    "\n",
    "    def predict(self, context_tokens: List[str]):\n",
    "        \"\"\"Given a list of preceding tokens, returns the probability distribution \n",
    "        over the next possible token.\"\"\"\n",
    "\n",
    "        # We restrict the contextual tokens to (N-1) tokens\n",
    "        context_tokens = tuple(context_tokens[-self.ngram_size+1:])\n",
    "\n",
    "        # If the contextual tokens were indeed observed in the corpus, simply\n",
    "        # returns the precomputed probabilities\n",
    "        if context_tokens in self.ngram_probs:\n",
    "            return self.ngram_probs[context_tokens]\n",
    "        \n",
    "        # Otherwise, we return a uniform distribution over possible tokens\n",
    "        else:\n",
    "            return self.default_distrib"
   ]
  },
  {
   "cell_type": "markdown",
   "metadata": {},
   "source": [
    "__Task 2.1__ (6 points): Complete the initialization method `__init__` to estimate the correct N-gram probabilities (with smoothing) based on the corpus. Don't worry about making your implementation super-efficient (although you can if you wish)."
   ]
  },
  {
   "cell_type": "code",
   "execution_count": 7,
   "metadata": {},
   "outputs": [
    {
     "ename": "IndentationError",
     "evalue": "expected an indented block after 'with' statement on line 19 (584947714.py, line 23)",
     "output_type": "error",
     "traceback": [
      "\u001b[0;36m  Cell \u001b[0;32mIn[7], line 23\u001b[0;36m\u001b[0m\n\u001b[0;31m    setattr(NGramLanguageModel, '__init__', __init__)\u001b[0m\n\u001b[0m                                                     ^\u001b[0m\n\u001b[0;31mIndentationError\u001b[0m\u001b[0;31m:\u001b[0m expected an indented block after 'with' statement on line 19\n"
     ]
    }
   ],
   "source": [
    "from collections import defaultdict, Counter\n",
    "\n",
    "def __init__(self, training_corpus_file: str, tokenizer:BPETokenizer, ngram_size:int=2, alpha_smoothing=0.1):\n",
    "        \"\"\"Initialize the N-gram model with:\n",
    "        - a file path to a training corpus to estimate the N-gram probabilities\n",
    "        - an already learned BPE tokenizer\n",
    "        - an N-gram size\n",
    "        - a smoothing parameter (Laplace smoothing)\"\"\"\n",
    "        LanguageModel.__init__(self, tokenizer)\n",
    "        self.ngram_size = ngram_size\n",
    "        \n",
    "        # We define a simple backoff distribution (here just a uniform distribution)\n",
    "        self.default_distrib = {token:1/len(tokenizer.vocab) for token in tokenizer.vocab}\n",
    "\n",
    "        # Dictionary mapping a context (for instance the two preceding words if ngram_size=3)\n",
    "        # to another dictionary specifying the probability of each possible word in the \n",
    "        # vocabulary. The context should be a tuple of tokens.\n",
    "        self.ngram_probs = {}\n",
    "        with open(training_corpus_file) as fd:  \n",
    "\n",
    "            # ADD HERE YOUR CODE TO FILL THE VALUES IN self.ngram_probs\n",
    "\n",
    "setattr(NGramLanguageModel, '__init__', __init__)"
   ]
  },
  {
   "cell_type": "markdown",
   "metadata": {},
   "source": [
    "__Task 2.2__ (1 point): Train your language model in `ndt_train_lm.txt`, and compute its perplexity on the test data in `ndt_test_lm.txt`. The perplexity can be computed by calling the method `get_perplexity`. <br>\n",
    "(_Note_: if the training takes too much time, feel free to stop the process after looking at a fraction of the corpus, at least while you are testing/developing your training setup)."
   ]
  },
  {
   "cell_type": "code",
   "execution_count": null,
   "metadata": {},
   "outputs": [],
   "source": []
  },
  {
   "cell_type": "markdown",
   "metadata": {},
   "source": [
    "__Task 2.3__ (_optional_, 4 bonus points): Improve the language model you have just developed. You can choose to focus on improving your model through a backoff mechanism, interpolation, or both. Once you are done, compute the perplexity again on the test corpus to ensure the language model has indeed improved."
   ]
  },
  {
   "cell_type": "code",
   "execution_count": null,
   "metadata": {},
   "outputs": [],
   "source": []
  },
  {
   "cell_type": "markdown",
   "metadata": {},
   "source": [
    "## Part 3: Text classification\n",
    "\n",
    "We will finally use the texts from the Norwegian Dependency Treebank for a classification task -- more precisely to determine whether a sentence is likely to be written in Bokmål or Nynorsk. To this end, we will use a simple bag-of-word setup (or more precisely a bag-of-_subwords_, since we will rely on the subwords extracted using BPE) along with a logistic regression model. As there is only two, mutually exclusive classes, you can view the task as a binary classification problem. \n",
    "\n",
    "The training data is found in `ndt_train_class.txt` and simply consists of a list of sentences, each sentence being mapped to a language form (Bokmål: `nob` or Nynorsk: `nno`). The language form is written at the end of each line, separated by a `\\t`. Note the training examples are currently _not_ shuffled.\n",
    "\n",
    "To train and apply your classifier, the easiest is to use the [`LogisticRegression`](https://scikit-learn.org/stable/modules/generated/sklearn.linear_model.LogisticRegression.html) model from `scikit-learn`."
   ]
  },
  {
   "cell_type": "markdown",
   "metadata": {},
   "source": [
    "__Task 3.1__ (2 points): Create a `N x V` matrix in which each line corresponds to a training example (out of `N` training instances) and each row corresponds to an individual feature, in this case the presence/absence of a particular subword in the sentence. In other words, there should be a total of `V` features, where `V` is the total size of the vocabulary for our BPE tokenizer. Also create a vector of length `N` with a value of `1` if the sentence was marked as Nynorsk, and 0 if is was marked as Bokmål. "
   ]
  },
  {
   "cell_type": "code",
   "execution_count": null,
   "metadata": {},
   "outputs": [],
   "source": []
  },
  {
   "cell_type": "markdown",
   "metadata": {},
   "source": [
    "__Task 3.2__ (2 points): Use the data matrix you have just filled to train a logistic regression model (see the documentation on [`LogisticRegression`](https://scikit-learn.org/stable/modules/generated/sklearn.linear_model.LogisticRegression.html) for more details). We recommend to use the `liblinear` solver. "
   ]
  },
  {
   "cell_type": "code",
   "execution_count": null,
   "metadata": {},
   "outputs": [],
   "source": []
  },
  {
   "cell_type": "markdown",
   "metadata": {},
   "source": [
    "__Task 3.3__ (1 point): Now apply the learned logistic regression model to the test set in `ndt_test_class.txt`, and evaluate its performance in terms of accuracy, recall and precision (you can use the functionalities in `sklearn.metrics` to compute those easily)."
   ]
  },
  {
   "cell_type": "code",
   "execution_count": null,
   "metadata": {},
   "outputs": [],
   "source": []
  },
  {
   "cell_type": "markdown",
   "metadata": {},
   "source": [
    "__Task 3.4__ (2 points): Inspect the weights learned by your logistic regression model (in `coef_`) and find the 5 subwords that contribute _the most_ to the classification of the sentence in Nynorsk. Also find the 5 subwords that contribute the most to the classification of the sentence in Bokmål. Do those weights make sense, according to what you know about Bokmål and Nynorsk ? "
   ]
  },
  {
   "cell_type": "code",
   "execution_count": null,
   "metadata": {},
   "outputs": [],
   "source": []
  }
 ],
 "metadata": {
  "kernelspec": {
   "display_name": "base",
   "language": "python",
   "name": "python3"
  },
  "language_info": {
   "codemirror_mode": {
    "name": "ipython",
    "version": 3
   },
   "file_extension": ".py",
   "mimetype": "text/x-python",
   "name": "python",
   "nbconvert_exporter": "python",
   "pygments_lexer": "ipython3",
   "version": "3.12.3"
  }
 },
 "nbformat": 4,
 "nbformat_minor": 2
}
